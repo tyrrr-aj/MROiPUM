{
 "cells": [
  {
   "cell_type": "code",
   "execution_count": 13,
   "metadata": {},
   "outputs": [],
   "source": [
    "%matplotlib inline\n",
    "\n",
    "import zipfile\n",
    "import pandas as pd\n",
    "from matplotlib import pyplot as plt\n",
    "import numpy as np"
   ]
  },
  {
   "cell_type": "code",
   "execution_count": 14,
   "metadata": {},
   "outputs": [],
   "source": [
    "with zipfile.ZipFile(\"data/fashion-mnist.zip\") as z:\n",
    "    with z.open(\"fashion-mnist_train.csv\") as f:\n",
    "        train_df = pd.read_csv(f)\n",
    "\n",
    "    with z.open(\"fashion-mnist_test.csv\") as f:\n",
    "        test_df = pd.read_csv(f)\n",
    "\n",
    "train = train_df.drop('label', axis='columns').to_numpy() / 255.0\n",
    "test = test_df.drop('label', axis='columns').to_numpy() / 255.0"
   ]
  },
  {
   "cell_type": "code",
   "execution_count": 15,
   "metadata": {},
   "outputs": [],
   "source": [
    "def print_images(images, title):\n",
    "    fig, axs = plt.subplots(ncols=5, figsize=(13,4))\n",
    "    \n",
    "    for i, image in enumerate(images):\n",
    "        axs[i].imshow(image, cmap='gray', vmin=0, vmax=255)\n",
    "        axs[i].xaxis.set_visible(False)\n",
    "        axs[i].yaxis.set_visible(False)\n",
    "\n",
    "    fig.tight_layout()\n",
    "    fig.suptitle(title, fontsize=15)\n",
    "    plt.show()"
   ]
  },
  {
   "cell_type": "code",
   "execution_count": 55,
   "metadata": {},
   "outputs": [],
   "source": [
    "from matplotlib import pyplot as plt\n",
    "import numpy as np\n",
    "from keras.layers import Input, Dense, Lambda, Conv2D, MaxPooling2D, UpSampling2D, Reshape\n",
    "from keras.models import Model, model_from_json\n",
    "from keras import backend as K\n",
    "from keras import objectives"
   ]
  },
  {
   "cell_type": "code",
   "execution_count": 150,
   "metadata": {},
   "outputs": [],
   "source": [
    "def sampling(args):\n",
    "    z_mean, z_variance = args\n",
    "    epsilon = K.random_normal(shape=(batch_size, dest_dim))\n",
    "    \n",
    "    return z_mean + K.exp(z_variance) * epsilon\n",
    "\n",
    "def get_intermediate_dims(initial_dim, dest_dim):\n",
    "    intermediate_dim_1 = 16\n",
    "    intermediate_dim_2 = 8\n",
    "    intermediate_dim_3 = 150\n",
    "    \n",
    "    return intermediate_dim_1, intermediate_dim_2, intermediate_dim_3\n",
    "\n",
    "def create_architecture(batch_size,\n",
    "                        initial_dim,\n",
    "                        intermediate_dim_1,\n",
    "                        intermediate_dim_2,\n",
    "                        intermediate_dim_3,\n",
    "                        dest_dim):\n",
    "    input_layer = Input(batch_shape=(batch_size, initial_dim[0], initial_dim[1], 1))\n",
    "    \n",
    "    encoder_l1 = Conv2D(intermediate_dim_1, (3, 3), padding='same', activation='relu', data_format='channels_last')(input_layer)\n",
    "    encoder_l2 = MaxPooling2D((2, 2), padding='same')(encoder_l1)\n",
    "    encoder_l3 = Conv2D(intermediate_dim_2, (3, 3), padding='same', activation='relu', data_format='channels_last')(encoder_l2)\n",
    "    encoder_l4 = MaxPooling2D((2, 2), padding='same')(encoder_l3)\n",
    "    encoder_l5 = Reshape((7*7*8,))(encoder_l4)\n",
    "    encoder_l6 = Dense(intermediate_dim_3, activation='relu')(encoder_l5)\n",
    "\n",
    "    z_mean = Dense(dest_dim)(encoder_l6)\n",
    "    z_variance = Dense(dest_dim)(encoder_l6)\n",
    "\n",
    "    reduced = Lambda(sampling)([z_mean, z_variance])\n",
    "\n",
    "    decoder_l1 = Dense(intermediate_dim_3, activation='relu')(reduced)\n",
    "    decoder_l2 = Dense(7*7*8, activation='relu')(decoder_l1)\n",
    "    decoder_l3 = Reshape((7, 7, 8))(decoder_l2)\n",
    "    decoder_l4 = Conv2D(intermediate_dim_2, (3, 3), padding='same', activation='relu', data_format='channels_last')(decoder_l3)\n",
    "    decoder_l5 = UpSampling2D((2,2))(decoder_l4)\n",
    "    decoder_l6 = Conv2D(intermediate_dim_1, (3, 3), padding='same', activation='relu', data_format='channels_last')(decoder_l5)\n",
    "    decoder_l7 = UpSampling2D((2,2))(decoder_l6)\n",
    "    \n",
    "    decoder_l8 = Conv2D(1, (3,3), activation='sigmoid', data_format='channels_last', padding='same')(decoder_l7)\n",
    "    decoded = Reshape((initial_dim[0] * initial_dim[1],))(decoder_l8)\n",
    "    \n",
    "    return input_layer, reduced, decoded, z_mean, z_variance\n",
    "\n",
    "def vae_loss(x, x_decoded_mean):\n",
    "    xent_loss = objectives.binary_crossentropy(x, x_decoded_mean)\n",
    "    kl_loss = - 0.5 * K.mean(1 + z_variance - K.square(z_mean) - K.exp(z_variance), axis=-1)\n",
    "    return xent_loss + kl_loss\n",
    "\n",
    "def prepare_models(input_layer, reduced, decoded):\n",
    "    end_to_end = Model(input_layer, decoded)\n",
    "    encoder = Model(input_layer, reduced)\n",
    "    \n",
    "    return end_to_end, encoder"
   ]
  },
  {
   "cell_type": "code",
   "execution_count": 151,
   "metadata": {},
   "outputs": [],
   "source": [
    "def create_model(batch_size, initial_dim, dest_dim):\n",
    "    intermediate_dim_1, intermediate_dim_2, intermediate_dim_3 = get_intermediate_dims(initial_dim, dest_dim)\n",
    "    input_layer, reduced, decoded, z_mean, z_variance = create_architecture(batch_size,\n",
    "                                                                            initial_dim,\n",
    "                                                                            intermediate_dim_1,\n",
    "                                                                            intermediate_dim_2,\n",
    "                                                                            intermediate_dim_3,\n",
    "                                                                            dest_dim\n",
    "                                                                           )\n",
    "    end_to_end, encoder = prepare_models(input_layer, reduced, decoded)\n",
    "    return end_to_end, encoder, z_mean, z_variance"
   ]
  },
  {
   "cell_type": "code",
   "execution_count": 44,
   "metadata": {},
   "outputs": [],
   "source": [
    "def load_model(model_name):\n",
    "    with open(f'models/{model_name}.json') as file:\n",
    "        loaded_json = file.read()\n",
    "    return model_from_json(loaded_json)\n",
    "\n",
    "def load_weights(model, model_name, dest_dim, epochs):\n",
    "    model.load_weights(f'weights/{model_name}_e{epochs}_d{dest_dim}.h5')\n",
    "\n",
    "def save_model(model, filename):\n",
    "    model_json = model.to_json()\n",
    "    with open(f'models/{filename}.json', 'w') as file:\n",
    "        file.write(model_json)\n",
    "    \n",
    "def save_weights(model, filename):\n",
    "    model.save_weights(f'weights/{filename}.h5')"
   ]
  },
  {
   "cell_type": "code",
   "execution_count": 58,
   "metadata": {},
   "outputs": [],
   "source": [
    "batch_size = 10000\n",
    "initial_dim = (28, 28)\n",
    "dest_dim = 15"
   ]
  },
  {
   "cell_type": "code",
   "execution_count": 153,
   "metadata": {},
   "outputs": [
    {
     "name": "stdout",
     "output_type": "stream",
     "text": [
      "layer 0 (input_35): input_shape = (10000, 28, 28, 1), output_shape = (10000, 28, 28, 1)\n",
      "layer 1 (conv2d_105): input_shape = (10000, 28, 28, 1), output_shape = (10000, 28, 28, 16)\n",
      "layer 2 (max_pooling2d_56): input_shape = (10000, 28, 28, 16), output_shape = (10000, 14, 14, 16)\n",
      "layer 3 (conv2d_106): input_shape = (10000, 14, 14, 16), output_shape = (10000, 14, 14, 8)\n",
      "layer 4 (max_pooling2d_57): input_shape = (10000, 14, 14, 8), output_shape = (10000, 7, 7, 8)\n",
      "layer 5 (reshape_56): input_shape = (10000, 7, 7, 8), output_shape = (10000, 392)\n",
      "layer 6 (dense_127): input_shape = (10000, 392), output_shape = (10000, 150)\n",
      "layer 7 (dense_128): input_shape = (10000, 150), output_shape = (10000, 15)\n",
      "layer 8 (dense_129): input_shape = (10000, 150), output_shape = (10000, 15)\n",
      "layer 9 (lambda_21): input_shape = [(10000, 15), (10000, 15)], output_shape = (10000, 15)\n",
      "layer 10 (dense_130): input_shape = (10000, 15), output_shape = (10000, 150)\n",
      "layer 11 (dense_131): input_shape = (10000, 150), output_shape = (10000, 392)\n",
      "layer 12 (reshape_57): input_shape = (10000, 392), output_shape = (10000, 7, 7, 8)\n",
      "layer 13 (conv2d_107): input_shape = (10000, 7, 7, 8), output_shape = (10000, 7, 7, 8)\n",
      "layer 14 (up_sampling2d_34): input_shape = (10000, 7, 7, 8), output_shape = (10000, 14, 14, 8)\n",
      "layer 15 (conv2d_108): input_shape = (10000, 14, 14, 8), output_shape = (10000, 14, 14, 16)\n",
      "layer 16 (up_sampling2d_35): input_shape = (10000, 14, 14, 16), output_shape = (10000, 28, 28, 16)\n",
      "layer 17 (conv2d_109): input_shape = (10000, 28, 28, 16), output_shape = (10000, 28, 28, 1)\n",
      "layer 18 (reshape_58): input_shape = (10000, 28, 28, 1), output_shape = (10000, 784)\n"
     ]
    }
   ],
   "source": [
    "for i, layer in enumerate(end_to_end.layers):\n",
    "    print(f'layer {i} ({layer.name}): input_shape = {layer.input_shape}, output_shape = {layer.output_shape}')"
   ]
  },
  {
   "cell_type": "code",
   "execution_count": 152,
   "metadata": {
    "scrolled": true
   },
   "outputs": [],
   "source": [
    "end_to_end, encoder, z_mean, z_variance = create_model(batch_size, initial_dim, dest_dim)\n",
    "\n",
    "end_to_end.compile(optimizer='rmsprop', loss=vae_loss)"
   ]
  },
  {
   "cell_type": "code",
   "execution_count": 12,
   "metadata": {},
   "outputs": [],
   "source": [
    "load_weights(end_to_end, 'end_to_end_2hl', dest_dim, 100)"
   ]
  },
  {
   "cell_type": "code",
   "execution_count": 162,
   "metadata": {},
   "outputs": [
    {
     "name": "stdout",
     "output_type": "stream",
     "text": [
      "Train on 60000 samples, validate on 10000 samples\n",
      "Epoch 1/100\n",
      "60000/60000 [==============================] - 56s 930us/step - loss: 0.4460 - val_loss: 0.4467\n",
      "Epoch 2/100\n",
      "60000/60000 [==============================] - 56s 925us/step - loss: 0.4464 - val_loss: 0.4458\n",
      "Epoch 3/100\n",
      "60000/60000 [==============================] - 54s 898us/step - loss: 0.4467 - val_loss: 0.4454\n",
      "Epoch 4/100\n",
      "60000/60000 [==============================] - 54s 902us/step - loss: 0.4458 - val_loss: 0.4476\n",
      "Epoch 5/100\n",
      "60000/60000 [==============================] - 54s 897us/step - loss: 0.4468 - val_loss: 0.4453\n",
      "Epoch 6/100\n",
      "60000/60000 [==============================] - 53s 885us/step - loss: 0.4464 - val_loss: 0.4460\n",
      "Epoch 7/100\n",
      "60000/60000 [==============================] - 53s 884us/step - loss: 0.4459 - val_loss: 0.4464\n",
      "Epoch 8/100\n",
      "60000/60000 [==============================] - 54s 899us/step - loss: 0.4463 - val_loss: 0.4456\n",
      "Epoch 9/100\n",
      "60000/60000 [==============================] - 54s 892us/step - loss: 0.4462 - val_loss: 0.4448\n",
      "Epoch 10/100\n",
      "60000/60000 [==============================] - 55s 912us/step - loss: 0.4462 - val_loss: 0.4470\n",
      "Epoch 11/100\n",
      "60000/60000 [==============================] - 53s 891us/step - loss: 0.4454 - val_loss: 0.4450\n",
      "Epoch 12/100\n",
      "60000/60000 [==============================] - 54s 901us/step - loss: 0.4468 - val_loss: 0.4448\n",
      "Epoch 13/100\n",
      "60000/60000 [==============================] - 54s 897us/step - loss: 0.4459 - val_loss: 0.4451\n",
      "Epoch 14/100\n",
      "60000/60000 [==============================] - 53s 878us/step - loss: 0.4460 - val_loss: 0.4469\n",
      "Epoch 15/100\n",
      "60000/60000 [==============================] - 53s 880us/step - loss: 0.4458 - val_loss: 0.4443\n",
      "Epoch 16/100\n",
      "60000/60000 [==============================] - 53s 878us/step - loss: 0.4456 - val_loss: 0.4462\n",
      "Epoch 17/100\n",
      "60000/60000 [==============================] - 53s 885us/step - loss: 0.4461 - val_loss: 0.4461\n",
      "Epoch 18/100\n",
      "60000/60000 [==============================] - 53s 883us/step - loss: 0.4454 - val_loss: 0.4453\n",
      "Epoch 19/100\n",
      "60000/60000 [==============================] - 53s 886us/step - loss: 0.4465 - val_loss: 0.4448\n",
      "Epoch 20/100\n",
      "60000/60000 [==============================] - 53s 883us/step - loss: 0.4458 - val_loss: 0.4458\n",
      "Epoch 21/100\n",
      "60000/60000 [==============================] - 53s 881us/step - loss: 0.4454 - val_loss: 0.4461\n",
      "Epoch 22/100\n",
      "60000/60000 [==============================] - 53s 885us/step - loss: 0.4459 - val_loss: 0.4445\n",
      "Epoch 23/100\n",
      "60000/60000 [==============================] - 54s 899us/step - loss: 0.4466 - val_loss: 0.4454\n",
      "Epoch 24/100\n",
      "60000/60000 [==============================] - 53s 891us/step - loss: 0.4448 - val_loss: 0.4453\n",
      "Epoch 25/100\n",
      "60000/60000 [==============================] - 53s 886us/step - loss: 0.4462 - val_loss: 0.4448\n",
      "Epoch 26/100\n",
      "60000/60000 [==============================] - 53s 880us/step - loss: 0.4455 - val_loss: 0.4453\n",
      "Epoch 27/100\n",
      "60000/60000 [==============================] - 53s 880us/step - loss: 0.4453 - val_loss: 0.4444\n",
      "Epoch 28/100\n",
      "60000/60000 [==============================] - 53s 879us/step - loss: 0.4455 - val_loss: 0.4446\n",
      "Epoch 29/100\n",
      "60000/60000 [==============================] - 53s 888us/step - loss: 0.4449 - val_loss: 0.4472\n",
      "Epoch 30/100\n",
      "60000/60000 [==============================] - 53s 890us/step - loss: 0.4458 - val_loss: 0.4436\n",
      "Epoch 31/100\n",
      "60000/60000 [==============================] - 53s 884us/step - loss: 0.4453 - val_loss: 0.4455\n",
      "Epoch 32/100\n",
      "60000/60000 [==============================] - 53s 882us/step - loss: 0.4454 - val_loss: 0.4448\n",
      "Epoch 33/100\n",
      "60000/60000 [==============================] - 53s 880us/step - loss: 0.4451 - val_loss: 0.4445\n",
      "Epoch 34/100\n",
      "60000/60000 [==============================] - 53s 880us/step - loss: 0.4461 - val_loss: 0.4443\n",
      "Epoch 35/100\n",
      "60000/60000 [==============================] - 54s 899us/step - loss: 0.4445 - val_loss: 0.4454\n",
      "Epoch 36/100\n",
      "60000/60000 [==============================] - 53s 889us/step - loss: 0.4459 - val_loss: 0.4437\n",
      "Epoch 37/100\n",
      "60000/60000 [==============================] - 53s 879us/step - loss: 0.4451 - val_loss: 0.4449\n",
      "Epoch 38/100\n",
      "60000/60000 [==============================] - 53s 880us/step - loss: 0.4450 - val_loss: 0.4457\n",
      "Epoch 39/100\n",
      "60000/60000 [==============================] - 53s 880us/step - loss: 0.4460 - val_loss: 0.4441\n",
      "Epoch 40/100\n",
      "60000/60000 [==============================] - 53s 881us/step - loss: 0.4448 - val_loss: 0.4447\n",
      "Epoch 41/100\n",
      "60000/60000 [==============================] - 53s 887us/step - loss: 0.4454 - val_loss: 0.4453\n",
      "Epoch 42/100\n",
      "60000/60000 [==============================] - 53s 882us/step - loss: 0.4450 - val_loss: 0.4435\n",
      "Epoch 43/100\n",
      "60000/60000 [==============================] - 53s 880us/step - loss: 0.4456 - val_loss: 0.4452\n",
      "Epoch 44/100\n",
      "60000/60000 [==============================] - 53s 883us/step - loss: 0.4448 - val_loss: 0.4448\n",
      "Epoch 45/100\n",
      "60000/60000 [==============================] - 53s 881us/step - loss: 0.4450 - val_loss: 0.4438\n",
      "Epoch 46/100\n",
      "60000/60000 [==============================] - 53s 887us/step - loss: 0.4450 - val_loss: 0.4452\n",
      "Epoch 47/100\n",
      "60000/60000 [==============================] - 53s 887us/step - loss: 0.4451 - val_loss: 0.4458\n",
      "Epoch 48/100\n",
      "60000/60000 [==============================] - 53s 884us/step - loss: 0.4452 - val_loss: 0.4432\n",
      "Epoch 49/100\n",
      "60000/60000 [==============================] - 53s 887us/step - loss: 0.4449 - val_loss: 0.4448\n",
      "Epoch 50/100\n",
      "60000/60000 [==============================] - 53s 884us/step - loss: 0.4449 - val_loss: 0.4449\n",
      "Epoch 51/100\n",
      "60000/60000 [==============================] - 53s 881us/step - loss: 0.4448 - val_loss: 0.4439\n",
      "Epoch 52/100\n",
      "60000/60000 [==============================] - 54s 892us/step - loss: 0.4450 - val_loss: 0.4445\n",
      "Epoch 53/100\n",
      "60000/60000 [==============================] - 53s 882us/step - loss: 0.4443 - val_loss: 0.4447\n",
      "Epoch 54/100\n",
      "60000/60000 [==============================] - 53s 878us/step - loss: 0.4449 - val_loss: 0.4442\n",
      "Epoch 55/100\n",
      "60000/60000 [==============================] - 53s 883us/step - loss: 0.4450 - val_loss: 0.4438\n",
      "Epoch 56/100\n",
      "60000/60000 [==============================] - 53s 879us/step - loss: 0.4448 - val_loss: 0.4451\n",
      "Epoch 57/100\n",
      "60000/60000 [==============================] - 53s 883us/step - loss: 0.4442 - val_loss: 0.4435\n",
      "Epoch 58/100\n",
      "60000/60000 [==============================] - 53s 885us/step - loss: 0.4451 - val_loss: 0.4440\n",
      "Epoch 59/100\n",
      "60000/60000 [==============================] - 54s 900us/step - loss: 0.4441 - val_loss: 0.4451\n",
      "Epoch 60/100\n",
      "60000/60000 [==============================] - 53s 887us/step - loss: 0.4451 - val_loss: 0.4434\n",
      "Epoch 61/100\n",
      "60000/60000 [==============================] - 53s 882us/step - loss: 0.4443 - val_loss: 0.4434\n",
      "Epoch 62/100\n",
      "60000/60000 [==============================] - 53s 879us/step - loss: 0.4442 - val_loss: 0.4455\n",
      "Epoch 63/100\n",
      "60000/60000 [==============================] - 54s 893us/step - loss: 0.4453 - val_loss: 0.4433\n",
      "Epoch 64/100\n",
      "60000/60000 [==============================] - 54s 892us/step - loss: 0.4440 - val_loss: 0.4451\n",
      "Epoch 65/100\n",
      "60000/60000 [==============================] - 53s 879us/step - loss: 0.4452 - val_loss: 0.4441\n",
      "Epoch 66/100\n",
      "60000/60000 [==============================] - 53s 880us/step - loss: 0.4442 - val_loss: 0.4436\n",
      "Epoch 67/100\n",
      "60000/60000 [==============================] - 53s 889us/step - loss: 0.4447 - val_loss: 0.4439\n",
      "Epoch 68/100\n",
      "60000/60000 [==============================] - 53s 884us/step - loss: 0.4433 - val_loss: 0.4450\n",
      "Epoch 69/100\n",
      "60000/60000 [==============================] - 55s 923us/step - loss: 0.4456 - val_loss: 0.4425\n",
      "Epoch 70/100\n",
      "60000/60000 [==============================] - 54s 893us/step - loss: 0.4443 - val_loss: 0.4445\n",
      "Epoch 71/100\n",
      "60000/60000 [==============================] - 53s 888us/step - loss: 0.4443 - val_loss: 0.4440\n",
      "Epoch 72/100\n",
      "60000/60000 [==============================] - 53s 881us/step - loss: 0.4440 - val_loss: 0.4429\n",
      "Epoch 73/100\n",
      "60000/60000 [==============================] - 53s 881us/step - loss: 0.4444 - val_loss: 0.4439\n",
      "Epoch 74/100\n",
      "60000/60000 [==============================] - 53s 882us/step - loss: 0.4435 - val_loss: 0.4442\n",
      "Epoch 75/100\n",
      "60000/60000 [==============================] - 53s 887us/step - loss: 0.4450 - val_loss: 0.4427\n"
     ]
    },
    {
     "name": "stdout",
     "output_type": "stream",
     "text": [
      "Epoch 76/100\n",
      "60000/60000 [==============================] - 53s 882us/step - loss: 0.4441 - val_loss: 0.4436\n",
      "Epoch 77/100\n",
      "60000/60000 [==============================] - 52s 875us/step - loss: 0.4440 - val_loss: 0.4447\n",
      "Epoch 78/100\n",
      "60000/60000 [==============================] - 54s 906us/step - loss: 0.4443 - val_loss: 0.4427\n",
      "Epoch 79/100\n",
      "60000/60000 [==============================] - 53s 884us/step - loss: 0.4445 - val_loss: 0.4438\n",
      "Epoch 80/100\n",
      "60000/60000 [==============================] - 54s 900us/step - loss: 0.4436 - val_loss: 0.4435\n",
      "Epoch 81/100\n",
      "60000/60000 [==============================] - 53s 882us/step - loss: 0.4444 - val_loss: 0.4438\n",
      "Epoch 82/100\n",
      "60000/60000 [==============================] - 53s 880us/step - loss: 0.4440 - val_loss: 0.4427\n",
      "Epoch 83/100\n",
      "60000/60000 [==============================] - 53s 877us/step - loss: 0.4435 - val_loss: 0.4445\n",
      "Epoch 84/100\n",
      "60000/60000 [==============================] - 52s 873us/step - loss: 0.4448 - val_loss: 0.4419\n",
      "Epoch 85/100\n",
      "60000/60000 [==============================] - 52s 870us/step - loss: 0.4437 - val_loss: 0.4446\n",
      "Epoch 86/100\n",
      "60000/60000 [==============================] - 53s 887us/step - loss: 0.4438 - val_loss: 0.4431\n",
      "Epoch 87/100\n",
      "60000/60000 [==============================] - 53s 875us/step - loss: 0.4440 - val_loss: 0.4433\n",
      "Epoch 88/100\n",
      "60000/60000 [==============================] - 52s 874us/step - loss: 0.4440 - val_loss: 0.4434\n",
      "Epoch 89/100\n",
      "60000/60000 [==============================] - 53s 876us/step - loss: 0.4436 - val_loss: 0.4437\n",
      "Epoch 90/100\n",
      "60000/60000 [==============================] - 52s 874us/step - loss: 0.4440 - val_loss: 0.4422\n",
      "Epoch 91/100\n",
      "60000/60000 [==============================] - 53s 880us/step - loss: 0.4437 - val_loss: 0.4438\n",
      "Epoch 92/100\n",
      "60000/60000 [==============================] - 54s 896us/step - loss: 0.4435 - val_loss: 0.4431\n",
      "Epoch 93/100\n",
      "60000/60000 [==============================] - 53s 891us/step - loss: 0.4442 - val_loss: 0.4423\n",
      "Epoch 94/100\n",
      "60000/60000 [==============================] - 52s 874us/step - loss: 0.4432 - val_loss: 0.4437\n",
      "Epoch 95/100\n",
      "60000/60000 [==============================] - 53s 875us/step - loss: 0.4436 - val_loss: 0.4436\n",
      "Epoch 96/100\n",
      "60000/60000 [==============================] - 52s 871us/step - loss: 0.4435 - val_loss: 0.4429\n",
      "Epoch 97/100\n",
      "60000/60000 [==============================] - 53s 877us/step - loss: 0.4437 - val_loss: 0.4427\n",
      "Epoch 98/100\n",
      "60000/60000 [==============================] - 53s 878us/step - loss: 0.4437 - val_loss: 0.4439\n",
      "Epoch 99/100\n",
      "60000/60000 [==============================] - 53s 887us/step - loss: 0.4430 - val_loss: 0.4422\n",
      "Epoch 100/100\n",
      "60000/60000 [==============================] - 53s 891us/step - loss: 0.4438 - val_loss: 0.4428\n"
     ]
    },
    {
     "data": {
      "text/plain": [
       "<keras.callbacks.callbacks.History at 0x1cce242f248>"
      ]
     },
     "execution_count": 162,
     "metadata": {},
     "output_type": "execute_result"
    }
   ],
   "source": [
    "epochs = 100\n",
    "\n",
    "end_to_end.fit(train.reshape((len(train), 28, 28, 1)), train,\n",
    "               shuffle=True,\n",
    "               epochs=epochs,\n",
    "               batch_size=batch_size,\n",
    "               validation_data=(test.reshape(len(test), 28, 28, 1), test)\n",
    "              )"
   ]
  },
  {
   "cell_type": "code",
   "execution_count": 18,
   "metadata": {},
   "outputs": [],
   "source": [
    "first_5_images = train_df.head().drop('label', axis='columns').to_numpy().reshape((5,28,28))"
   ]
  },
  {
   "cell_type": "code",
   "execution_count": 29,
   "metadata": {},
   "outputs": [
    {
     "data": {
      "image/png": "[encoded data removed]",
      "text/plain": [
       "<Figure size 936x288 with 5 Axes>"
      ]
     },
     "metadata": {
      "needs_background": "light"
     },
     "output_type": "display_data"
    },
    {
     "data": {
      "image/png": "[encoded data removed]",
      "text/plain": [
       "<Figure size 936x288 with 5 Axes>"
      ]
     },
     "metadata": {
      "needs_background": "light"
     },
     "output_type": "display_data"
    }
   ],
   "source": [
    "decoded = end_to_end.predict(train, batch_size=batch_size) * 256.0\n",
    "\n",
    "print_images(first_5_images, 'Oryginalne próbki:')\n",
    "print_images(decoded[:5].reshape((5,28,28)), 'Próbki po przetworzeniu przez autoenkoder:')"
   ]
  },
  {
   "cell_type": "code",
   "execution_count": 163,
   "metadata": {},
   "outputs": [
    {
     "data": {
      "image/png": "[encoded data removed]",
      "text/plain": [
       "<Figure size 936x288 with 5 Axes>"
      ]
     },
     "metadata": {
      "needs_background": "light"
     },
     "output_type": "display_data"
    },
    {
     "data": {
      "image/png": "[encoded data removed]",
      "text/plain": [
       "<Figure size 936x288 with 5 Axes>"
      ]
     },
     "metadata": {
      "needs_background": "light"
     },
     "output_type": "display_data"
    }
   ],
   "source": [
    "decoded = end_to_end.predict(train.reshape((len(train), 28, 28, 1)), batch_size=batch_size) * 256.0\n",
    "\n",
    "print_images(first_5_images, 'Oryginalne próbki:')\n",
    "print_images(decoded[:5].reshape((5,28,28)), 'Próbki po przetworzeniu przez autoenkoder:')"
   ]
  },
  {
   "cell_type": "code",
   "execution_count": 165,
   "metadata": {},
   "outputs": [],
   "source": [
    "save_weights(end_to_end, 'end_to_end_cvae_e300_d15')"
   ]
  },
  {
   "cell_type": "code",
   "execution_count": 164,
   "metadata": {},
   "outputs": [],
   "source": [
    "save_model(end_to_end, 'end_to_end_cvae_e300_d15')"
   ]
  }
 ],
 "metadata": {
  "kernelspec": {
   "display_name": "Python 3",
   "language": "python",
   "name": "python3"
  },
  "language_info": {
   "codemirror_mode": {
    "name": "ipython",
    "version": 3
   },
   "file_extension": ".py",
   "mimetype": "text/x-python",
   "name": "python",
   "nbconvert_exporter": "python",
   "pygments_lexer": "ipython3",
   "version": "3.7.6"
  }
 },
 "nbformat": 4,
 "nbformat_minor": 4
}
