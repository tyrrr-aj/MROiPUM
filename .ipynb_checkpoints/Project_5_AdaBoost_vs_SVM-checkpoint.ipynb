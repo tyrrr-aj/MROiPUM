{
 "cells": [
  {
   "cell_type": "markdown",
   "metadata": {},
   "source": [
    "# Porównanie skuteczności klasyfikatorów SVM i AdaBoost na zbiorach danych o wymiarowości zredukowanej przez autoenkoder wariacyjny"
   ]
  },
  {
   "cell_type": "markdown",
   "metadata": {},
   "source": [
    "## Przygotowanie zbioru danych"
   ]
  },
  {
   "cell_type": "code",
   "execution_count": 2,
   "metadata": {},
   "outputs": [],
   "source": [
    "import zipfile"
   ]
  },
  {
   "cell_type": "code",
   "execution_count": 8,
   "metadata": {},
   "outputs": [
    {
     "name": "stdout",
     "output_type": "stream",
     "text": [
      "   label  pixel1  pixel2  pixel3  pixel4  pixel5  pixel6  pixel7  pixel8  \\\n",
      "0      2       0       0       0       0       0       0       0       0   \n",
      "1      9       0       0       0       0       0       0       0       0   \n",
      "2      6       0       0       0       0       0       0       0       5   \n",
      "3      0       0       0       0       1       2       0       0       0   \n",
      "4      3       0       0       0       0       0       0       0       0   \n",
      "\n",
      "   pixel9  ...  pixel775  pixel776  pixel777  pixel778  pixel779  pixel780  \\\n",
      "0       0  ...         0         0         0         0         0         0   \n",
      "1       0  ...         0         0         0         0         0         0   \n",
      "2       0  ...         0         0         0        30        43         0   \n",
      "3       0  ...         3         0         0         0         0         1   \n",
      "4       0  ...         0         0         0         0         0         0   \n",
      "\n",
      "   pixel781  pixel782  pixel783  pixel784  \n",
      "0         0         0         0         0  \n",
      "1         0         0         0         0  \n",
      "2         0         0         0         0  \n",
      "3         0         0         0         0  \n",
      "4         0         0         0         0  \n",
      "\n",
      "[5 rows x 785 columns]\n"
     ]
    }
   ],
   "source": [
    "import pandas as pd\n",
    "\n",
    "with zipfile.ZipFile(\"data/fashion-mnist.zip\") as z:\n",
    "   with z.open(\"fashion-mnist_train.csv\") as f:\n",
    "      train_df = pd.read_csv(f)\n",
    "      print(train_df.head())    # print the first 5 rows\n",
    "\n",
    "   with z.open(\"fashion-mnist_test.csv\") as f:\n",
    "      test_df = pd.read_csv(f)"
   ]
  },
  {
   "cell_type": "markdown",
   "metadata": {},
   "source": [
    "## Redukcja wymiarów za pomocą autoenkodera wariacyjnego"
   ]
  },
  {
   "cell_type": "code",
   "execution_count": 16,
   "metadata": {},
   "outputs": [],
   "source": [
    "from keras.layers import Input, Dense, Lambda\n",
    "from keras.models import Model\n",
    "from keras import backend as K\n",
    "from keras import objectives\n",
    "import numpy as np"
   ]
  },
  {
   "cell_type": "markdown",
   "metadata": {},
   "source": [
    "### Przygotowanie modelu"
   ]
  },
  {
   "cell_type": "code",
   "execution_count": 40,
   "metadata": {},
   "outputs": [],
   "source": [
    "def sampling(args):\n",
    "    z_mean, z_variance = args\n",
    "    epsilon = K.random_normal(shape=(batch_size, dest_dim))\n",
    "    \n",
    "    return z_mean + K.exp(z_variance) * epsilon\n",
    "\n",
    "def get_intermediate_dims(initial_dim, dest_dim):\n",
    "    intermediate_dim_1 = int((initial_dim + dest_dim) / 2)\n",
    "    intermediate_dim_2 = int((intermediate_dim_1 + dest_dim) / 2)\n",
    "    \n",
    "    return intermediate_dim_1, intermediate_dim_2\n",
    "\n",
    "def create_architecture(batch_size, initial_dim, intermediate_dim_1, intermediate_dim_2, dest_dim):\n",
    "    input_layer = Input(batch_shape=(batch_size, initial_dim))\n",
    "\n",
    "    encoder_l1 = Dense(intermediate_dim_1, activation='relu')(input_layer)\n",
    "    encoder_l2 = Dense(intermediate_dim_2, activation='relu')(encoder_l1)\n",
    "\n",
    "    z_mean = Dense(dest_dim)(encoder_l2)\n",
    "    z_variance = Dense(dest_dim)(encoder_l2)\n",
    "\n",
    "    reduced = Lambda(sampling)([z_mean, z_variance])\n",
    "\n",
    "    decoder_l1 = Dense(intermediate_dim_2, activation='relu')(reduced)\n",
    "    decoder_l2 = Dense(intermediate_dim_1, activation='relu')(decoder_l1)\n",
    "\n",
    "    decoded = Dense(initial_dim, activation='sigmoid')(decoder_l2)\n",
    "    \n",
    "    return input_layer, reduced, decoded, z_mean, z_variance\n",
    "\n",
    "def vae_loss(x, x_decoded_mean):\n",
    "    xent_loss = objectives.binary_crossentropy(x, x_decoded_mean)\n",
    "    kl_loss = - 0.5 * K.mean(1 + z_variance - K.square(z_mean) - K.exp(z_variance), axis=-1)\n",
    "    return xent_loss + kl_loss\n",
    "\n",
    "def prepare_models(input_layer, reduced, decoded):\n",
    "    end_to_end = Model(input_layer, decoded)\n",
    "    encoder = Model(input_layer, reduced)\n",
    "    \n",
    "    return end_to_end, encoder"
   ]
  },
  {
   "cell_type": "code",
   "execution_count": 41,
   "metadata": {},
   "outputs": [],
   "source": [
    "def create_model(batch_size, initial_dim, dest_dim):\n",
    "    intermediate_dim_1, intermediate_dim_2 = get_intermediate_dims(initial_dim, dest_dim)\n",
    "    input_layer, reduced, decoded, z_mean, z_variance = create_architecture(batch_size,\n",
    "                                                                            initial_dim,\n",
    "                                                                            intermediate_dim_1,\n",
    "                                                                            intermediate_dim_2,\n",
    "                                                                            dest_dim\n",
    "                                                                           )\n",
    "    end_to_end, encoder = prepare_models(input_layer, reduced, decoded)\n",
    "    return end_to_end, encoder, z_mean, z_variance"
   ]
  },
  {
   "cell_type": "markdown",
   "metadata": {},
   "source": [
    "### Uruchomienie modelu"
   ]
  },
  {
   "cell_type": "code",
   "execution_count": 46,
   "metadata": {},
   "outputs": [],
   "source": [
    "train = train_df.drop('label', axis='columns').to_numpy() / 255.0\n",
    "test = test_df.drop('label', axis='columns').to_numpy() / 255.0\n",
    "\n",
    "batch_size = 10000\n",
    "initial_dim = len(train[0])  # =784"
   ]
  },
  {
   "cell_type": "code",
   "execution_count": 51,
   "metadata": {
    "scrolled": false
   },
   "outputs": [
    {
     "name": "stdout",
     "output_type": "stream",
     "text": [
      "Train on 60000 samples, validate on 10000 samples\n",
      "Epoch 1/3\n",
      "60000/60000 [==============================] - 8s 135us/step - loss: 0.8986 - val_loss: 0.5555\n",
      "Epoch 2/3\n",
      "60000/60000 [==============================] - 6s 101us/step - loss: 0.5255 - val_loss: 0.5042\n",
      "Epoch 3/3\n",
      "60000/60000 [==============================] - 6s 102us/step - loss: 0.5014 - val_loss: 0.5000\n",
      "Train on 60000 samples, validate on 10000 samples\n",
      "Epoch 1/10\n",
      "60000/60000 [==============================] - 8s 133us/step - loss: 0.8541 - val_loss: 0.5389\n",
      "Epoch 2/10\n",
      "60000/60000 [==============================] - 7s 110us/step - loss: 0.5227 - val_loss: 0.5079\n",
      "Epoch 3/10\n",
      "60000/60000 [==============================] - 9s 145us/step - loss: 0.5022 - val_loss: 0.4974\n",
      "Epoch 4/10\n",
      "60000/60000 [==============================] - 7s 115us/step - loss: 0.4989 - val_loss: 0.4979\n",
      "Epoch 5/10\n",
      "60000/60000 [==============================] - 7s 118us/step - loss: 0.4980 - val_loss: 0.4960\n",
      "Epoch 6/10\n",
      "60000/60000 [==============================] - 7s 109us/step - loss: 0.4958 - val_loss: 0.4958\n",
      "Epoch 7/10\n",
      "60000/60000 [==============================] - 6s 104us/step - loss: 0.4979 - val_loss: 0.4940\n",
      "Epoch 8/10\n",
      "60000/60000 [==============================] - 6s 102us/step - loss: 0.4938 - val_loss: 0.4959\n",
      "Epoch 9/10\n",
      "60000/60000 [==============================] - 6s 104us/step - loss: 0.4960 - val_loss: 0.4942\n",
      "Epoch 10/10\n",
      "60000/60000 [==============================] - 6s 99us/step - loss: 0.4942 - val_loss: 0.4917\n",
      "Train on 60000 samples, validate on 10000 samples\n",
      "Epoch 1/20\n",
      "60000/60000 [==============================] - 8s 127us/step - loss: 1.0089 - val_loss: 0.5508\n",
      "Epoch 2/20\n",
      "60000/60000 [==============================] - 6s 100us/step - loss: 0.5273 - val_loss: 0.5067\n",
      "Epoch 3/20\n",
      "60000/60000 [==============================] - 6s 99us/step - loss: 0.5036 - val_loss: 0.5021\n",
      "Epoch 4/20\n",
      "60000/60000 [==============================] - 6s 101us/step - loss: 0.5023 - val_loss: 0.4975\n",
      "Epoch 5/20\n",
      "60000/60000 [==============================] - 6s 98us/step - loss: 0.4977 - val_loss: 0.4995\n",
      "Epoch 6/20\n",
      "60000/60000 [==============================] - 6s 98us/step - loss: 0.4975 - val_loss: 0.4941\n",
      "Epoch 7/20\n",
      "60000/60000 [==============================] - 6s 98us/step - loss: 0.4994 - val_loss: 0.4975\n",
      "Epoch 8/20\n",
      "60000/60000 [==============================] - 7s 111us/step - loss: 0.4972 - val_loss: 0.4954\n",
      "Epoch 9/20\n",
      "60000/60000 [==============================] - 6s 108us/step - loss: 0.4942 - val_loss: 0.4933\n",
      "Epoch 10/20\n",
      "60000/60000 [==============================] - 6s 99us/step - loss: 0.4949 - val_loss: 0.4933\n",
      "Epoch 11/20\n",
      "60000/60000 [==============================] - 6s 100us/step - loss: 0.4941 - val_loss: 0.4952\n",
      "Epoch 12/20\n",
      "60000/60000 [==============================] - 7s 113us/step - loss: 0.4957 - val_loss: 0.4930\n",
      "Epoch 13/20\n",
      "60000/60000 [==============================] - 7s 113us/step - loss: 0.4927 - val_loss: 0.4922\n",
      "Epoch 14/20\n",
      "60000/60000 [==============================] - 7s 114us/step - loss: 0.4928 - val_loss: 0.4923\n",
      "Epoch 15/20\n",
      "60000/60000 [==============================] - 6s 101us/step - loss: 0.4923 - val_loss: 0.4908\n",
      "Epoch 16/20\n",
      "60000/60000 [==============================] - 6s 100us/step - loss: 0.4925 - val_loss: 0.4930\n",
      "Epoch 17/20\n",
      "60000/60000 [==============================] - 7s 110us/step - loss: 0.4928 - val_loss: 0.4904\n",
      "Epoch 18/20\n",
      "60000/60000 [==============================] - 6s 102us/step - loss: 0.4912 - val_loss: 0.4916\n",
      "Epoch 19/20\n",
      "60000/60000 [==============================] - 7s 110us/step - loss: 0.4920 - val_loss: 0.4918\n",
      "Epoch 20/20\n",
      "60000/60000 [==============================] - 6s 102us/step - loss: 0.4916 - val_loss: 0.4911\n"
     ]
    }
   ],
   "source": [
    "dest_dims = [10, 50, 200]\n",
    "epoch_numbers = [3, 10, 20]\n",
    "\n",
    "datasets = {dest_dim: {epochs: (None, None) for epochs in epoch_numbers} for dest_dim in dest_dims}\n",
    "\n",
    "for dest_dim in dest_dims:\n",
    "    for epochs in epoch_numbers:\n",
    "        \n",
    "        end_to_end, encoder, z_mean, z_variance = create_model(batch_size, initial_dim, dest_dim)\n",
    "\n",
    "        end_to_end.compile(optimizer='rmsprop', loss=vae_loss)\n",
    "\n",
    "        end_to_end.fit(train, train,\n",
    "                       shuffle=True,\n",
    "                       epochs=epochs,\n",
    "                       batch_size=batch_size,\n",
    "                       validation_data=(test, test)\n",
    "                      )\n",
    "        \n",
    "        reduced_train = encoder.predict(train, batch_size=batch_size)\n",
    "        reduced_test = encoder.predict(test, batch_size=batch_size)\n",
    "        \n",
    "        datasets[dest_dim][epochs] = (reduced_train, reduced_test)"
   ]
  },
  {
   "cell_type": "markdown",
   "metadata": {},
   "source": [
    "## Źródła"
   ]
  },
  {
   "cell_type": "markdown",
   "metadata": {},
   "source": [
    "* https://towardsdatascience.com/auto-encoder-what-is-it-and-what-is-it-used-for-part-1-3e5c6f017726\n",
    "* https://towardsdatascience.com/understanding-variational-autoencoders-vaes-f70510919f73\n",
    "* https://blog.keras.io/building-autoencoders-in-keras.html"
   ]
  }
 ],
 "metadata": {
  "kernelspec": {
   "display_name": "Python 3",
   "language": "python",
   "name": "python3"
  },
  "language_info": {
   "codemirror_mode": {
    "name": "ipython",
    "version": 3
   },
   "file_extension": ".py",
   "mimetype": "text/x-python",
   "name": "python",
   "nbconvert_exporter": "python",
   "pygments_lexer": "ipython3",
   "version": "3.7.6"
  }
 },
 "nbformat": 4,
 "nbformat_minor": 4
}
