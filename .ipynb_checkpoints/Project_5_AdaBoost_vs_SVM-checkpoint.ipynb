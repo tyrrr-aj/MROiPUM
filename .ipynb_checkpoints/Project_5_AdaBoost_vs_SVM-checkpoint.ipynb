{
 "cells": [
  {
   "cell_type": "markdown",
   "metadata": {},
   "source": [
    "# Porównanie skuteczności klasyfikatorów SVM i AdaBoost na zbiorach danych o wymiarowości zredukowanej przez autoenkoder wariacyjny"
   ]
  },
  {
   "cell_type": "markdown",
   "metadata": {},
   "source": [
    "## Przygotowanie zbioru danych"
   ]
  },
  {
   "cell_type": "code",
   "execution_count": 1,
   "metadata": {},
   "outputs": [],
   "source": [
    "%matplotlib inline\n",
    "\n",
    "import zipfile\n",
    "import pandas as pd\n",
    "from matplotlib import pyplot as plt\n",
    "import numpy as np"
   ]
  },
  {
   "cell_type": "code",
   "execution_count": 2,
   "metadata": {},
   "outputs": [],
   "source": [
    "with zipfile.ZipFile(\"data/fashion-mnist.zip\") as z:\n",
    "    with z.open(\"fashion-mnist_train.csv\") as f:\n",
    "        train_df = pd.read_csv(f)\n",
    "\n",
    "    with z.open(\"fashion-mnist_test.csv\") as f:\n",
    "        test_df = pd.read_csv(f)\n",
    "\n",
    "train = train_df.drop('label', axis='columns').to_numpy() / 255.0\n",
    "test = test_df.drop('label', axis='columns').to_numpy() / 255.0"
   ]
  },
  {
   "cell_type": "code",
   "execution_count": 3,
   "metadata": {
    "scrolled": false
   },
   "outputs": [],
   "source": [
    "def print_images(images, title):\n",
    "    fig, axs = plt.subplots(ncols=5, figsize=(13,4))\n",
    "    \n",
    "    for i, image in enumerate(images):\n",
    "        axs[i].imshow(image, cmap='gray', vmin=0, vmax=255)\n",
    "        axs[i].xaxis.set_visible(False)\n",
    "        axs[i].yaxis.set_visible(False)\n",
    "\n",
    "    fig.tight_layout()\n",
    "    fig.suptitle(title, fontsize=15)\n",
    "    plt.show()"
   ]
  },
  {
   "cell_type": "code",
   "execution_count": 4,
   "metadata": {},
   "outputs": [
    {
     "data": {
      "image/png": "[encoded data removed]",
      "text/plain": [
       "<Figure size 936x288 with 5 Axes>"
      ]
     },
     "metadata": {
      "needs_background": "light"
     },
     "output_type": "display_data"
    },
    {
     "name": "stdout",
     "output_type": "stream",
     "text": [
      "Reprezentacja pierwszych 5 próbek w zbiorze uczącym:\n",
      "\n",
      "   label  pixel1  pixel2  pixel3  pixel4  pixel5  pixel6  pixel7  pixel8  \\\n",
      "0      2       0       0       0       0       0       0       0       0   \n",
      "1      9       0       0       0       0       0       0       0       0   \n",
      "2      6       0       0       0       0       0       0       0       5   \n",
      "3      0       0       0       0       1       2       0       0       0   \n",
      "4      3       0       0       0       0       0       0       0       0   \n",
      "\n",
      "   pixel9  ...  pixel775  pixel776  pixel777  pixel778  pixel779  pixel780  \\\n",
      "0       0  ...         0         0         0         0         0         0   \n",
      "1       0  ...         0         0         0         0         0         0   \n",
      "2       0  ...         0         0         0        30        43         0   \n",
      "3       0  ...         3         0         0         0         0         1   \n",
      "4       0  ...         0         0         0         0         0         0   \n",
      "\n",
      "   pixel781  pixel782  pixel783  pixel784  \n",
      "0         0         0         0         0  \n",
      "1         0         0         0         0  \n",
      "2         0         0         0         0  \n",
      "3         0         0         0         0  \n",
      "4         0         0         0         0  \n",
      "\n",
      "[5 rows x 785 columns]\n"
     ]
    }
   ],
   "source": [
    "first_5_images = train_df.head().drop('label', axis='columns').to_numpy().reshape((5,28,28))\n",
    "print_images(first_5_images, 'Pięć pierwszych obrazków ze zbioru uczącego:')\n",
    "    \n",
    "print('Reprezentacja pierwszych 5 próbek w zbiorze uczącym:\\n')\n",
    "print(train_df.head())    # print the first 5 rows"
   ]
  },
  {
   "cell_type": "markdown",
   "metadata": {},
   "source": [
    "## Redukcja wymiarów za pomocą autoenkodera wariacyjnego"
   ]
  },
  {
   "cell_type": "code",
   "execution_count": 48,
   "metadata": {},
   "outputs": [
    {
     "name": "stderr",
     "output_type": "stream",
     "text": [
      "Using TensorFlow backend.\n"
     ]
    }
   ],
   "source": [
    "from keras.layers import Input, Dense, Lambda\n",
    "from keras.models import Model\n",
    "from keras import backend as K\n",
    "from keras import objectives"
   ]
  },
  {
   "cell_type": "markdown",
   "metadata": {},
   "source": [
    "### Przygotowanie modelu"
   ]
  },
  {
   "cell_type": "code",
   "execution_count": 104,
   "metadata": {},
   "outputs": [],
   "source": [
    "def sampling(args):\n",
    "    z_mean, z_variance = args\n",
    "    epsilon = K.random_normal(shape=(batch_size, dest_dim))\n",
    "    \n",
    "    return z_mean + K.exp(z_variance) * epsilon\n",
    "\n",
    "def get_intermediate_dims(initial_dim, dest_dim):\n",
    "    intermediate_dim_1 = int((initial_dim + dest_dim) / 2)\n",
    "    intermediate_dim_2 = int((intermediate_dim_1 + dest_dim) / 2)\n",
    "    \n",
    "    return intermediate_dim_1, intermediate_dim_2\n",
    "\n",
    "def create_architecture(batch_size, initial_dim, intermediate_dim_1, intermediate_dim_2, dest_dim):\n",
    "    input_layer = Input(batch_shape=(batch_size, initial_dim))\n",
    "\n",
    "    encoder_l1 = Dense(intermediate_dim_1, activation='relu')(input_layer)\n",
    "#    encoder_l1 = Dense(392, activation='relu')(input_layer)\n",
    "    encoder_l2 = Dense(intermediate_dim_2, activation='relu')(encoder_l1)\n",
    "\n",
    "    z_mean = Dense(dest_dim)(encoder_l2)\n",
    "    z_variance = Dense(dest_dim)(encoder_l2)\n",
    "#    z_mean = Dense(dest_dim)(encoder_l1)\n",
    "#    z_variance = Dense(dest_dim)(encoder_l1)\n",
    "\n",
    "    reduced = Lambda(sampling)([z_mean, z_variance])\n",
    "\n",
    "    decoder_l1 = Dense(intermediate_dim_2, activation='relu')(reduced)\n",
    "#    decoder_l1 = Dense(392, activation='relu')(reduced)\n",
    "    decoder_l2 = Dense(intermediate_dim_1, activation='relu')(decoder_l1)\n",
    "\n",
    "    decoded = Dense(initial_dim, activation='sigmoid')(decoder_l2)\n",
    "#    decoded = Dense(initial_dim, activation='sigmoid')(decoder_l1)\n",
    "    \n",
    "    return input_layer, reduced, decoded, z_mean, z_variance\n",
    "\n",
    "def vae_loss(x, x_decoded_mean):\n",
    "    xent_loss = objectives.binary_crossentropy(x, x_decoded_mean)\n",
    "    kl_loss = - 0.5 * K.mean(1 + z_variance - K.square(z_mean) - K.exp(z_variance), axis=-1)\n",
    "    return xent_loss + kl_loss\n",
    "\n",
    "def prepare_models(input_layer, reduced, decoded):\n",
    "    end_to_end = Model(input_layer, decoded)\n",
    "    encoder = Model(input_layer, reduced)\n",
    "    \n",
    "    return end_to_end, encoder"
   ]
  },
  {
   "cell_type": "code",
   "execution_count": 105,
   "metadata": {},
   "outputs": [],
   "source": [
    "def create_model(batch_size, initial_dim, dest_dim):\n",
    "    intermediate_dim_1, intermediate_dim_2 = get_intermediate_dims(initial_dim, dest_dim)\n",
    "    input_layer, reduced, decoded, z_mean, z_variance = create_architecture(batch_size,\n",
    "                                                                            initial_dim,\n",
    "                                                                            intermediate_dim_1,\n",
    "                                                                            intermediate_dim_2,\n",
    "                                                                            dest_dim\n",
    "                                                                           )\n",
    "    end_to_end, encoder = prepare_models(input_layer, reduced, decoded)\n",
    "    return end_to_end, encoder, z_mean, z_variance"
   ]
  },
  {
   "cell_type": "markdown",
   "metadata": {},
   "source": [
    "### Testowe uruchomienie"
   ]
  },
  {
   "cell_type": "code",
   "execution_count": 106,
   "metadata": {
    "scrolled": true
   },
   "outputs": [
    {
     "name": "stdout",
     "output_type": "stream",
     "text": [
      "Train on 60000 samples, validate on 10000 samples\n",
      "Epoch 1/100\n",
      "60000/60000 [==============================] - 9s 146us/step - loss: 0.6201 - val_loss: 0.5069\n",
      "Epoch 2/100\n",
      "60000/60000 [==============================] - 7s 115us/step - loss: 0.5017 - val_loss: 0.4970\n",
      "Epoch 3/100\n",
      "60000/60000 [==============================] - 7s 118us/step - loss: 0.4965 - val_loss: 0.4954\n",
      "Epoch 4/100\n",
      "60000/60000 [==============================] - 7s 116us/step - loss: 0.4978 - val_loss: 0.4936\n",
      "Epoch 5/100\n",
      "60000/60000 [==============================] - 7s 125us/step - loss: 0.4935 - val_loss: 0.4934\n",
      "Epoch 6/100\n",
      "60000/60000 [==============================] - 8s 126us/step - loss: 0.4936 - val_loss: 0.4914\n",
      "Epoch 7/100\n",
      "60000/60000 [==============================] - 7s 119us/step - loss: 0.4910 - val_loss: 0.4887\n",
      "Epoch 8/100\n",
      "60000/60000 [==============================] - 7s 117us/step - loss: 0.4889 - val_loss: 0.4870\n",
      "Epoch 9/100\n",
      "60000/60000 [==============================] - 7s 117us/step - loss: 0.4851 - val_loss: 0.4801\n",
      "Epoch 10/100\n",
      "60000/60000 [==============================] - 8s 125us/step - loss: 0.4819 - val_loss: 0.4786\n",
      "Epoch 11/100\n",
      "60000/60000 [==============================] - 7s 125us/step - loss: 0.4779 - val_loss: 0.4759\n",
      "Epoch 12/100\n",
      "60000/60000 [==============================] - 7s 118us/step - loss: 0.4744 - val_loss: 0.4774\n",
      "Epoch 13/100\n",
      "60000/60000 [==============================] - 8s 127us/step - loss: 0.4732 - val_loss: 0.4706\n",
      "Epoch 14/100\n",
      "60000/60000 [==============================] - 7s 119us/step - loss: 0.4669 - val_loss: 0.4503\n",
      "Epoch 15/100\n",
      "60000/60000 [==============================] - 7s 113us/step - loss: 0.4601 - val_loss: 0.4411\n",
      "Epoch 16/100\n",
      "60000/60000 [==============================] - 7s 122us/step - loss: 0.4468 - val_loss: 0.4395\n",
      "Epoch 17/100\n",
      "60000/60000 [==============================] - 8s 129us/step - loss: 0.4444 - val_loss: 0.4359\n",
      "Epoch 18/100\n",
      "60000/60000 [==============================] - 7s 116us/step - loss: 0.4421 - val_loss: 0.4352\n",
      "Epoch 19/100\n",
      "60000/60000 [==============================] - 7s 116us/step - loss: 0.4343 - val_loss: 0.4491\n",
      "Epoch 20/100\n",
      "60000/60000 [==============================] - 7s 114us/step - loss: 0.4397 - val_loss: 0.4372\n",
      "Epoch 21/100\n",
      "60000/60000 [==============================] - 7s 113us/step - loss: 0.4329 - val_loss: 0.4327\n",
      "Epoch 22/100\n",
      "60000/60000 [==============================] - 7s 116us/step - loss: 0.4330 - val_loss: 0.4362\n",
      "Epoch 23/100\n",
      "60000/60000 [==============================] - 7s 114us/step - loss: 0.4334 - val_loss: 0.4281\n",
      "Epoch 24/100\n",
      "60000/60000 [==============================] - 7s 114us/step - loss: 0.4294 - val_loss: 0.4260\n",
      "Epoch 25/100\n",
      "60000/60000 [==============================] - 7s 114us/step - loss: 0.4267 - val_loss: 0.4249\n",
      "Epoch 26/100\n",
      "60000/60000 [==============================] - 7s 113us/step - loss: 0.4338 - val_loss: 0.4222\n",
      "Epoch 27/100\n",
      "60000/60000 [==============================] - 7s 114us/step - loss: 0.4266 - val_loss: 0.4295\n",
      "Epoch 28/100\n",
      "60000/60000 [==============================] - 7s 114us/step - loss: 0.4238 - val_loss: 0.4256\n",
      "Epoch 29/100\n",
      "60000/60000 [==============================] - 7s 118us/step - loss: 0.4249 - val_loss: 0.4199\n",
      "Epoch 30/100\n",
      "60000/60000 [==============================] - 7s 117us/step - loss: 0.4249 - val_loss: 0.4215\n",
      "Epoch 31/100\n",
      "60000/60000 [==============================] - 7s 119us/step - loss: 0.4226 - val_loss: 0.4271\n",
      "Epoch 32/100\n",
      "60000/60000 [==============================] - 7s 120us/step - loss: 0.4216 - val_loss: 0.4191\n",
      "Epoch 33/100\n",
      "60000/60000 [==============================] - 7s 117us/step - loss: 0.4197 - val_loss: 0.4201\n",
      "Epoch 34/100\n",
      "60000/60000 [==============================] - 7s 117us/step - loss: 0.4209 - val_loss: 0.4168\n",
      "Epoch 35/100\n",
      "60000/60000 [==============================] - 7s 114us/step - loss: 0.4195 - val_loss: 0.4137\n",
      "Epoch 36/100\n",
      "60000/60000 [==============================] - 7s 113us/step - loss: 0.4154 - val_loss: 0.4144\n",
      "Epoch 37/100\n",
      "60000/60000 [==============================] - 7s 115us/step - loss: 0.4140 - val_loss: 0.4135\n",
      "Epoch 38/100\n",
      "60000/60000 [==============================] - 9s 148us/step - loss: 0.4162 - val_loss: 0.4117\n",
      "Epoch 39/100\n",
      "60000/60000 [==============================] - 8s 127us/step - loss: 0.4115 - val_loss: 0.4089\n",
      "Epoch 40/100\n",
      "60000/60000 [==============================] - 7s 116us/step - loss: 0.4179 - val_loss: 0.4522\n",
      "Epoch 41/100\n",
      "60000/60000 [==============================] - 7s 113us/step - loss: 0.4144 - val_loss: 0.4061\n",
      "Epoch 42/100\n",
      "60000/60000 [==============================] - 7s 114us/step - loss: 0.4088 - val_loss: 0.4029\n",
      "Epoch 43/100\n",
      "60000/60000 [==============================] - 7s 114us/step - loss: 0.4063 - val_loss: 0.4062\n",
      "Epoch 44/100\n",
      "60000/60000 [==============================] - 7s 113us/step - loss: 0.4061 - val_loss: 0.4030\n",
      "Epoch 45/100\n",
      "60000/60000 [==============================] - 7s 114us/step - loss: 0.4055 - val_loss: 0.4026\n",
      "Epoch 46/100\n",
      "60000/60000 [==============================] - 7s 112us/step - loss: 0.4001 - val_loss: 0.4005\n",
      "Epoch 47/100\n",
      "60000/60000 [==============================] - 7s 112us/step - loss: 0.4050 - val_loss: 0.3987\n",
      "Epoch 48/100\n",
      "60000/60000 [==============================] - 7s 114us/step - loss: 0.3993 - val_loss: 0.3980\n",
      "Epoch 49/100\n",
      "60000/60000 [==============================] - 7s 113us/step - loss: 0.4010 - val_loss: 0.3959\n",
      "Epoch 50/100\n",
      "60000/60000 [==============================] - 7s 113us/step - loss: 0.3961 - val_loss: 0.3945\n",
      "Epoch 51/100\n",
      "60000/60000 [==============================] - 7s 113us/step - loss: 0.4023 - val_loss: 0.3912\n",
      "Epoch 52/100\n",
      "60000/60000 [==============================] - 7s 113us/step - loss: 0.3947 - val_loss: 0.3921\n",
      "Epoch 53/100\n",
      "60000/60000 [==============================] - 7s 113us/step - loss: 0.3937 - val_loss: 0.3951\n",
      "Epoch 54/100\n",
      "60000/60000 [==============================] - 7s 112us/step - loss: 0.3941 - val_loss: 0.3887\n",
      "Epoch 55/100\n",
      "60000/60000 [==============================] - 7s 112us/step - loss: 0.3891 - val_loss: 0.4067\n",
      "Epoch 56/100\n",
      "60000/60000 [==============================] - 7s 112us/step - loss: 0.4005 - val_loss: 0.3881\n",
      "Epoch 57/100\n",
      "60000/60000 [==============================] - 7s 114us/step - loss: 0.3923 - val_loss: 0.4025\n",
      "Epoch 58/100\n",
      "60000/60000 [==============================] - 7s 112us/step - loss: 0.3911 - val_loss: 0.3900\n",
      "Epoch 59/100\n",
      "60000/60000 [==============================] - 7s 112us/step - loss: 0.3893 - val_loss: 0.3891\n",
      "Epoch 60/100\n",
      "60000/60000 [==============================] - 7s 113us/step - loss: 0.3900 - val_loss: 0.3909\n",
      "Epoch 61/100\n",
      "60000/60000 [==============================] - 7s 113us/step - loss: 0.3894 - val_loss: 0.3869\n",
      "Epoch 62/100\n",
      "60000/60000 [==============================] - 7s 113us/step - loss: 0.3877 - val_loss: 0.3839\n",
      "Epoch 63/100\n",
      "60000/60000 [==============================] - 7s 112us/step - loss: 0.3894 - val_loss: 0.3889\n",
      "Epoch 64/100\n",
      "60000/60000 [==============================] - 7s 113us/step - loss: 0.3858 - val_loss: 0.3865\n",
      "Epoch 65/100\n",
      "60000/60000 [==============================] - 7s 113us/step - loss: 0.3840 - val_loss: 0.3822\n",
      "Epoch 66/100\n",
      "60000/60000 [==============================] - 7s 114us/step - loss: 0.3870 - val_loss: 0.3809\n",
      "Epoch 67/100\n",
      "60000/60000 [==============================] - 7s 120us/step - loss: 0.3832 - val_loss: 0.3799\n",
      "Epoch 68/100\n",
      "60000/60000 [==============================] - 7s 113us/step - loss: 0.3878 - val_loss: 0.3850\n",
      "Epoch 69/100\n",
      "60000/60000 [==============================] - 7s 113us/step - loss: 0.3804 - val_loss: 0.3784\n",
      "Epoch 70/100\n",
      "60000/60000 [==============================] - 7s 112us/step - loss: 0.3871 - val_loss: 0.3823\n",
      "Epoch 71/100\n",
      "60000/60000 [==============================] - 7s 113us/step - loss: 0.3820 - val_loss: 0.3811\n",
      "Epoch 72/100\n",
      "60000/60000 [==============================] - 7s 113us/step - loss: 0.3796 - val_loss: 0.3812\n",
      "Epoch 73/100\n",
      "60000/60000 [==============================] - 7s 112us/step - loss: 0.3817 - val_loss: 0.3820\n",
      "Epoch 74/100\n",
      "60000/60000 [==============================] - 7s 112us/step - loss: 0.3805 - val_loss: 0.3844\n",
      "Epoch 75/100\n",
      "60000/60000 [==============================] - 7s 115us/step - loss: 0.3808 - val_loss: 0.3846\n",
      "Epoch 76/100\n",
      "60000/60000 [==============================] - 7s 112us/step - loss: 0.3797 - val_loss: 0.3758\n",
      "Epoch 77/100\n",
      "60000/60000 [==============================] - 7s 112us/step - loss: 0.3772 - val_loss: 0.3771\n",
      "Epoch 78/100\n",
      "60000/60000 [==============================] - 7s 112us/step - loss: 0.3796 - val_loss: 0.3794\n",
      "Epoch 79/100\n",
      "60000/60000 [==============================] - 7s 113us/step - loss: 0.3771 - val_loss: 0.3855\n",
      "Epoch 80/100\n",
      "60000/60000 [==============================] - 7s 113us/step - loss: 0.3772 - val_loss: 0.3737\n",
      "Epoch 81/100\n",
      "60000/60000 [==============================] - 7s 117us/step - loss: 0.3750 - val_loss: 0.3743\n",
      "Epoch 82/100\n",
      "60000/60000 [==============================] - 7s 116us/step - loss: 0.3765 - val_loss: 0.3847\n",
      "Epoch 83/100\n",
      "60000/60000 [==============================] - 7s 112us/step - loss: 0.3764 - val_loss: 0.3793\n",
      "Epoch 84/100\n",
      "60000/60000 [==============================] - 7s 115us/step - loss: 0.3757 - val_loss: 0.3738\n",
      "Epoch 85/100\n",
      "60000/60000 [==============================] - 7s 112us/step - loss: 0.3725 - val_loss: 0.3699\n",
      "Epoch 86/100\n",
      "60000/60000 [==============================] - 7s 113us/step - loss: 0.3712 - val_loss: 0.3707\n",
      "Epoch 87/100\n",
      "60000/60000 [==============================] - 7s 114us/step - loss: 0.3771 - val_loss: 0.3682\n",
      "Epoch 88/100\n",
      "60000/60000 [==============================] - 7s 113us/step - loss: 0.3713 - val_loss: 0.3677\n",
      "Epoch 89/100\n",
      "60000/60000 [==============================] - 7s 113us/step - loss: 0.3702 - val_loss: 0.3696\n",
      "Epoch 90/100\n",
      "60000/60000 [==============================] - 7s 112us/step - loss: 0.3728 - val_loss: 0.3702\n",
      "Epoch 91/100\n",
      "60000/60000 [==============================] - 7s 113us/step - loss: 0.3686 - val_loss: 0.3723\n",
      "Epoch 92/100\n",
      "60000/60000 [==============================] - 7s 113us/step - loss: 0.3716 - val_loss: 0.3716\n",
      "Epoch 93/100\n",
      "60000/60000 [==============================] - 7s 113us/step - loss: 0.3721 - val_loss: 0.3737\n",
      "Epoch 94/100\n",
      "60000/60000 [==============================] - 7s 112us/step - loss: 0.3681 - val_loss: 0.3673\n",
      "Epoch 95/100\n",
      "60000/60000 [==============================] - 7s 113us/step - loss: 0.3675 - val_loss: 0.3648\n",
      "Epoch 96/100\n",
      "60000/60000 [==============================] - 7s 112us/step - loss: 0.3706 - val_loss: 0.3718\n",
      "Epoch 97/100\n",
      "60000/60000 [==============================] - 7s 112us/step - loss: 0.3668 - val_loss: 0.3642\n",
      "Epoch 98/100\n",
      "60000/60000 [==============================] - 7s 112us/step - loss: 0.3686 - val_loss: 0.3687\n",
      "Epoch 99/100\n",
      "60000/60000 [==============================] - 7s 112us/step - loss: 0.3670 - val_loss: 0.3642\n",
      "Epoch 100/100\n",
      "60000/60000 [==============================] - 9s 157us/step - loss: 0.3640 - val_loss: 0.3634\n"
     ]
    },
    {
     "data": {
      "text/plain": [
       "<keras.callbacks.callbacks.History at 0x10708159f48>"
      ]
     },
     "execution_count": 106,
     "metadata": {},
     "output_type": "execute_result"
    }
   ],
   "source": [
    "batch_size = 10000\n",
    "initial_dim = 784\n",
    "dest_dim = 100\n",
    "epochs = 100\n",
    "\n",
    "end_to_end, encoder, z_mean, z_variance = create_model(batch_size, initial_dim, dest_dim)\n",
    "\n",
    "end_to_end.compile(optimizer='rmsprop', loss=vae_loss)\n",
    "\n",
    "end_to_end.fit(train, train,\n",
    "               shuffle=True,\n",
    "               epochs=epochs,\n",
    "               batch_size=batch_size,\n",
    "               validation_data=(test, test)\n",
    "              )"
   ]
  },
  {
   "cell_type": "code",
   "execution_count": 130,
   "metadata": {
    "scrolled": false
   },
   "outputs": [
    {
     "data": {
      "image/png": "[encoded data removed]",
      "text/plain": [
       "<Figure size 936x288 with 5 Axes>"
      ]
     },
     "metadata": {
      "needs_background": "light"
     },
     "output_type": "display_data"
    },
    {
     "data": {
      "image/png": "[encoded data removed]",
      "text/plain": [
       "<Figure size 936x288 with 5 Axes>"
      ]
     },
     "metadata": {
      "needs_background": "light"
     },
     "output_type": "display_data"
    }
   ],
   "source": [
    "decoded = end_to_end.predict(train, batch_size=batch_size) * 256.0\n",
    "\n",
    "print_images(first_5_images, 'Oryginalne próbki:')\n",
    "print_images(decoded[:5].reshape((5,28,28)), 'Próbki po przetworzeniu przez autoenkoder:')"
   ]
  },
  {
   "cell_type": "code",
   "execution_count": 99,
   "metadata": {},
   "outputs": [],
   "source": [
    "def save_model(model, filename):\n",
    "    model_json = model.to_json()\n",
    "    with open(f'{filename}.json', 'w') as file:\n",
    "        file.write(model_json)\n",
    "    \n",
    "def save_weights(model, filename):\n",
    "    model.save_weights(f'{filename}.h5')"
   ]
  },
  {
   "cell_type": "code",
   "execution_count": 131,
   "metadata": {},
   "outputs": [],
   "source": [
    "save_weights(end_to_end, 'end_to_end_2hl_e200_d100')"
   ]
  },
  {
   "cell_type": "code",
   "execution_count": 107,
   "metadata": {
    "scrolled": false
   },
   "outputs": [
    {
     "data": {
      "image/png": "[encoded data removed]",
      "text/plain": [
       "<Figure size 936x288 with 5 Axes>"
      ]
     },
     "metadata": {
      "needs_background": "light"
     },
     "output_type": "display_data"
    },
    {
     "data": {
      "image/png": "[encoded data removed]",
      "text/plain": [
       "<Figure size 936x288 with 5 Axes>"
      ]
     },
     "metadata": {
      "needs_background": "light"
     },
     "output_type": "display_data"
    }
   ],
   "source": [
    "decoded = end_to_end.predict(train, batch_size=batch_size) * 256.0\n",
    "\n",
    "print_images(first_5_images, 'Oryginalne próbki:')\n",
    "print_images(decoded[:5].reshape((5,28,28)), 'Próbki po przetworzeniu przez autoenkoder:')"
   ]
  },
  {
   "cell_type": "markdown",
   "metadata": {},
   "source": [
    "### Generowanie zbiorów danych o zredukowanej wymiarowości"
   ]
  },
  {
   "cell_type": "code",
   "execution_count": 72,
   "metadata": {},
   "outputs": [],
   "source": [
    "batch_size = 10000\n",
    "initial_dim = len(train[0])  # =784"
   ]
  },
  {
   "cell_type": "code",
   "execution_count": 51,
   "metadata": {
    "scrolled": true
   },
   "outputs": [
    {
     "name": "stdout",
     "output_type": "stream",
     "text": [
      "Train on 60000 samples, validate on 10000 samples\n",
      "Epoch 1/3\n",
      "60000/60000 [==============================] - 8s 135us/step - loss: 0.8986 - val_loss: 0.5555\n",
      "Epoch 2/3\n",
      "60000/60000 [==============================] - 6s 101us/step - loss: 0.5255 - val_loss: 0.5042\n",
      "Epoch 3/3\n",
      "60000/60000 [==============================] - 6s 102us/step - loss: 0.5014 - val_loss: 0.5000\n",
      "Train on 60000 samples, validate on 10000 samples\n",
      "Epoch 1/10\n",
      "60000/60000 [==============================] - 8s 133us/step - loss: 0.8541 - val_loss: 0.5389\n",
      "Epoch 2/10\n",
      "60000/60000 [==============================] - 7s 110us/step - loss: 0.5227 - val_loss: 0.5079\n",
      "Epoch 3/10\n",
      "60000/60000 [==============================] - 9s 145us/step - loss: 0.5022 - val_loss: 0.4974\n",
      "Epoch 4/10\n",
      "60000/60000 [==============================] - 7s 115us/step - loss: 0.4989 - val_loss: 0.4979\n",
      "Epoch 5/10\n",
      "60000/60000 [==============================] - 7s 118us/step - loss: 0.4980 - val_loss: 0.4960\n",
      "Epoch 6/10\n",
      "60000/60000 [==============================] - 7s 109us/step - loss: 0.4958 - val_loss: 0.4958\n",
      "Epoch 7/10\n",
      "60000/60000 [==============================] - 6s 104us/step - loss: 0.4979 - val_loss: 0.4940\n",
      "Epoch 8/10\n",
      "60000/60000 [==============================] - 6s 102us/step - loss: 0.4938 - val_loss: 0.4959\n",
      "Epoch 9/10\n",
      "60000/60000 [==============================] - 6s 104us/step - loss: 0.4960 - val_loss: 0.4942\n",
      "Epoch 10/10\n",
      "60000/60000 [==============================] - 6s 99us/step - loss: 0.4942 - val_loss: 0.4917\n",
      "Train on 60000 samples, validate on 10000 samples\n",
      "Epoch 1/20\n",
      "60000/60000 [==============================] - 8s 127us/step - loss: 1.0089 - val_loss: 0.5508\n",
      "Epoch 2/20\n",
      "60000/60000 [==============================] - 6s 100us/step - loss: 0.5273 - val_loss: 0.5067\n",
      "Epoch 3/20\n",
      "60000/60000 [==============================] - 6s 99us/step - loss: 0.5036 - val_loss: 0.5021\n",
      "Epoch 4/20\n",
      "60000/60000 [==============================] - 6s 101us/step - loss: 0.5023 - val_loss: 0.4975\n",
      "Epoch 5/20\n",
      "60000/60000 [==============================] - 6s 98us/step - loss: 0.4977 - val_loss: 0.4995\n",
      "Epoch 6/20\n",
      "60000/60000 [==============================] - 6s 98us/step - loss: 0.4975 - val_loss: 0.4941\n",
      "Epoch 7/20\n",
      "60000/60000 [==============================] - 6s 98us/step - loss: 0.4994 - val_loss: 0.4975\n",
      "Epoch 8/20\n",
      "60000/60000 [==============================] - 7s 111us/step - loss: 0.4972 - val_loss: 0.4954\n",
      "Epoch 9/20\n",
      "60000/60000 [==============================] - 6s 108us/step - loss: 0.4942 - val_loss: 0.4933\n",
      "Epoch 10/20\n",
      "60000/60000 [==============================] - 6s 99us/step - loss: 0.4949 - val_loss: 0.4933\n",
      "Epoch 11/20\n",
      "60000/60000 [==============================] - 6s 100us/step - loss: 0.4941 - val_loss: 0.4952\n",
      "Epoch 12/20\n",
      "60000/60000 [==============================] - 7s 113us/step - loss: 0.4957 - val_loss: 0.4930\n",
      "Epoch 13/20\n",
      "60000/60000 [==============================] - 7s 113us/step - loss: 0.4927 - val_loss: 0.4922\n",
      "Epoch 14/20\n",
      "60000/60000 [==============================] - 7s 114us/step - loss: 0.4928 - val_loss: 0.4923\n",
      "Epoch 15/20\n",
      "60000/60000 [==============================] - 6s 101us/step - loss: 0.4923 - val_loss: 0.4908\n",
      "Epoch 16/20\n",
      "60000/60000 [==============================] - 6s 100us/step - loss: 0.4925 - val_loss: 0.4930\n",
      "Epoch 17/20\n",
      "60000/60000 [==============================] - 7s 110us/step - loss: 0.4928 - val_loss: 0.4904\n",
      "Epoch 18/20\n",
      "60000/60000 [==============================] - 6s 102us/step - loss: 0.4912 - val_loss: 0.4916\n",
      "Epoch 19/20\n",
      "60000/60000 [==============================] - 7s 110us/step - loss: 0.4920 - val_loss: 0.4918\n",
      "Epoch 20/20\n",
      "60000/60000 [==============================] - 6s 102us/step - loss: 0.4916 - val_loss: 0.4911\n"
     ]
    }
   ],
   "source": [
    "dest_dims = [10, 50, 200]\n",
    "epoch_numbers = [3, 10, 20]\n",
    "\n",
    "datasets = {dest_dim: {epochs: (None, None) for epochs in epoch_numbers} for dest_dim in dest_dims}\n",
    "\n",
    "for dest_dim in dest_dims:\n",
    "    for epochs in epoch_numbers:\n",
    "        \n",
    "        end_to_end, encoder, z_mean, z_variance = create_model(batch_size, initial_dim, dest_dim)\n",
    "\n",
    "        end_to_end.compile(optimizer='rmsprop', loss=vae_loss)\n",
    "\n",
    "        end_to_end.fit(train, train,\n",
    "                       shuffle=True,\n",
    "                       epochs=epochs,\n",
    "                       batch_size=batch_size,\n",
    "                       validation_data=(test, test)\n",
    "                      )\n",
    "        \n",
    "        reduced_train = encoder.predict(train, batch_size=batch_size)\n",
    "        reduced_test = encoder.predict(test, batch_size=batch_size)\n",
    "        \n",
    "        datasets[dest_dim][epochs] = (reduced_train, reduced_test)"
   ]
  },
  {
   "cell_type": "markdown",
   "metadata": {},
   "source": [
    "## Pomiar odporności klasyfikatorów na zaszumione dane (*robustness*)"
   ]
  },
  {
   "cell_type": "code",
   "execution_count": 61,
   "metadata": {},
   "outputs": [],
   "source": [
    "from copy import deepcopy"
   ]
  },
  {
   "cell_type": "code",
   "execution_count": 63,
   "metadata": {},
   "outputs": [],
   "source": [
    "def noisify_vectors(data, ratio):    \n",
    "    vector_length = len(data[0])\n",
    "    number_of_samples = len(data)\n",
    "    epsilon = (np.random.rand(number_of_samples, vector_length) - 0.5) * 2 * 255 * ratio\n",
    "    new_data = data + epsilon\n",
    "    bounded = lambda p: min(max(p, 0), 255)\n",
    "    return np.vectorize(bounded)(new_data)\n",
    "\n",
    "def noisify_labels(labels, ratio):\n",
    "    new_labels = deepcopy(labels)\n",
    "    distinct_labels = np.unique(labels)\n",
    "    indices = np.random.choice(len(labels), int(ratio * len(labels)), replace=False)\n",
    "    for i in indices:\n",
    "        current_label = new_labels[i]\n",
    "        possible_labels = [l for l in distinct_labels if l != current_label]\n",
    "        new_labels[i] = np.random.choice(possible_labels, 1)[0]\n",
    "    return new_labels"
   ]
  },
  {
   "cell_type": "markdown",
   "metadata": {},
   "source": [
    "## Źródła"
   ]
  },
  {
   "cell_type": "markdown",
   "metadata": {},
   "source": [
    "* https://towardsdatascience.com/auto-encoder-what-is-it-and-what-is-it-used-for-part-1-3e5c6f017726\n",
    "* https://towardsdatascience.com/understanding-variational-autoencoders-vaes-f70510919f73\n",
    "* https://blog.keras.io/building-autoencoders-in-keras.html\n",
    "* https://www.tensorflow.org/tutorials/generative/cvae"
   ]
  }
 ],
 "metadata": {
  "kernelspec": {
   "display_name": "Python 3",
   "language": "python",
   "name": "python3"
  },
  "language_info": {
   "codemirror_mode": {
    "name": "ipython",
    "version": 3
   },
   "file_extension": ".py",
   "mimetype": "text/x-python",
   "name": "python",
   "nbconvert_exporter": "python",
   "pygments_lexer": "ipython3",
   "version": "3.7.6"
  }
 },
 "nbformat": 4,
 "nbformat_minor": 4
}
