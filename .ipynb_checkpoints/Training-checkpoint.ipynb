{
 "cells": [
  {
   "cell_type": "code",
   "execution_count": 13,
   "metadata": {},
   "outputs": [],
   "source": [
    "%matplotlib inline\n",
    "\n",
    "import zipfile\n",
    "import pandas as pd\n",
    "from matplotlib import pyplot as plt\n",
    "import numpy as np"
   ]
  },
  {
   "cell_type": "code",
   "execution_count": 14,
   "metadata": {},
   "outputs": [],
   "source": [
    "with zipfile.ZipFile(\"data/fashion-mnist.zip\") as z:\n",
    "    with z.open(\"fashion-mnist_train.csv\") as f:\n",
    "        train_df = pd.read_csv(f)\n",
    "\n",
    "    with z.open(\"fashion-mnist_test.csv\") as f:\n",
    "        test_df = pd.read_csv(f)\n",
    "\n",
    "train = train_df.drop('label', axis='columns').to_numpy() / 255.0\n",
    "test = test_df.drop('label', axis='columns').to_numpy() / 255.0"
   ]
  },
  {
   "cell_type": "code",
   "execution_count": 15,
   "metadata": {},
   "outputs": [],
   "source": [
    "def print_images(images, title):\n",
    "    fig, axs = plt.subplots(ncols=5, figsize=(13,4))\n",
    "    \n",
    "    for i, image in enumerate(images):\n",
    "        axs[i].imshow(image, cmap='gray', vmin=0, vmax=255)\n",
    "        axs[i].xaxis.set_visible(False)\n",
    "        axs[i].yaxis.set_visible(False)\n",
    "\n",
    "    fig.tight_layout()\n",
    "    fig.suptitle(title, fontsize=15)\n",
    "    plt.show()"
   ]
  },
  {
   "cell_type": "code",
   "execution_count": 2,
   "metadata": {},
   "outputs": [],
   "source": [
    "from matplotlib import pyplot as plt\n",
    "import numpy as np\n",
    "from keras.layers import Input, Dense, Lambda\n",
    "from keras.models import Model, model_from_json\n",
    "from keras import backend as K\n",
    "from keras import objectives"
   ]
  },
  {
   "cell_type": "code",
   "execution_count": 7,
   "metadata": {},
   "outputs": [],
   "source": [
    "def sampling(args):\n",
    "    z_mean, z_variance = args\n",
    "    epsilon = K.random_normal(shape=(batch_size, dest_dim))\n",
    "    \n",
    "    return z_mean + K.exp(z_variance) * epsilon\n",
    "\n",
    "def get_intermediate_dims(initial_dim, dest_dim):\n",
    "    intermediate_dim_1 = int((initial_dim + dest_dim) / 2)\n",
    "    intermediate_dim_2 = int((intermediate_dim_1 + dest_dim) / 2)\n",
    "    \n",
    "    return intermediate_dim_1, intermediate_dim_2\n",
    "\n",
    "def create_architecture(batch_size, initial_dim, intermediate_dim_1, intermediate_dim_2, dest_dim):\n",
    "    input_layer = Input(batch_shape=(batch_size, initial_dim))\n",
    "\n",
    "    encoder_l1 = Dense(intermediate_dim_1, activation='relu')(input_layer)\n",
    "#    encoder_l1 = Dense(392, activation='relu')(input_layer)\n",
    "    encoder_l2 = Dense(intermediate_dim_2, activation='relu')(encoder_l1)\n",
    "\n",
    "    z_mean = Dense(dest_dim)(encoder_l2)\n",
    "    z_variance = Dense(dest_dim)(encoder_l2)\n",
    "#    z_mean = Dense(dest_dim)(encoder_l1)\n",
    "#    z_variance = Dense(dest_dim)(encoder_l1)\n",
    "\n",
    "    reduced = Lambda(sampling)([z_mean, z_variance])\n",
    "\n",
    "    decoder_l1 = Dense(intermediate_dim_2, activation='relu')(reduced)\n",
    "#    decoder_l1 = Dense(392, activation='relu')(reduced)\n",
    "    decoder_l2 = Dense(intermediate_dim_1, activation='relu')(decoder_l1)\n",
    "\n",
    "    decoded = Dense(initial_dim, activation='sigmoid')(decoder_l2)\n",
    "#    decoded = Dense(initial_dim, activation='sigmoid')(decoder_l1)\n",
    "    \n",
    "    return input_layer, reduced, decoded, z_mean, z_variance\n",
    "\n",
    "def vae_loss(x, x_decoded_mean):\n",
    "    xent_loss = objectives.binary_crossentropy(x, x_decoded_mean)\n",
    "    kl_loss = - 0.5 * K.mean(1 + z_variance - K.square(z_mean) - K.exp(z_variance), axis=-1)\n",
    "    return xent_loss + kl_loss\n",
    "\n",
    "def prepare_models(input_layer, reduced, decoded):\n",
    "    end_to_end = Model(input_layer, decoded)\n",
    "    encoder = Model(input_layer, reduced)\n",
    "    \n",
    "    return end_to_end, encoder"
   ]
  },
  {
   "cell_type": "code",
   "execution_count": 8,
   "metadata": {},
   "outputs": [],
   "source": [
    "def create_model(batch_size, initial_dim, dest_dim):\n",
    "    intermediate_dim_1, intermediate_dim_2 = get_intermediate_dims(initial_dim, dest_dim)\n",
    "    input_layer, reduced, decoded, z_mean, z_variance = create_architecture(batch_size,\n",
    "                                                                            initial_dim,\n",
    "                                                                            intermediate_dim_1,\n",
    "                                                                            intermediate_dim_2,\n",
    "                                                                            dest_dim\n",
    "                                                                           )\n",
    "    end_to_end, encoder = prepare_models(input_layer, reduced, decoded)\n",
    "    return end_to_end, encoder, z_mean, z_variance"
   ]
  },
  {
   "cell_type": "code",
   "execution_count": 11,
   "metadata": {},
   "outputs": [],
   "source": [
    "def load_model(model_name):\n",
    "    with open(f'{model_name}.json') as file:\n",
    "        loaded_json = file.read()\n",
    "    return model_from_json(loaded_json)\n",
    "\n",
    "def load_weights(model, model_name, dest_dim, epochs):\n",
    "    model.load_weights(f'{model_name}_e{epochs}_d{dest_dim}.h5')\n",
    "\n",
    "def save_weights(model, filename):\n",
    "    model.save_weights(f'{filename}.h5')"
   ]
  },
  {
   "cell_type": "code",
   "execution_count": 5,
   "metadata": {},
   "outputs": [],
   "source": [
    "batch_size = 10000\n",
    "initial_dim = 784\n",
    "dest_dim = 100"
   ]
  },
  {
   "cell_type": "code",
   "execution_count": 9,
   "metadata": {},
   "outputs": [],
   "source": [
    "end_to_end, encoder, z_mean, z_variance = create_model(batch_size, initial_dim, dest_dim)\n",
    "\n",
    "end_to_end.compile(optimizer='rmsprop', loss=vae_loss)"
   ]
  },
  {
   "cell_type": "code",
   "execution_count": 12,
   "metadata": {},
   "outputs": [],
   "source": [
    "load_weights(end_to_end, 'end_to_end_2hl', dest_dim, 100)"
   ]
  },
  {
   "cell_type": "code",
   "execution_count": 20,
   "metadata": {},
   "outputs": [
    {
     "name": "stdout",
     "output_type": "stream",
     "text": [
      "Train on 60000 samples, validate on 10000 samples\n",
      "Epoch 1/100\n",
      "60000/60000 [==============================] - 7s 114us/step - loss: 0.3499 - val_loss: 0.3502\n",
      "Epoch 2/100\n",
      "60000/60000 [==============================] - 7s 114us/step - loss: 0.3512 - val_loss: 0.3504\n",
      "Epoch 3/100\n",
      "60000/60000 [==============================] - 7s 114us/step - loss: 0.3523 - val_loss: 0.3544\n",
      "Epoch 4/100\n",
      "60000/60000 [==============================] - 7s 113us/step - loss: 0.3513 - val_loss: 0.3489\n",
      "Epoch 5/100\n",
      "60000/60000 [==============================] - 7s 113us/step - loss: 0.3508 - val_loss: 0.3494\n",
      "Epoch 6/100\n",
      "60000/60000 [==============================] - 7s 113us/step - loss: 0.3511 - val_loss: 0.3529\n",
      "Epoch 7/100\n",
      "60000/60000 [==============================] - 7s 115us/step - loss: 0.3512 - val_loss: 0.3483\n",
      "Epoch 8/100\n",
      "60000/60000 [==============================] - 7s 114us/step - loss: 0.3517 - val_loss: 0.3500\n",
      "Epoch 9/100\n",
      "60000/60000 [==============================] - 7s 113us/step - loss: 0.3495 - val_loss: 0.3513\n",
      "Epoch 10/100\n",
      "60000/60000 [==============================] - 7s 113us/step - loss: 0.3506 - val_loss: 0.3478\n",
      "Epoch 11/100\n",
      "60000/60000 [==============================] - 7s 113us/step - loss: 0.3523 - val_loss: 0.3533\n",
      "Epoch 12/100\n",
      "60000/60000 [==============================] - 7s 115us/step - loss: 0.3508 - val_loss: 0.3479\n",
      "Epoch 13/100\n",
      "60000/60000 [==============================] - 7s 114us/step - loss: 0.3498 - val_loss: 0.3489\n",
      "Epoch 14/100\n",
      "60000/60000 [==============================] - 7s 114us/step - loss: 0.3500 - val_loss: 0.3527\n",
      "Epoch 15/100\n",
      "60000/60000 [==============================] - 7s 113us/step - loss: 0.3514 - val_loss: 0.3471\n",
      "Epoch 16/100\n",
      "60000/60000 [==============================] - 7s 114us/step - loss: 0.3499 - val_loss: 0.3492\n",
      "Epoch 17/100\n",
      "60000/60000 [==============================] - 7s 115us/step - loss: 0.3506 - val_loss: 0.3545\n",
      "Epoch 18/100\n",
      "60000/60000 [==============================] - 7s 115us/step - loss: 0.3506 - val_loss: 0.3481\n",
      "Epoch 19/100\n",
      "60000/60000 [==============================] - 7s 113us/step - loss: 0.3498 - val_loss: 0.3483\n",
      "Epoch 20/100\n",
      "60000/60000 [==============================] - 7s 113us/step - loss: 0.3499 - val_loss: 0.3494\n",
      "Epoch 21/100\n",
      "60000/60000 [==============================] - 7s 113us/step - loss: 0.3503 - val_loss: 0.3510\n",
      "Epoch 22/100\n",
      "60000/60000 [==============================] - 7s 113us/step - loss: 0.3509 - val_loss: 0.3469\n",
      "Epoch 23/100\n",
      "60000/60000 [==============================] - 7s 113us/step - loss: 0.3499 - val_loss: 0.3534\n",
      "Epoch 24/100\n",
      "60000/60000 [==============================] - 7s 113us/step - loss: 0.3497 - val_loss: 0.3493\n",
      "Epoch 25/100\n",
      "60000/60000 [==============================] - 7s 113us/step - loss: 0.3492 - val_loss: 0.3483\n",
      "Epoch 26/100\n",
      "60000/60000 [==============================] - 7s 114us/step - loss: 0.3506 - val_loss: 0.3479\n",
      "Epoch 27/100\n",
      "60000/60000 [==============================] - 7s 113us/step - loss: 0.3509 - val_loss: 0.3483\n",
      "Epoch 28/100\n",
      "60000/60000 [==============================] - 7s 113us/step - loss: 0.3476 - val_loss: 0.3472\n",
      "Epoch 29/100\n",
      "60000/60000 [==============================] - 7s 114us/step - loss: 0.3510 - val_loss: 0.3484\n",
      "Epoch 30/100\n",
      "60000/60000 [==============================] - 7s 113us/step - loss: 0.3485 - val_loss: 0.3506\n",
      "Epoch 31/100\n",
      "60000/60000 [==============================] - 7s 113us/step - loss: 0.3509 - val_loss: 0.3511\n",
      "Epoch 32/100\n",
      "60000/60000 [==============================] - 7s 115us/step - loss: 0.3492 - val_loss: 0.3461\n",
      "Epoch 33/100\n",
      "60000/60000 [==============================] - 7s 119us/step - loss: 0.3481 - val_loss: 0.3511\n",
      "Epoch 34/100\n",
      "60000/60000 [==============================] - 7s 114us/step - loss: 0.3512 - val_loss: 0.3511\n",
      "Epoch 35/100\n",
      "60000/60000 [==============================] - 7s 115us/step - loss: 0.3498 - val_loss: 0.3464\n",
      "Epoch 36/100\n",
      "60000/60000 [==============================] - 7s 113us/step - loss: 0.3474 - val_loss: 0.3484\n",
      "Epoch 37/100\n",
      "60000/60000 [==============================] - 7s 113us/step - loss: 0.3502 - val_loss: 0.3500\n",
      "Epoch 38/100\n",
      "60000/60000 [==============================] - 7s 117us/step - loss: 0.3491 - val_loss: 0.3480\n",
      "Epoch 39/100\n",
      "60000/60000 [==============================] - 7s 118us/step - loss: 0.3496 - val_loss: 0.3508\n",
      "Epoch 40/100\n",
      "60000/60000 [==============================] - 7s 116us/step - loss: 0.3484 - val_loss: 0.3471\n",
      "Epoch 41/100\n",
      "60000/60000 [==============================] - 7s 113us/step - loss: 0.3492 - val_loss: 0.3487\n",
      "Epoch 42/100\n",
      "60000/60000 [==============================] - 7s 113us/step - loss: 0.3479 - val_loss: 0.3498\n",
      "Epoch 43/100\n",
      "60000/60000 [==============================] - 7s 116us/step - loss: 0.3508 - val_loss: 0.3488\n",
      "Epoch 44/100\n",
      "60000/60000 [==============================] - 7s 118us/step - loss: 0.3491 - val_loss: 0.3463\n",
      "Epoch 45/100\n",
      "60000/60000 [==============================] - 7s 113us/step - loss: 0.3474 - val_loss: 0.3473\n",
      "Epoch 46/100\n",
      "60000/60000 [==============================] - 7s 115us/step - loss: 0.3497 - val_loss: 0.3500\n",
      "Epoch 47/100\n",
      "60000/60000 [==============================] - 7s 114us/step - loss: 0.3488 - val_loss: 0.3462\n",
      "Epoch 48/100\n",
      "60000/60000 [==============================] - 7s 114us/step - loss: 0.3480 - val_loss: 0.3471\n",
      "Epoch 49/100\n",
      "60000/60000 [==============================] - 7s 114us/step - loss: 0.3493 - val_loss: 0.3480\n",
      "Epoch 50/100\n",
      "60000/60000 [==============================] - 7s 115us/step - loss: 0.3491 - val_loss: 0.3523\n",
      "Epoch 51/100\n",
      "60000/60000 [==============================] - 7s 119us/step - loss: 0.3479 - val_loss: 0.3459\n",
      "Epoch 52/100\n",
      "60000/60000 [==============================] - 7s 115us/step - loss: 0.3476 - val_loss: 0.3463\n",
      "Epoch 53/100\n",
      "60000/60000 [==============================] - 7s 115us/step - loss: 0.3479 - val_loss: 0.3489\n",
      "Epoch 54/100\n",
      "60000/60000 [==============================] - 7s 113us/step - loss: 0.3502 - val_loss: 0.3493\n",
      "Epoch 55/100\n",
      "60000/60000 [==============================] - 7s 113us/step - loss: 0.3481 - val_loss: 0.3444\n",
      "Epoch 56/100\n",
      "60000/60000 [==============================] - 7s 113us/step - loss: 0.3465 - val_loss: 0.3492\n",
      "Epoch 57/100\n",
      "60000/60000 [==============================] - 7s 113us/step - loss: 0.3494 - val_loss: 0.3452\n",
      "Epoch 58/100\n",
      "60000/60000 [==============================] - 7s 113us/step - loss: 0.3469 - val_loss: 0.3462\n",
      "Epoch 59/100\n",
      "60000/60000 [==============================] - 7s 113us/step - loss: 0.3485 - val_loss: 0.3494\n",
      "Epoch 60/100\n",
      "60000/60000 [==============================] - 7s 113us/step - loss: 0.3507 - val_loss: 0.3453\n",
      "Epoch 61/100\n",
      "60000/60000 [==============================] - 7s 113us/step - loss: 0.3462 - val_loss: 0.3466\n",
      "Epoch 62/100\n",
      "60000/60000 [==============================] - 7s 115us/step - loss: 0.3480 - val_loss: 0.3484\n",
      "Epoch 63/100\n",
      "60000/60000 [==============================] - 7s 113us/step - loss: 0.3500 - val_loss: 0.3476\n",
      "Epoch 64/100\n",
      "60000/60000 [==============================] - 7s 113us/step - loss: 0.3466 - val_loss: 0.3453\n",
      "Epoch 65/100\n",
      "60000/60000 [==============================] - 7s 113us/step - loss: 0.3468 - val_loss: 0.3471\n",
      "Epoch 66/100\n",
      "60000/60000 [==============================] - 7s 113us/step - loss: 0.3476 - val_loss: 0.3487\n",
      "Epoch 67/100\n",
      "60000/60000 [==============================] - 7s 113us/step - loss: 0.3483 - val_loss: 0.3484\n",
      "Epoch 68/100\n",
      "60000/60000 [==============================] - 7s 117us/step - loss: 0.3487 - val_loss: 0.3478\n",
      "Epoch 69/100\n",
      "60000/60000 [==============================] - 7s 114us/step - loss: 0.3487 - val_loss: 0.3453\n",
      "Epoch 70/100\n",
      "60000/60000 [==============================] - 7s 114us/step - loss: 0.3464 - val_loss: 0.3461\n",
      "Epoch 71/100\n",
      "60000/60000 [==============================] - 7s 115us/step - loss: 0.3469 - val_loss: 0.3447\n",
      "Epoch 72/100\n",
      "60000/60000 [==============================] - 7s 113us/step - loss: 0.3483 - val_loss: 0.3521\n",
      "Epoch 73/100\n",
      "60000/60000 [==============================] - 7s 113us/step - loss: 0.3481 - val_loss: 0.3459\n",
      "Epoch 74/100\n",
      "60000/60000 [==============================] - 7s 114us/step - loss: 0.3476 - val_loss: 0.3466\n",
      "Epoch 75/100\n",
      "60000/60000 [==============================] - 7s 115us/step - loss: 0.3464 - val_loss: 0.3442\n",
      "Epoch 76/100\n"
     ]
    },
    {
     "name": "stdout",
     "output_type": "stream",
     "text": [
      "60000/60000 [==============================] - 7s 117us/step - loss: 0.3500 - val_loss: 0.3461\n",
      "Epoch 77/100\n",
      "60000/60000 [==============================] - 7s 114us/step - loss: 0.3454 - val_loss: 0.3448\n",
      "Epoch 78/100\n",
      "60000/60000 [==============================] - 7s 113us/step - loss: 0.3471 - val_loss: 0.3493\n",
      "Epoch 79/100\n",
      "60000/60000 [==============================] - 7s 113us/step - loss: 0.3467 - val_loss: 0.3450\n",
      "Epoch 80/100\n",
      "60000/60000 [==============================] - 7s 115us/step - loss: 0.3493 - val_loss: 0.3455\n",
      "Epoch 81/100\n",
      "60000/60000 [==============================] - 7s 113us/step - loss: 0.3457 - val_loss: 0.3463\n",
      "Epoch 82/100\n",
      "60000/60000 [==============================] - 7s 112us/step - loss: 0.3467 - val_loss: 0.3484\n",
      "Epoch 83/100\n",
      "60000/60000 [==============================] - 7s 116us/step - loss: 0.3485 - val_loss: 0.3494\n",
      "Epoch 84/100\n",
      "60000/60000 [==============================] - 7s 113us/step - loss: 0.3477 - val_loss: 0.3456\n",
      "Epoch 85/100\n",
      "60000/60000 [==============================] - 7s 113us/step - loss: 0.3460 - val_loss: 0.3453\n",
      "Epoch 86/100\n",
      "60000/60000 [==============================] - 7s 113us/step - loss: 0.3481 - val_loss: 0.3490\n",
      "Epoch 87/100\n",
      "60000/60000 [==============================] - 7s 117us/step - loss: 0.3466 - val_loss: 0.3444\n",
      "Epoch 88/100\n",
      "60000/60000 [==============================] - 7s 113us/step - loss: 0.3461 - val_loss: 0.3456\n",
      "Epoch 89/100\n",
      "60000/60000 [==============================] - 7s 114us/step - loss: 0.3470 - val_loss: 0.3485\n",
      "Epoch 90/100\n",
      "60000/60000 [==============================] - 7s 113us/step - loss: 0.3487 - val_loss: 0.3470\n",
      "Epoch 91/100\n",
      "60000/60000 [==============================] - 7s 116us/step - loss: 0.3454 - val_loss: 0.3441\n",
      "Epoch 92/100\n",
      "60000/60000 [==============================] - 7s 113us/step - loss: 0.3461 - val_loss: 0.3476\n",
      "Epoch 93/100\n",
      "60000/60000 [==============================] - 7s 113us/step - loss: 0.3470 - val_loss: 0.3437\n",
      "Epoch 94/100\n",
      "60000/60000 [==============================] - 7s 114us/step - loss: 0.3490 - val_loss: 0.3440\n",
      "Epoch 95/100\n",
      "60000/60000 [==============================] - 7s 118us/step - loss: 0.3448 - val_loss: 0.3457\n",
      "Epoch 96/100\n",
      "60000/60000 [==============================] - 7s 114us/step - loss: 0.3457 - val_loss: 0.3457\n",
      "Epoch 97/100\n",
      "60000/60000 [==============================] - 7s 115us/step - loss: 0.3482 - val_loss: 0.3470\n",
      "Epoch 98/100\n",
      "60000/60000 [==============================] - 7s 113us/step - loss: 0.3462 - val_loss: 0.3469\n",
      "Epoch 99/100\n",
      "60000/60000 [==============================] - 7s 114us/step - loss: 0.3473 - val_loss: 0.3437\n",
      "Epoch 100/100\n",
      "60000/60000 [==============================] - 7s 113us/step - loss: 0.3453 - val_loss: 0.3492\n"
     ]
    },
    {
     "data": {
      "text/plain": [
       "<keras.callbacks.callbacks.History at 0x1cca6f747c8>"
      ]
     },
     "execution_count": 20,
     "metadata": {},
     "output_type": "execute_result"
    }
   ],
   "source": [
    "epochs = 100\n",
    "\n",
    "end_to_end.fit(train, train,\n",
    "               shuffle=True,\n",
    "               epochs=epochs,\n",
    "               batch_size=batch_size,\n",
    "               validation_data=(test, test)\n",
    "              )"
   ]
  },
  {
   "cell_type": "code",
   "execution_count": 18,
   "metadata": {},
   "outputs": [],
   "source": [
    "first_5_images = train_df.head().drop('label', axis='columns').to_numpy().reshape((5,28,28))"
   ]
  },
  {
   "cell_type": "code",
   "execution_count": 21,
   "metadata": {},
   "outputs": [
    {
     "data": {
      "image/png": "[encoded data removed]",
      "text/plain": [
       "<Figure size 936x288 with 5 Axes>"
      ]
     },
     "metadata": {
      "needs_background": "light"
     },
     "output_type": "display_data"
    },
    {
     "data": {
      "image/png": "[encoded data removed]",
      "text/plain": [
       "<Figure size 936x288 with 5 Axes>"
      ]
     },
     "metadata": {
      "needs_background": "light"
     },
     "output_type": "display_data"
    }
   ],
   "source": [
    "decoded = end_to_end.predict(train, batch_size=batch_size) * 256.0\n",
    "\n",
    "print_images(first_5_images, 'Oryginalne próbki:')\n",
    "print_images(decoded[:5].reshape((5,28,28)), 'Próbki po przetworzeniu przez autoenkoder:')"
   ]
  },
  {
   "cell_type": "code",
   "execution_count": 22,
   "metadata": {},
   "outputs": [],
   "source": [
    "save_weights(end_to_end, 'end_to_end_e400_d100')"
   ]
  },
  {
   "cell_type": "code",
   "execution_count": null,
   "metadata": {},
   "outputs": [],
   "source": []
  }
 ],
 "metadata": {
  "kernelspec": {
   "display_name": "Python 3",
   "language": "python",
   "name": "python3"
  },
  "language_info": {
   "codemirror_mode": {
    "name": "ipython",
    "version": 3
   },
   "file_extension": ".py",
   "mimetype": "text/x-python",
   "name": "python",
   "nbconvert_exporter": "python",
   "pygments_lexer": "ipython3",
   "version": "3.7.6"
  }
 },
 "nbformat": 4,
 "nbformat_minor": 4
}
