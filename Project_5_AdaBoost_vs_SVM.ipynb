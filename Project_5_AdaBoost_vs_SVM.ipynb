{
 "cells": [
  {
   "cell_type": "markdown",
   "metadata": {},
   "source": [
    "# Porównanie skuteczności klasyfikatorów SVM i AdaBoost na zbiorach danych o wymiarowości zredukowanej przez autoenkoder wariacyjny"
   ]
  },
  {
   "cell_type": "markdown",
   "metadata": {},
   "source": [
    "## Przygotowanie zbioru danych"
   ]
  },
  {
   "cell_type": "code",
   "execution_count": 1,
   "metadata": {},
   "outputs": [],
   "source": [
    "%matplotlib inline\n",
    "\n",
    "import zipfile\n",
    "import pandas as pd\n",
    "from matplotlib import pyplot as plt\n",
    "import numpy as np"
   ]
  },
  {
   "cell_type": "code",
   "execution_count": 2,
   "metadata": {},
   "outputs": [],
   "source": [
    "with zipfile.ZipFile(\"data/fashion-mnist.zip\") as z:\n",
    "    with z.open(\"fashion-mnist_train.csv\") as f:\n",
    "        train_df = pd.read_csv(f)\n",
    "\n",
    "    with z.open(\"fashion-mnist_test.csv\") as f:\n",
    "        test_df = pd.read_csv(f)\n",
    "\n",
    "train_labels = train_df['label'].to_numpy()\n",
    "train_data = train_df.drop('label', axis='columns').to_numpy() / 255.0\n",
    "\n",
    "test_labels = test_df['label'].to_numpy()\n",
    "test_data = test_df.drop('label', axis='columns').to_numpy() / 255.0"
   ]
  },
  {
   "cell_type": "markdown",
   "metadata": {},
   "source": [
    "W projekcie wykorzystujemy zbiór danych FMNIST.\n",
    "\n",
    "Jako że jest to bardzo znany i dokładnie opisany zbiór danych, etap eksploracji danych ograniczyliśmy do minimum - wszelkie ważne własności zbioru zostały już zbadane, więc sprawdzanie ich w miarę potrzeb nie nastręcza większych trudności. Tutaj zaglądamy jedynie na początek danych oraz podstawową ich charakterystykę, aby upewnić się, że wszystko jest w porządku."
   ]
  },
  {
   "cell_type": "code",
   "execution_count": 3,
   "metadata": {
    "scrolled": false
   },
   "outputs": [],
   "source": [
    "def print_images(images, title):\n",
    "    fig, axs = plt.subplots(ncols=5, figsize=(13,4))\n",
    "    \n",
    "    for i, image in enumerate(images):\n",
    "        axs[i].imshow(image, cmap='gray', vmin=0, vmax=255)\n",
    "        axs[i].xaxis.set_visible(False)\n",
    "        axs[i].yaxis.set_visible(False)\n",
    "\n",
    "    fig.tight_layout()\n",
    "    fig.suptitle(title, fontsize=15)\n",
    "    plt.show()"
   ]
  },
  {
   "cell_type": "code",
   "execution_count": 5,
   "metadata": {},
   "outputs": [
    {
     "name": "stdout",
     "output_type": "stream",
     "text": [
      "Liczba próbek w zbiorze uczącym: 60000\n",
      "Liczba próbek w zbiorze testowym: 10000\n",
      "\n",
      "Kształt wektora wejściowego: (785,)\n",
      "Zakres wartości pikseli przed normalizacją: 0 - 255\n"
     ]
    },
    {
     "data": {
      "image/png": "[encoded data removed]",
      "text/plain": [
       "<Figure size 936x288 with 5 Axes>"
      ]
     },
     "metadata": {
      "needs_background": "light"
     },
     "output_type": "display_data"
    },
    {
     "name": "stdout",
     "output_type": "stream",
     "text": [
      "Reprezentacja pierwszych 5 próbek w zbiorze uczącym:\n",
      "\n",
      "   label  pixel1  pixel2  pixel3  pixel4  pixel5  pixel6  pixel7  pixel8  \\\n",
      "0      2       0       0       0       0       0       0       0       0   \n",
      "1      9       0       0       0       0       0       0       0       0   \n",
      "2      6       0       0       0       0       0       0       0       5   \n",
      "3      0       0       0       0       1       2       0       0       0   \n",
      "4      3       0       0       0       0       0       0       0       0   \n",
      "\n",
      "   pixel9  ...  pixel775  pixel776  pixel777  pixel778  pixel779  pixel780  \\\n",
      "0       0  ...         0         0         0         0         0         0   \n",
      "1       0  ...         0         0         0         0         0         0   \n",
      "2       0  ...         0         0         0        30        43         0   \n",
      "3       0  ...         3         0         0         0         0         1   \n",
      "4       0  ...         0         0         0         0         0         0   \n",
      "\n",
      "   pixel781  pixel782  pixel783  pixel784  \n",
      "0         0         0         0         0  \n",
      "1         0         0         0         0  \n",
      "2         0         0         0         0  \n",
      "3         0         0         0         0  \n",
      "4         0         0         0         0  \n",
      "\n",
      "[5 rows x 785 columns]\n"
     ]
    }
   ],
   "source": [
    "print(f'Liczba próbek w zbiorze uczącym: {len(train_df)}')\n",
    "print(f'Liczba próbek w zbiorze testowym: {len(test_df)}')\n",
    "print()\n",
    "print(f'Kształt wektora wejściowego: {np.shape(train_df.iloc[0])}')\n",
    "print(f'Zakres wartości pikseli przed normalizacją: {np.min(train_df.to_numpy())} - {np.max(train_df.to_numpy())}')\n",
    "\n",
    "first_5_images = train_df.head().drop('label', axis='columns').to_numpy().reshape((5,28,28))\n",
    "print_images(first_5_images, 'Pięć pierwszych obrazków ze zbioru uczącego:')\n",
    "    \n",
    "print('Reprezentacja pierwszych 5 próbek w zbiorze uczącym:\\n')\n",
    "print(train_df.head())"
   ]
  },
  {
   "cell_type": "markdown",
   "metadata": {},
   "source": [
    "## Redukcja wymiarowości za pomocą autoenkodera wariacyjnego"
   ]
  },
  {
   "cell_type": "code",
   "execution_count": 6,
   "metadata": {},
   "outputs": [
    {
     "name": "stderr",
     "output_type": "stream",
     "text": [
      "Using TensorFlow backend.\n"
     ]
    }
   ],
   "source": [
    "from keras.layers import Input, Dense, Lambda\n",
    "from keras.models import Model, model_from_json\n",
    "from keras import backend as K\n",
    "from keras import objectives\n",
    "from enum import Enum"
   ]
  },
  {
   "cell_type": "markdown",
   "metadata": {},
   "source": [
    "### Załadowanie modeli"
   ]
  },
  {
   "cell_type": "markdown",
   "metadata": {},
   "source": [
    "Modele zostały zbudowane i wytrenowane w osobnym notatniku Jupyter: *'Autoenkodery - tworzenie i trening'*.\n",
    "\n",
    "W ramach projektu wykorzystano 3 architektury sieci - są to (wg rosnącej złożoności):\n",
    " * enkoder wariacyjny z 2 warstwami ukrytymi\n",
    " * enkoder wariacyjny z 4 warstwami ukrytymi\n",
    " * enkoder konwolucyjno-wariacyjny\n",
    "\n",
    "Każda z architektur została wytrenowana w trzech wersjach - dla 15, 50 i 100 wymiarów w środkowej warstwie sieci.\n",
    "\n",
    "Trening sieci o bardziej złożonej architekturze wymaga więcej czasu - w tym przypadku, pojedyncza epoka treningu najbardziej złożonej sieci (konwolucyjno-wariacyjnej) trwała 10 razy dłużej niż najprostszej z nich (2 warstwy ukryte). Wykorzystanie modeli o różnej złożoności odpowiada zatem posiadaniu odpowiednio zróżnicowanego budżetu czasowego."
   ]
  },
  {
   "cell_type": "code",
   "execution_count": 8,
   "metadata": {},
   "outputs": [],
   "source": [
    "z_mean, z_variance = None, None\n",
    "\n",
    "def load_model(model_name):\n",
    "    with open(f'autoencoders/models/{model_name}.json') as file:\n",
    "        loaded_json = file.read()\n",
    "    return model_from_json(loaded_json)\n",
    "\n",
    "def load_weights(model, model_name, epochs):\n",
    "    model.load_weights(f'autoencoders/weights/{model_name}_e{epochs}.h5')\n",
    "\n",
    "def load_encoder(time, dim, epochs=400):\n",
    "    global z_mean, z_variance\n",
    "    \n",
    "    encoder_name = f'encoder_{time.value}_d{dim.value}'\n",
    "    \n",
    "    encoder = load_model(encoder_name)\n",
    "    load_weights(encoder, encoder_name, epochs)\n",
    "    \n",
    "    z_mean, z_variance = encoder.get_layer('z_mean').output, encoder.get_layer('z_variance').output\n",
    "    encoder.compile(optimizer='rmsprop', loss='mean_squared_error')\n",
    "    \n",
    "    return encoder"
   ]
  },
  {
   "cell_type": "code",
   "execution_count": 9,
   "metadata": {},
   "outputs": [],
   "source": [
    "class Time(Enum):\n",
    "    SHORT = '2hl'\n",
    "    MEDIUM = '4hl'\n",
    "    LONG = 'cvae'\n",
    "\n",
    "class Dim(Enum):\n",
    "    LOW = 15\n",
    "    MEDIUM = 50\n",
    "    HIGH = 100\n",
    "\n",
    "# encoders[dimension][time]\n",
    "\n",
    "encoders = {dim: {time: load_encoder(time, dim, 400 if time != Time.LONG else 300) for time in Time} for dim in Dim}"
   ]
  },
  {
   "cell_type": "markdown",
   "metadata": {},
   "source": [
    "### Generowanie zbiorów danych o zredukowanej wymiarowości"
   ]
  },
  {
   "cell_type": "code",
   "execution_count": 10,
   "metadata": {},
   "outputs": [],
   "source": [
    "batch_size = 10000\n",
    "initial_dim = 784"
   ]
  },
  {
   "cell_type": "code",
   "execution_count": 11,
   "metadata": {
    "scrolled": true
   },
   "outputs": [],
   "source": [
    "# reduced_datasets[Dim][Time]['train'|'test']\n",
    "\n",
    "def reduce_dimensionality(train, test):\n",
    "    return {\n",
    "                dim: {\n",
    "                    time: {\n",
    "                        'train': encoders[dim][time].predict(train, batch_size=batch_size),\n",
    "                        'test': encoders[dim][time].predict(test, batch_size=batch_size)\n",
    "                    } for time in Time\n",
    "                } for dim in Dim\n",
    "            }\n",
    "\n",
    "def map_over_reduced(reduced_datasets, f, args):\n",
    "    return {dim: {\n",
    "                time: {\n",
    "                    key: f(reduced_datasets[dim][time][key], *args) for key in reduced_datasets[dim][time]\n",
    "                } for time in reduced_datasets[dim].keys()\n",
    "            } for dim in reduced_datasets.keys()}"
   ]
  },
  {
   "cell_type": "code",
   "execution_count": 12,
   "metadata": {},
   "outputs": [],
   "source": [
    "reduced_datasets = reduce_dimensionality(train_data, test_data)"
   ]
  },
  {
   "cell_type": "markdown",
   "metadata": {},
   "source": [
    "## Klasyfikacja"
   ]
  },
  {
   "cell_type": "code",
   "execution_count": 13,
   "metadata": {},
   "outputs": [],
   "source": [
    "from sklearn.preprocessing import LabelEncoder\n",
    "from sklearn.metrics import confusion_matrix, accuracy_score\n",
    "from sklearn.model_selection import train_test_split\n",
    "from sklearn.ensemble import AdaBoostClassifier\n",
    "from sklearn.tree import DecisionTreeClassifier\n",
    "from sklearn.naive_bayes import GaussianNB\n",
    "from sklearn.ensemble import RandomForestClassifier\n",
    "from sklearn import datasets"
   ]
  },
  {
   "cell_type": "code",
   "execution_count": 14,
   "metadata": {},
   "outputs": [],
   "source": [
    "from joblib import dump, load"
   ]
  },
  {
   "cell_type": "code",
   "execution_count": 15,
   "metadata": {},
   "outputs": [],
   "source": [
    "def get_classifier_filename(name, dim, time, noise_factor, noise_type):\n",
    "    return f'{name}_{time.value}_d{dim.value}' + (\n",
    "        f'_n{str(noise_factor).split(\".\")[1]}_{noise_type}' if noise_type is not None else ''\n",
    "    )\n",
    "\n",
    "def get_orig_classifier_filename(name, noise_factor, noise_type):\n",
    "    return f'{name}_orig' + (f'_{str(noise_factor).split(\".\")[1]}_{noise_type}' if noise_type is not None else '')\n",
    "\n",
    "def get_classifier_path(name, filename):\n",
    "    return f'{name}/{filename}'\n",
    "\n",
    "def persist_classifier(classifier, name, dim, time, noise_factor, noise_type):\n",
    "    filename = get_classifier_filename(name, dim, time, noise_factor, noise_type)\n",
    "    path = get_classifier_path(name, filename)\n",
    "    dump(classifier, path)\n",
    "\n",
    "def persist_orig_classifier(classifier, name, noise_factor, noise_type):\n",
    "    filename = get_orig_classifier_filename(name, noise_factor, noise_type)\n",
    "    path = get_classifier_path(name, filename)\n",
    "    dump(classifier, path)\n",
    "\n",
    "def load_classifier(name, dim, time, noise_factor, noise_type):\n",
    "    filename = get_classifier_filename(name, dim, time, noise_factor, noise_type)\n",
    "    path = get_classifier_path(name, filename)\n",
    "    return load(path)\n",
    "\n",
    "def load_orig_classifier(name, noise_factor, noise_type):\n",
    "    filename = get_orig_classifier_filename(name, noise_factor, noise_type)\n",
    "    path = get_classifier_path(name, filename)\n",
    "    return load(path)\n",
    "\n",
    "def persist_fitted_clfs(name, orig, applied, noise_factor, noise_type):\n",
    "    orig_fitted, _ = orig\n",
    "    persist_orig_classifier(orig_fitted, name, noise_factor, noise_type)\n",
    "    \n",
    "    for dim, time, (fitted, _) in applied:\n",
    "        persist_classifier(fitted, name, dim, time, noise_factor, noise_type)"
   ]
  },
  {
   "cell_type": "code",
   "execution_count": 47,
   "metadata": {},
   "outputs": [],
   "source": [
    "def fit_predict(model, train_data, train_labels, test_data):\n",
    "    print(f'Fitting model {model}')\n",
    "    \n",
    "    fitted = model.fit(train_data, train_labels)\n",
    "\n",
    "    print(f'Predicting with model {model}')\n",
    "    \n",
    "    predicted = fitted.predict(test_data)\n",
    "    \n",
    "    print()\n",
    "    \n",
    "    return fitted, predicted\n",
    "\n",
    "def apply_classifier(classifier_class, original_dataset, reduced_datasets):\n",
    "    orig_train_data, orig_train_labels, orig_test_data, orig_test_labels = original_dataset\n",
    "    \n",
    "    orig = fit_predict(classifier_class(), orig_train_data, orig_train_labels, orig_test_data)\n",
    "    \n",
    "    applied = [(dim, time, fit_predict(classifier_class(),\n",
    "                                       reduced_datasets[dim][time]['train'],\n",
    "                                       orig_train_labels,\n",
    "                                       reduced_datasets[dim][time]['test']\n",
    "                                       ))\n",
    "              for dim in Dim for time in Time]\n",
    "    \n",
    "    return orig, applied  \n",
    "\n",
    "def print_accuracy_scores(classifier_name, orig, applied, original_dataset):\n",
    "    _, orig_predicted = orig\n",
    "    _, _, _, orig_test_labels = original_dataset\n",
    "    \n",
    "    print(f'{classifier_name} accuracy scores:')\n",
    "    print(f'original dataset: {accuracy_score(orig_test_labels, orig_predicted)}')\n",
    "    \n",
    "    acc = []\n",
    "    labels = []\n",
    "    \n",
    "    for dim, time, (_, predicted) in applied:\n",
    "        print(f'dimension {dim.name}, time {time.name}: {accuracy_score(orig_test_labels, predicted)}')\n",
    "        labels.append(f'dimension {dim.name}, time {time.name}')\n",
    "        acc.append(accuracy_score(orig_test_labels, predicted))\n",
    "        \n",
    "    labels.append('original')\n",
    "    acc.append(accuracy_score(orig_test_labels, orig_predicted))\n",
    "    \n",
    "    fig = plt.figure()\n",
    "    ax = fig.add_axes([0,0,1,1])\n",
    "    ax.bar(labels, acc)\n",
    "    #fig.autofmt_xdate()\n",
    "    plt.show()\n",
    "    return labels, acc\n",
    "    \n",
    "    \n",
    "\n",
    "def print_classification_reports(classifier_name, orig, applied, original_dataset):\n",
    "    _, orig_predicted = orig\n",
    "    _, _, _, orig_test_labels = original_dataset\n",
    "    \n",
    "    labels = []\n",
    "    acc = []\n",
    "    \n",
    "    print('----- Classification for original dataset -----')\n",
    "    print(classification_report(orig_test_labels, orig_predicted))\n",
    "    \n",
    "\n",
    "    \n",
    "    \n",
    "    for dim, time, (_, predicted) in applied:\n",
    "        print(f'----- Classification for dimension {dim.name}, time {time.name} -----')\n",
    "        print(classification_report(orig_test_labels, predicted))\n",
    "        labels.append(f'dimension {dim.name}, time {time.name}')\n",
    "        acc.append(classification_report(orig_test_labels, predicted, output_dict=True)['accuracy'])\n",
    "        \n",
    "    labels.append('original')\n",
    "#     d = classification_report(orig_test_labels, orig_predicted, output_dict=True)\n",
    "#     for key, value in d.items():\n",
    "#         print (key, value)\n",
    "    acc.append(classification_report(orig_test_labels, orig_predicted, output_dict=True)['accuracy'])\n",
    "    \n",
    "    fig = plt.figure()\n",
    "    ax = fig.add_axes([0,0,1,1])\n",
    "    ax.bar(labels, acc)\n",
    "    #fig.autofmt_xdate()\n",
    "    plt.show()\n",
    "    return labels, acc"
   ]
  },
  {
   "cell_type": "code",
   "execution_count": 48,
   "metadata": {},
   "outputs": [],
   "source": [
    "clf = load_classifier('adaboost', Dim.LOW, Time.SHORT, 0.0, None)"
   ]
  },
  {
   "cell_type": "code",
   "execution_count": 49,
   "metadata": {},
   "outputs": [
    {
     "data": {
      "text/plain": [
       "AdaBoostClassifier()"
      ]
     },
     "execution_count": 49,
     "metadata": {},
     "output_type": "execute_result"
    }
   ],
   "source": [
    "clf"
   ]
  },
  {
   "cell_type": "markdown",
   "metadata": {},
   "source": [
    "### AdaBoost"
   ]
  },
  {
   "cell_type": "code",
   "execution_count": 50,
   "metadata": {},
   "outputs": [],
   "source": [
    "def measure_adaboost(original_dataset, reduced_datasets, noise_factor=0.0, noise_type=None):  \n",
    "    orig, applied = apply_classifier(AdaBoostClassifier, original_dataset, reduced_datasets)\n",
    "    \n",
    "    persist_fitted_clfs('adaboost', orig, applied, noise_factor, noise_type)\n",
    "    \n",
    "    return print_accuracy_scores('AdaBoost', orig, applied, original_dataset)"
   ]
  },
  {
   "cell_type": "code",
   "execution_count": 51,
   "metadata": {},
   "outputs": [
    {
     "name": "stdout",
     "output_type": "stream",
     "text": [
      "Fitting model AdaBoostClassifier()\n",
      "Predicting with model AdaBoostClassifier()\n",
      "\n",
      "Fitting model AdaBoostClassifier()\n",
      "Predicting with model AdaBoostClassifier()\n",
      "\n",
      "Fitting model AdaBoostClassifier()\n",
      "Predicting with model AdaBoostClassifier()\n",
      "\n",
      "Fitting model AdaBoostClassifier()\n",
      "Predicting with model AdaBoostClassifier()\n",
      "\n",
      "Fitting model AdaBoostClassifier()\n",
      "Predicting with model AdaBoostClassifier()\n",
      "\n",
      "Fitting model AdaBoostClassifier()\n",
      "Predicting with model AdaBoostClassifier()\n",
      "\n",
      "Fitting model AdaBoostClassifier()\n",
      "Predicting with model AdaBoostClassifier()\n",
      "\n",
      "Fitting model AdaBoostClassifier()\n",
      "Predicting with model AdaBoostClassifier()\n",
      "\n",
      "Fitting model AdaBoostClassifier()\n",
      "Predicting with model AdaBoostClassifier()\n",
      "\n",
      "Fitting model AdaBoostClassifier()\n",
      "Predicting with model AdaBoostClassifier()\n",
      "\n",
      "AdaBoost accuracy scores:\n",
      "original dataset: 0.5612\n",
      "dimension LOW, time SHORT: 0.286\n",
      "dimension LOW, time MEDIUM: 0.3075\n",
      "dimension LOW, time LONG: 0.3339\n",
      "dimension MEDIUM, time SHORT: 0.363\n",
      "dimension MEDIUM, time MEDIUM: 0.4102\n",
      "dimension MEDIUM, time LONG: 0.4081\n",
      "dimension HIGH, time SHORT: 0.3912\n",
      "dimension HIGH, time MEDIUM: 0.4586\n",
      "dimension HIGH, time LONG: 0.4437\n"
     ]
    },
    {
     "data": {
      "image/png": "[encoded data removed]",
      "text/plain": [
       "<Figure size 432x288 with 1 Axes>"
      ]
     },
     "metadata": {
      "needs_background": "light"
     },
     "output_type": "display_data"
    }
   ],
   "source": [
    "ada_labels, ada_acc = measure_adaboost((train_data, train_labels, test_data, test_labels), reduced_datasets)"
   ]
  },
  {
   "cell_type": "markdown",
   "metadata": {},
   "source": [
    "### SVM"
   ]
  },
  {
   "cell_type": "code",
   "execution_count": 52,
   "metadata": {},
   "outputs": [],
   "source": [
    "from sklearn.svm import SVC\n",
    "from sklearn.metrics import classification_report, confusion_matrix"
   ]
  },
  {
   "cell_type": "code",
   "execution_count": 53,
   "metadata": {},
   "outputs": [],
   "source": [
    "def limited(array, n):\n",
    "    return array[:n] if len(array) > n else array\n",
    "\n",
    "def limit_dataset(dataset, target_number_of_samples):\n",
    "    return (limited(array, target_number_of_samples) for array in dataset)"
   ]
  },
  {
   "cell_type": "code",
   "execution_count": 62,
   "metadata": {},
   "outputs": [],
   "source": [
    "orig, applied = None, None\n",
    "\n",
    "def measure_svc(original_dataset, reduced_datasets, sample_limit=10000, noise_factor=0.0, noise_type=None):\n",
    "    global orig, applied\n",
    "    \n",
    "    limited_dataset = limit_dataset(original_dataset, sample_limit)\n",
    "    limited_reduced_datasets = map_over_reduced(reduced_datasets, limited, (sample_limit,))\n",
    "    \n",
    "    orig, applied = apply_classifier(SVC, limited_dataset, limited_reduced_datasets)\n",
    "    \n",
    "    persist_fitted_clfs('svm', orig, applied, noise_factor, noise_type)\n",
    "    \n",
    "    return print_classification_reports('SVC', orig, applied, original_dataset)"
   ]
  },
  {
   "cell_type": "code",
   "execution_count": 63,
   "metadata": {},
   "outputs": [
    {
     "name": "stdout",
     "output_type": "stream",
     "text": [
      "Fitting model SVC()\n",
      "Predicting with model SVC()\n",
      "\n",
      "Fitting model SVC()\n",
      "Predicting with model SVC()\n",
      "\n",
      "Fitting model SVC()\n",
      "Predicting with model SVC()\n",
      "\n",
      "Fitting model SVC()\n",
      "Predicting with model SVC()\n",
      "\n",
      "Fitting model SVC()\n",
      "Predicting with model SVC()\n",
      "\n",
      "Fitting model SVC()\n",
      "Predicting with model SVC()\n",
      "\n",
      "Fitting model SVC()\n",
      "Predicting with model SVC()\n",
      "\n",
      "Fitting model SVC()\n",
      "Predicting with model SVC()\n",
      "\n",
      "Fitting model SVC()\n",
      "Predicting with model SVC()\n",
      "\n",
      "Fitting model SVC()\n",
      "Predicting with model SVC()\n",
      "\n",
      "----- Classification for original dataset -----\n",
      "              precision    recall  f1-score   support\n",
      "\n",
      "           0       0.77      0.83      0.80      1000\n",
      "           1       0.99      0.96      0.98      1000\n",
      "           2       0.81      0.77      0.79      1000\n",
      "           3       0.85      0.91      0.88      1000\n",
      "           4       0.79      0.83      0.81      1000\n",
      "           5       0.95      0.92      0.93      1000\n",
      "           6       0.66      0.59      0.62      1000\n",
      "           7       0.91      0.90      0.91      1000\n",
      "           8       0.96      0.96      0.96      1000\n",
      "           9       0.91      0.95      0.93      1000\n",
      "\n",
      "    accuracy                           0.86     10000\n",
      "   macro avg       0.86      0.86      0.86     10000\n",
      "weighted avg       0.86      0.86      0.86     10000\n",
      "\n",
      "----- Classification for dimension LOW, time SHORT -----\n",
      "              precision    recall  f1-score   support\n",
      "\n",
      "           0       0.23      0.29      0.26      1000\n",
      "           1       0.28      0.37      0.32      1000\n",
      "           2       0.27      0.17      0.21      1000\n",
      "           3       0.24      0.25      0.25      1000\n",
      "           4       0.23      0.27      0.25      1000\n",
      "           5       0.27      0.30      0.29      1000\n",
      "           6       0.16      0.10      0.12      1000\n",
      "           7       0.31      0.38      0.34      1000\n",
      "           8       0.30      0.19      0.23      1000\n",
      "           9       0.45      0.46      0.46      1000\n",
      "\n",
      "    accuracy                           0.28     10000\n",
      "   macro avg       0.27      0.28      0.27     10000\n",
      "weighted avg       0.27      0.28      0.27     10000\n",
      "\n",
      "----- Classification for dimension LOW, time MEDIUM -----\n",
      "              precision    recall  f1-score   support\n",
      "\n",
      "           0       0.25      0.24      0.25      1000\n",
      "           1       0.48      0.47      0.47      1000\n",
      "           2       0.24      0.28      0.25      1000\n",
      "           3       0.26      0.26      0.26      1000\n",
      "           4       0.24      0.26      0.25      1000\n",
      "           5       0.33      0.31      0.32      1000\n",
      "           6       0.16      0.11      0.13      1000\n",
      "           7       0.51      0.50      0.51      1000\n",
      "           8       0.30      0.39      0.34      1000\n",
      "           9       0.51      0.46      0.48      1000\n",
      "\n",
      "    accuracy                           0.33     10000\n",
      "   macro avg       0.33      0.33      0.33     10000\n",
      "weighted avg       0.33      0.33      0.33     10000\n",
      "\n",
      "----- Classification for dimension LOW, time LONG -----\n",
      "              precision    recall  f1-score   support\n",
      "\n",
      "           0       0.23      0.21      0.22      1000\n",
      "           1       0.40      0.45      0.42      1000\n",
      "           2       0.28      0.25      0.27      1000\n",
      "           3       0.26      0.26      0.26      1000\n",
      "           4       0.36      0.38      0.37      1000\n",
      "           5       0.38      0.36      0.37      1000\n",
      "           6       0.19      0.15      0.17      1000\n",
      "           7       0.56      0.57      0.57      1000\n",
      "           8       0.43      0.52      0.47      1000\n",
      "           9       0.54      0.56      0.55      1000\n",
      "\n",
      "    accuracy                           0.37     10000\n",
      "   macro avg       0.36      0.37      0.37     10000\n",
      "weighted avg       0.36      0.37      0.37     10000\n",
      "\n",
      "----- Classification for dimension MEDIUM, time SHORT -----\n",
      "              precision    recall  f1-score   support\n",
      "\n",
      "           0       0.32      0.36      0.34      1000\n",
      "           1       0.49      0.59      0.54      1000\n",
      "           2       0.32      0.25      0.28      1000\n",
      "           3       0.37      0.38      0.37      1000\n",
      "           4       0.32      0.35      0.33      1000\n",
      "           5       0.34      0.46      0.39      1000\n",
      "           6       0.24      0.18      0.21      1000\n",
      "           7       0.47      0.42      0.45      1000\n",
      "           8       0.47      0.34      0.40      1000\n",
      "           9       0.60      0.61      0.60      1000\n",
      "\n",
      "    accuracy                           0.39     10000\n",
      "   macro avg       0.39      0.39      0.39     10000\n",
      "weighted avg       0.39      0.39      0.39     10000\n",
      "\n",
      "----- Classification for dimension MEDIUM, time MEDIUM -----\n",
      "              precision    recall  f1-score   support\n",
      "\n",
      "           0       0.50      0.58      0.54      1000\n",
      "           1       0.79      0.76      0.78      1000\n",
      "           2       0.42      0.38      0.40      1000\n",
      "           3       0.46      0.49      0.47      1000\n",
      "           4       0.38      0.34      0.36      1000\n",
      "           5       0.55      0.57      0.56      1000\n",
      "           6       0.26      0.24      0.25      1000\n",
      "           7       0.67      0.66      0.66      1000\n",
      "           8       0.68      0.69      0.68      1000\n",
      "           9       0.78      0.79      0.79      1000\n",
      "\n",
      "    accuracy                           0.55     10000\n",
      "   macro avg       0.55      0.55      0.55     10000\n",
      "weighted avg       0.55      0.55      0.55     10000\n",
      "\n",
      "----- Classification for dimension MEDIUM, time LONG -----\n",
      "              precision    recall  f1-score   support\n",
      "\n",
      "           0       0.52      0.56      0.54      1000\n",
      "           1       0.69      0.66      0.67      1000\n",
      "           2       0.36      0.37      0.37      1000\n",
      "           3       0.39      0.45      0.42      1000\n",
      "           4       0.39      0.36      0.38      1000\n",
      "           5       0.50      0.55      0.53      1000\n",
      "           6       0.24      0.19      0.21      1000\n",
      "           7       0.66      0.67      0.66      1000\n",
      "           8       0.71      0.69      0.70      1000\n",
      "           9       0.79      0.77      0.78      1000\n",
      "\n",
      "    accuracy                           0.53     10000\n",
      "   macro avg       0.52      0.53      0.53     10000\n",
      "weighted avg       0.52      0.53      0.53     10000\n",
      "\n",
      "----- Classification for dimension HIGH, time SHORT -----\n",
      "              precision    recall  f1-score   support\n",
      "\n",
      "           0       0.44      0.50      0.47      1000\n",
      "           1       0.60      0.62      0.61      1000\n",
      "           2       0.36      0.29      0.32      1000\n",
      "           3       0.46      0.43      0.44      1000\n",
      "           4       0.36      0.39      0.38      1000\n",
      "           5       0.40      0.53      0.45      1000\n",
      "           6       0.22      0.16      0.19      1000\n",
      "           7       0.50      0.57      0.54      1000\n",
      "           8       0.64      0.51      0.57      1000\n",
      "           9       0.65      0.68      0.66      1000\n",
      "\n",
      "    accuracy                           0.47     10000\n",
      "   macro avg       0.46      0.47      0.46     10000\n",
      "weighted avg       0.46      0.47      0.46     10000\n",
      "\n",
      "----- Classification for dimension HIGH, time MEDIUM -----\n",
      "              precision    recall  f1-score   support\n",
      "\n",
      "           0       0.55      0.64      0.59      1000\n",
      "           1       0.83      0.76      0.79      1000\n",
      "           2       0.39      0.36      0.37      1000\n",
      "           3       0.55      0.63      0.59      1000\n",
      "           4       0.41      0.36      0.38      1000\n",
      "           5       0.56      0.52      0.54      1000\n",
      "           6       0.27      0.24      0.25      1000\n",
      "           7       0.60      0.69      0.64      1000\n",
      "           8       0.67      0.64      0.66      1000\n",
      "           9       0.73      0.76      0.74      1000\n",
      "\n",
      "    accuracy                           0.56     10000\n",
      "   macro avg       0.55      0.56      0.55     10000\n",
      "weighted avg       0.55      0.56      0.55     10000\n",
      "\n",
      "----- Classification for dimension HIGH, time LONG -----\n",
      "              precision    recall  f1-score   support\n",
      "\n",
      "           0       0.62      0.69      0.65      1000\n",
      "           1       0.79      0.76      0.78      1000\n",
      "           2       0.38      0.33      0.35      1000\n",
      "           3       0.52      0.59      0.55      1000\n",
      "           4       0.45      0.45      0.45      1000\n",
      "           5       0.61      0.60      0.60      1000\n",
      "           6       0.28      0.26      0.27      1000\n",
      "           7       0.67      0.73      0.70      1000\n",
      "           8       0.68      0.63      0.65      1000\n",
      "           9       0.76      0.76      0.76      1000\n",
      "\n",
      "    accuracy                           0.58     10000\n",
      "   macro avg       0.58      0.58      0.58     10000\n",
      "weighted avg       0.58      0.58      0.58     10000\n",
      "\n"
     ]
    },
    {
     "data": {
      "image/png": "[encoded data removed]",
      "text/plain": [
       "<Figure size 432x288 with 1 Axes>"
      ]
     },
     "metadata": {
      "needs_background": "light"
     },
     "output_type": "display_data"
    }
   ],
   "source": [
    "svm_labels, svm_acc = measure_svc((train_data, train_labels, test_data, test_labels), reduced_datasets)"
   ]
  },
  {
   "cell_type": "markdown",
   "metadata": {},
   "source": [
    "### Porównanie klasyfikatorów"
   ]
  },
  {
   "cell_type": "code",
   "execution_count": 77,
   "metadata": {},
   "outputs": [
    {
     "data": {
      "image/png": "[encoded data removed]",
      "text/plain": [
       "<Figure size 432x288 with 1 Axes>"
      ]
     },
     "metadata": {
      "needs_background": "light"
     },
     "output_type": "display_data"
    }
   ],
   "source": [
    "#print(ada_labels)\n",
    "ax = plt.subplot(111)\n",
    "x = [x for x in range(10)]\n",
    "xx = [x+0.5 for x in range(10)]\n",
    "svm_legend = ax.bar(x, svm_acc, width=0.5, color='r')\n",
    "ada_legend = ax.bar(xx, ada_acc, width=0.5, color='b')\n",
    "ax.set_ylabel('Accuracy')\n",
    "ax.set_xticks(x)\n",
    "ax.set_xticklabels(ada_labels, rotation=90)\n",
    "ax.legend((svm_legend, ada_legend), ('SVM', 'AdaBoost'))\n",
    "ax.autoscale()\n",
    "plt.show()"
   ]
  },
  {
   "cell_type": "markdown",
   "metadata": {},
   "source": [
    "##### Dla oryginalnych danych klasyfikator SVM w przypadku zbioru fashion mnist odznacza się znacznie większą precyzją. \n",
    "##### Zmniejszenie wymiarowości zbioru znacznie pogarsza wyniki klasyfikacji, chociaż klasyfikator SVM osiąga lepszą celność dla prawie wszystkich przypadków testowych, to klasyfikator AdaBoost wydaje się być mniej wrażliwy na zmniejszanie wymiarowości i zasobów czasowych liczenia. W jego przypadku słupki różnią się o mniejsze wartości. Szczególnie widać to dla namniejszej wymiarowości i czasu uczenia, gdzie klasyfikator AdaBoost osiągnął lepszą precyzję od SVM. Widać, że wraz ze zmniejszaniem czasu uczenia i wymiarowości danych wykresy słupkowe przedstawiające precyzję obu klasyfikatorów się do siebie zbliżają."
   ]
  },
  {
   "cell_type": "markdown",
   "metadata": {},
   "source": [
    "## Pomiar odporności klasyfikatorów na zaszumione dane (*robustness*)"
   ]
  },
  {
   "cell_type": "markdown",
   "metadata": {},
   "source": [
    "### Zaszumienie wektorów danych"
   ]
  },
  {
   "cell_type": "code",
   "execution_count": 40,
   "metadata": {},
   "outputs": [],
   "source": [
    "def noisify_vectors(data, noise_factor):    \n",
    "    vector_length = len(data[0])\n",
    "    number_of_samples = len(data)\n",
    "    epsilon = (np.random.rand(number_of_samples, vector_length) - 0.5) * 2 * 255 * noise_factor\n",
    "    new_data = data + epsilon\n",
    "    bounded = lambda p: min(max(p, 0), 255)\n",
    "    return np.vectorize(bounded)(new_data)"
   ]
  },
  {
   "cell_type": "code",
   "execution_count": 43,
   "metadata": {},
   "outputs": [
    {
     "name": "stdout",
     "output_type": "stream",
     "text": [
      "Fitting model AdaBoostClassifier()\n",
      "Predicting with model AdaBoostClassifier()\n",
      "\n",
      "Fitting model AdaBoostClassifier()\n",
      "Predicting with model AdaBoostClassifier()\n",
      "\n",
      "Fitting model AdaBoostClassifier()\n",
      "Predicting with model AdaBoostClassifier()\n",
      "\n",
      "Fitting model AdaBoostClassifier()\n",
      "Predicting with model AdaBoostClassifier()\n",
      "\n",
      "Fitting model AdaBoostClassifier()\n",
      "Predicting with model AdaBoostClassifier()\n",
      "\n",
      "Fitting model AdaBoostClassifier()\n",
      "Predicting with model AdaBoostClassifier()\n",
      "\n",
      "Fitting model AdaBoostClassifier()\n",
      "Predicting with model AdaBoostClassifier()\n",
      "\n",
      "Fitting model AdaBoostClassifier()\n",
      "Predicting with model AdaBoostClassifier()\n",
      "\n",
      "Fitting model AdaBoostClassifier()\n",
      "Predicting with model AdaBoostClassifier()\n",
      "\n",
      "Fitting model AdaBoostClassifier()\n",
      "Predicting with model AdaBoostClassifier()\n",
      "\n",
      "AdaBoost accuracy scores:\n",
      "original dataset: 0.1173\n",
      "dimension LOW, time SHORT: 0.0976\n",
      "dimension LOW, time MEDIUM: 0.1133\n",
      "dimension LOW, time LONG: 0.1108\n",
      "dimension MEDIUM, time SHORT: 0.0973\n",
      "dimension MEDIUM, time MEDIUM: 0.114\n",
      "dimension MEDIUM, time LONG: 0.1092\n",
      "dimension HIGH, time SHORT: 0.0992\n",
      "dimension HIGH, time MEDIUM: 0.1126\n",
      "dimension HIGH, time LONG: 0.1053\n"
     ]
    },
    {
     "data": {
      "image/png": "[encoded data removed]",
      "text/plain": [
       "<Figure size 432x288 with 1 Axes>"
      ]
     },
     "metadata": {
      "needs_background": "light"
     },
     "output_type": "display_data"
    },
    {
     "ename": "TypeError",
     "evalue": "slice indices must be integers or None or have an __index__ method",
     "output_type": "error",
     "traceback": [
      "\u001b[1;31m---------------------------------------------------------------------------\u001b[0m",
      "\u001b[1;31mTypeError\u001b[0m                                 Traceback (most recent call last)",
      "\u001b[1;32m<ipython-input-43-30d8a96fa041>\u001b[0m in \u001b[0;36m<module>\u001b[1;34m\u001b[0m\n\u001b[0;32m     11\u001b[0m \u001b[1;33m\u001b[0m\u001b[0m\n\u001b[0;32m     12\u001b[0m     \u001b[0mmeasure_adaboost\u001b[0m\u001b[1;33m(\u001b[0m\u001b[0mnoisy_original_dataset\u001b[0m\u001b[1;33m,\u001b[0m \u001b[0mnoisy_reduced_datasets\u001b[0m\u001b[1;33m,\u001b[0m \u001b[0mnoise_factor\u001b[0m\u001b[1;33m,\u001b[0m \u001b[0mnoise_type\u001b[0m\u001b[1;33m)\u001b[0m\u001b[1;33m\u001b[0m\u001b[1;33m\u001b[0m\u001b[0m\n\u001b[1;32m---> 13\u001b[1;33m     \u001b[0mmeasure_svc\u001b[0m\u001b[1;33m(\u001b[0m\u001b[0mnoisy_original_dataset\u001b[0m\u001b[1;33m,\u001b[0m \u001b[0mnoisy_reduced_datasets\u001b[0m\u001b[1;33m,\u001b[0m \u001b[0mnoise_factor\u001b[0m\u001b[1;33m,\u001b[0m \u001b[0mnoise_type\u001b[0m\u001b[1;33m)\u001b[0m\u001b[1;33m\u001b[0m\u001b[1;33m\u001b[0m\u001b[0m\n\u001b[0m",
      "\u001b[1;32m<ipython-input-33-5cd0a5c9a030>\u001b[0m in \u001b[0;36mmeasure_svc\u001b[1;34m(original_dataset, reduced_datasets, sample_limit, noise_factor, noise_type)\u001b[0m\n\u001b[0;32m      5\u001b[0m \u001b[1;33m\u001b[0m\u001b[0m\n\u001b[0;32m      6\u001b[0m     \u001b[0mlimited_dataset\u001b[0m \u001b[1;33m=\u001b[0m \u001b[0mlimit_dataset\u001b[0m\u001b[1;33m(\u001b[0m\u001b[0moriginal_dataset\u001b[0m\u001b[1;33m,\u001b[0m \u001b[0msample_limit\u001b[0m\u001b[1;33m)\u001b[0m\u001b[1;33m\u001b[0m\u001b[1;33m\u001b[0m\u001b[0m\n\u001b[1;32m----> 7\u001b[1;33m     \u001b[0mlimited_reduced_datasets\u001b[0m \u001b[1;33m=\u001b[0m \u001b[0mmap_over_reduced\u001b[0m\u001b[1;33m(\u001b[0m\u001b[0mreduced_datasets\u001b[0m\u001b[1;33m,\u001b[0m \u001b[0mlimited\u001b[0m\u001b[1;33m,\u001b[0m \u001b[1;33m(\u001b[0m\u001b[0msample_limit\u001b[0m\u001b[1;33m,\u001b[0m\u001b[1;33m)\u001b[0m\u001b[1;33m)\u001b[0m\u001b[1;33m\u001b[0m\u001b[1;33m\u001b[0m\u001b[0m\n\u001b[0m\u001b[0;32m      8\u001b[0m \u001b[1;33m\u001b[0m\u001b[0m\n\u001b[0;32m      9\u001b[0m     \u001b[0morig\u001b[0m\u001b[1;33m,\u001b[0m \u001b[0mapplied\u001b[0m \u001b[1;33m=\u001b[0m \u001b[0mapply_classifier\u001b[0m\u001b[1;33m(\u001b[0m\u001b[0mSVC\u001b[0m\u001b[1;33m,\u001b[0m \u001b[0mlimited_dataset\u001b[0m\u001b[1;33m,\u001b[0m \u001b[0mlimited_reduced_datasets\u001b[0m\u001b[1;33m)\u001b[0m\u001b[1;33m\u001b[0m\u001b[1;33m\u001b[0m\u001b[0m\n",
      "\u001b[1;32m<ipython-input-11-c02b1b7ac251>\u001b[0m in \u001b[0;36mmap_over_reduced\u001b[1;34m(reduced_datasets, f, args)\u001b[0m\n\u001b[0;32m     16\u001b[0m                     \u001b[0mkey\u001b[0m\u001b[1;33m:\u001b[0m \u001b[0mf\u001b[0m\u001b[1;33m(\u001b[0m\u001b[0mreduced_datasets\u001b[0m\u001b[1;33m[\u001b[0m\u001b[0mdim\u001b[0m\u001b[1;33m]\u001b[0m\u001b[1;33m[\u001b[0m\u001b[0mtime\u001b[0m\u001b[1;33m]\u001b[0m\u001b[1;33m[\u001b[0m\u001b[0mkey\u001b[0m\u001b[1;33m]\u001b[0m\u001b[1;33m,\u001b[0m \u001b[1;33m*\u001b[0m\u001b[0margs\u001b[0m\u001b[1;33m)\u001b[0m \u001b[1;32mfor\u001b[0m \u001b[0mkey\u001b[0m \u001b[1;32min\u001b[0m \u001b[0mreduced_datasets\u001b[0m\u001b[1;33m[\u001b[0m\u001b[0mdim\u001b[0m\u001b[1;33m]\u001b[0m\u001b[1;33m[\u001b[0m\u001b[0mtime\u001b[0m\u001b[1;33m]\u001b[0m\u001b[1;33m\u001b[0m\u001b[1;33m\u001b[0m\u001b[0m\n\u001b[0;32m     17\u001b[0m                 } for time in reduced_datasets[dim].keys()\n\u001b[1;32m---> 18\u001b[1;33m             } for dim in reduced_datasets.keys()}\n\u001b[0m",
      "\u001b[1;32m<ipython-input-11-c02b1b7ac251>\u001b[0m in \u001b[0;36m<dictcomp>\u001b[1;34m(.0)\u001b[0m\n\u001b[0;32m     16\u001b[0m                     \u001b[0mkey\u001b[0m\u001b[1;33m:\u001b[0m \u001b[0mf\u001b[0m\u001b[1;33m(\u001b[0m\u001b[0mreduced_datasets\u001b[0m\u001b[1;33m[\u001b[0m\u001b[0mdim\u001b[0m\u001b[1;33m]\u001b[0m\u001b[1;33m[\u001b[0m\u001b[0mtime\u001b[0m\u001b[1;33m]\u001b[0m\u001b[1;33m[\u001b[0m\u001b[0mkey\u001b[0m\u001b[1;33m]\u001b[0m\u001b[1;33m,\u001b[0m \u001b[1;33m*\u001b[0m\u001b[0margs\u001b[0m\u001b[1;33m)\u001b[0m \u001b[1;32mfor\u001b[0m \u001b[0mkey\u001b[0m \u001b[1;32min\u001b[0m \u001b[0mreduced_datasets\u001b[0m\u001b[1;33m[\u001b[0m\u001b[0mdim\u001b[0m\u001b[1;33m]\u001b[0m\u001b[1;33m[\u001b[0m\u001b[0mtime\u001b[0m\u001b[1;33m]\u001b[0m\u001b[1;33m\u001b[0m\u001b[1;33m\u001b[0m\u001b[0m\n\u001b[0;32m     17\u001b[0m                 } for time in reduced_datasets[dim].keys()\n\u001b[1;32m---> 18\u001b[1;33m             } for dim in reduced_datasets.keys()}\n\u001b[0m",
      "\u001b[1;32m<ipython-input-11-c02b1b7ac251>\u001b[0m in \u001b[0;36m<dictcomp>\u001b[1;34m(.0)\u001b[0m\n\u001b[0;32m     15\u001b[0m                 time: {\n\u001b[0;32m     16\u001b[0m                     \u001b[0mkey\u001b[0m\u001b[1;33m:\u001b[0m \u001b[0mf\u001b[0m\u001b[1;33m(\u001b[0m\u001b[0mreduced_datasets\u001b[0m\u001b[1;33m[\u001b[0m\u001b[0mdim\u001b[0m\u001b[1;33m]\u001b[0m\u001b[1;33m[\u001b[0m\u001b[0mtime\u001b[0m\u001b[1;33m]\u001b[0m\u001b[1;33m[\u001b[0m\u001b[0mkey\u001b[0m\u001b[1;33m]\u001b[0m\u001b[1;33m,\u001b[0m \u001b[1;33m*\u001b[0m\u001b[0margs\u001b[0m\u001b[1;33m)\u001b[0m \u001b[1;32mfor\u001b[0m \u001b[0mkey\u001b[0m \u001b[1;32min\u001b[0m \u001b[0mreduced_datasets\u001b[0m\u001b[1;33m[\u001b[0m\u001b[0mdim\u001b[0m\u001b[1;33m]\u001b[0m\u001b[1;33m[\u001b[0m\u001b[0mtime\u001b[0m\u001b[1;33m]\u001b[0m\u001b[1;33m\u001b[0m\u001b[1;33m\u001b[0m\u001b[0m\n\u001b[1;32m---> 17\u001b[1;33m                 } for time in reduced_datasets[dim].keys()\n\u001b[0m\u001b[0;32m     18\u001b[0m             } for dim in reduced_datasets.keys()}\n",
      "\u001b[1;32m<ipython-input-11-c02b1b7ac251>\u001b[0m in \u001b[0;36m<dictcomp>\u001b[1;34m(.0)\u001b[0m\n\u001b[0;32m     14\u001b[0m     return {dim: {\n\u001b[0;32m     15\u001b[0m                 time: {\n\u001b[1;32m---> 16\u001b[1;33m                     \u001b[0mkey\u001b[0m\u001b[1;33m:\u001b[0m \u001b[0mf\u001b[0m\u001b[1;33m(\u001b[0m\u001b[0mreduced_datasets\u001b[0m\u001b[1;33m[\u001b[0m\u001b[0mdim\u001b[0m\u001b[1;33m]\u001b[0m\u001b[1;33m[\u001b[0m\u001b[0mtime\u001b[0m\u001b[1;33m]\u001b[0m\u001b[1;33m[\u001b[0m\u001b[0mkey\u001b[0m\u001b[1;33m]\u001b[0m\u001b[1;33m,\u001b[0m \u001b[1;33m*\u001b[0m\u001b[0margs\u001b[0m\u001b[1;33m)\u001b[0m \u001b[1;32mfor\u001b[0m \u001b[0mkey\u001b[0m \u001b[1;32min\u001b[0m \u001b[0mreduced_datasets\u001b[0m\u001b[1;33m[\u001b[0m\u001b[0mdim\u001b[0m\u001b[1;33m]\u001b[0m\u001b[1;33m[\u001b[0m\u001b[0mtime\u001b[0m\u001b[1;33m]\u001b[0m\u001b[1;33m\u001b[0m\u001b[1;33m\u001b[0m\u001b[0m\n\u001b[0m\u001b[0;32m     17\u001b[0m                 } for time in reduced_datasets[dim].keys()\n\u001b[0;32m     18\u001b[0m             } for dim in reduced_datasets.keys()}\n",
      "\u001b[1;32m<ipython-input-29-b88e554645cb>\u001b[0m in \u001b[0;36mlimited\u001b[1;34m(array, n)\u001b[0m\n\u001b[0;32m      1\u001b[0m \u001b[1;32mdef\u001b[0m \u001b[0mlimited\u001b[0m\u001b[1;33m(\u001b[0m\u001b[0marray\u001b[0m\u001b[1;33m,\u001b[0m \u001b[0mn\u001b[0m\u001b[1;33m)\u001b[0m\u001b[1;33m:\u001b[0m\u001b[1;33m\u001b[0m\u001b[1;33m\u001b[0m\u001b[0m\n\u001b[1;32m----> 2\u001b[1;33m     \u001b[1;32mreturn\u001b[0m \u001b[0marray\u001b[0m\u001b[1;33m[\u001b[0m\u001b[1;33m:\u001b[0m\u001b[0mn\u001b[0m\u001b[1;33m]\u001b[0m \u001b[1;32mif\u001b[0m \u001b[0mlen\u001b[0m\u001b[1;33m(\u001b[0m\u001b[0marray\u001b[0m\u001b[1;33m)\u001b[0m \u001b[1;33m>\u001b[0m \u001b[0mn\u001b[0m \u001b[1;32melse\u001b[0m \u001b[0marray\u001b[0m\u001b[1;33m\u001b[0m\u001b[1;33m\u001b[0m\u001b[0m\n\u001b[0m\u001b[0;32m      3\u001b[0m \u001b[1;33m\u001b[0m\u001b[0m\n\u001b[0;32m      4\u001b[0m \u001b[1;32mdef\u001b[0m \u001b[0mlimit_dataset\u001b[0m\u001b[1;33m(\u001b[0m\u001b[0mdataset\u001b[0m\u001b[1;33m,\u001b[0m \u001b[0mtarget_number_of_samples\u001b[0m\u001b[1;33m)\u001b[0m\u001b[1;33m:\u001b[0m\u001b[1;33m\u001b[0m\u001b[1;33m\u001b[0m\u001b[0m\n\u001b[0;32m      5\u001b[0m     \u001b[1;32mreturn\u001b[0m \u001b[1;33m(\u001b[0m\u001b[0mlimited\u001b[0m\u001b[1;33m(\u001b[0m\u001b[0marray\u001b[0m\u001b[1;33m,\u001b[0m \u001b[0mtarget_number_of_samples\u001b[0m\u001b[1;33m)\u001b[0m \u001b[1;32mfor\u001b[0m \u001b[0marray\u001b[0m \u001b[1;32min\u001b[0m \u001b[0mdataset\u001b[0m\u001b[1;33m)\u001b[0m\u001b[1;33m\u001b[0m\u001b[1;33m\u001b[0m\u001b[0m\n",
      "\u001b[1;31mTypeError\u001b[0m: slice indices must be integers or None or have an __index__ method"
     ]
    }
   ],
   "source": [
    "noise_factors = np.linspace(0.1, 0.5, 3)\n",
    "noise_type = 'vectors'\n",
    "\n",
    "for noise_factor in noise_factors:\n",
    "    noisy_train_data = noisify_vectors(train_data, noise_factor)\n",
    "    noisy_test_data = noisify_vectors(test_data, noise_factor)\n",
    "    \n",
    "    noisy_original_dataset = (noisy_train_data, train_labels, noisy_test_data, test_labels)\n",
    "    \n",
    "    noisy_reduced_datasets = reduce_dimensionality(noisy_train_data, noisy_test_data)\n",
    "    \n",
    "    measure_adaboost(noisy_original_dataset, noisy_reduced_datasets, noise_factor, noise_type)\n",
    "    measure_svc(noisy_original_dataset, noisy_reduced_datasets, noise_factor, noise_type)"
   ]
  },
  {
   "cell_type": "markdown",
   "metadata": {},
   "source": [
    "### Zaszumienie etykiet"
   ]
  },
  {
   "cell_type": "code",
   "execution_count": 44,
   "metadata": {},
   "outputs": [],
   "source": [
    "from copy import deepcopy\n",
    "\n",
    "def noisify_labels(labels, ratio):\n",
    "    new_labels = deepcopy(labels)\n",
    "    distinct_labels = np.unique(labels)\n",
    "    indices = np.random.choice(len(labels), int(ratio * len(labels)), replace=False)\n",
    "    for i in indices:\n",
    "        current_label = new_labels[i]\n",
    "        possible_labels = [l for l in distinct_labels if l != current_label]\n",
    "        new_labels[i] = np.random.choice(possible_labels, 1)[0]\n",
    "    return new_labels"
   ]
  },
  {
   "cell_type": "code",
   "execution_count": 46,
   "metadata": {},
   "outputs": [
    {
     "name": "stdout",
     "output_type": "stream",
     "text": [
      "Fitting model AdaBoostClassifier()\n",
      "Predicting with model AdaBoostClassifier()\n",
      "\n",
      "Fitting model AdaBoostClassifier()\n",
      "Predicting with model AdaBoostClassifier()\n",
      "\n",
      "Fitting model AdaBoostClassifier()\n",
      "Predicting with model AdaBoostClassifier()\n",
      "\n",
      "Fitting model AdaBoostClassifier()\n",
      "Predicting with model AdaBoostClassifier()\n",
      "\n",
      "Fitting model AdaBoostClassifier()\n",
      "Predicting with model AdaBoostClassifier()\n",
      "\n",
      "Fitting model AdaBoostClassifier()\n",
      "Predicting with model AdaBoostClassifier()\n",
      "\n",
      "Fitting model AdaBoostClassifier()\n",
      "Predicting with model AdaBoostClassifier()\n",
      "\n",
      "Fitting model AdaBoostClassifier()\n",
      "Predicting with model AdaBoostClassifier()\n",
      "\n",
      "Fitting model AdaBoostClassifier()\n",
      "Predicting with model AdaBoostClassifier()\n",
      "\n",
      "Fitting model AdaBoostClassifier()\n",
      "Predicting with model AdaBoostClassifier()\n",
      "\n",
      "AdaBoost accuracy scores:\n",
      "original dataset: 0.7447\n",
      "dimension LOW, time SHORT: 0.2857\n",
      "dimension LOW, time MEDIUM: 0.3056\n",
      "dimension LOW, time LONG: 0.3584\n",
      "dimension MEDIUM, time SHORT: 0.3508\n",
      "dimension MEDIUM, time MEDIUM: 0.5432\n",
      "dimension MEDIUM, time LONG: 0.5007\n",
      "dimension HIGH, time SHORT: 0.3871\n",
      "dimension HIGH, time MEDIUM: 0.6075\n",
      "dimension HIGH, time LONG: 0.5971\n"
     ]
    },
    {
     "data": {
      "image/png": "[encoded data removed]",
      "text/plain": [
       "<Figure size 432x288 with 1 Axes>"
      ]
     },
     "metadata": {
      "needs_background": "light"
     },
     "output_type": "display_data"
    },
    {
     "ename": "TypeError",
     "evalue": "slice indices must be integers or None or have an __index__ method",
     "output_type": "error",
     "traceback": [
      "\u001b[1;31m---------------------------------------------------------------------------\u001b[0m",
      "\u001b[1;31mTypeError\u001b[0m                                 Traceback (most recent call last)",
      "\u001b[1;32m<ipython-input-46-edb39e133e18>\u001b[0m in \u001b[0;36m<module>\u001b[1;34m\u001b[0m\n\u001b[0;32m      6\u001b[0m \u001b[1;33m\u001b[0m\u001b[0m\n\u001b[0;32m      7\u001b[0m     \u001b[0mmeasure_adaboost\u001b[0m\u001b[1;33m(\u001b[0m\u001b[0mnoisified_original_dataset\u001b[0m\u001b[1;33m,\u001b[0m \u001b[0mreduced_datasets\u001b[0m\u001b[1;33m,\u001b[0m \u001b[0mnoise_factor\u001b[0m\u001b[1;33m,\u001b[0m \u001b[0mnoise_type\u001b[0m\u001b[1;33m)\u001b[0m\u001b[1;33m\u001b[0m\u001b[1;33m\u001b[0m\u001b[0m\n\u001b[1;32m----> 8\u001b[1;33m     \u001b[0mmeasure_svc\u001b[0m\u001b[1;33m(\u001b[0m\u001b[0mnoisified_original_dataset\u001b[0m\u001b[1;33m,\u001b[0m \u001b[0mreduced_datasets\u001b[0m\u001b[1;33m,\u001b[0m \u001b[0mnoise_factor\u001b[0m\u001b[1;33m,\u001b[0m \u001b[0mnoise_type\u001b[0m\u001b[1;33m)\u001b[0m\u001b[1;33m\u001b[0m\u001b[1;33m\u001b[0m\u001b[0m\n\u001b[0m",
      "\u001b[1;32m<ipython-input-33-5cd0a5c9a030>\u001b[0m in \u001b[0;36mmeasure_svc\u001b[1;34m(original_dataset, reduced_datasets, sample_limit, noise_factor, noise_type)\u001b[0m\n\u001b[0;32m      5\u001b[0m \u001b[1;33m\u001b[0m\u001b[0m\n\u001b[0;32m      6\u001b[0m     \u001b[0mlimited_dataset\u001b[0m \u001b[1;33m=\u001b[0m \u001b[0mlimit_dataset\u001b[0m\u001b[1;33m(\u001b[0m\u001b[0moriginal_dataset\u001b[0m\u001b[1;33m,\u001b[0m \u001b[0msample_limit\u001b[0m\u001b[1;33m)\u001b[0m\u001b[1;33m\u001b[0m\u001b[1;33m\u001b[0m\u001b[0m\n\u001b[1;32m----> 7\u001b[1;33m     \u001b[0mlimited_reduced_datasets\u001b[0m \u001b[1;33m=\u001b[0m \u001b[0mmap_over_reduced\u001b[0m\u001b[1;33m(\u001b[0m\u001b[0mreduced_datasets\u001b[0m\u001b[1;33m,\u001b[0m \u001b[0mlimited\u001b[0m\u001b[1;33m,\u001b[0m \u001b[1;33m(\u001b[0m\u001b[0msample_limit\u001b[0m\u001b[1;33m,\u001b[0m\u001b[1;33m)\u001b[0m\u001b[1;33m)\u001b[0m\u001b[1;33m\u001b[0m\u001b[1;33m\u001b[0m\u001b[0m\n\u001b[0m\u001b[0;32m      8\u001b[0m \u001b[1;33m\u001b[0m\u001b[0m\n\u001b[0;32m      9\u001b[0m     \u001b[0morig\u001b[0m\u001b[1;33m,\u001b[0m \u001b[0mapplied\u001b[0m \u001b[1;33m=\u001b[0m \u001b[0mapply_classifier\u001b[0m\u001b[1;33m(\u001b[0m\u001b[0mSVC\u001b[0m\u001b[1;33m,\u001b[0m \u001b[0mlimited_dataset\u001b[0m\u001b[1;33m,\u001b[0m \u001b[0mlimited_reduced_datasets\u001b[0m\u001b[1;33m)\u001b[0m\u001b[1;33m\u001b[0m\u001b[1;33m\u001b[0m\u001b[0m\n",
      "\u001b[1;32m<ipython-input-11-c02b1b7ac251>\u001b[0m in \u001b[0;36mmap_over_reduced\u001b[1;34m(reduced_datasets, f, args)\u001b[0m\n\u001b[0;32m     16\u001b[0m                     \u001b[0mkey\u001b[0m\u001b[1;33m:\u001b[0m \u001b[0mf\u001b[0m\u001b[1;33m(\u001b[0m\u001b[0mreduced_datasets\u001b[0m\u001b[1;33m[\u001b[0m\u001b[0mdim\u001b[0m\u001b[1;33m]\u001b[0m\u001b[1;33m[\u001b[0m\u001b[0mtime\u001b[0m\u001b[1;33m]\u001b[0m\u001b[1;33m[\u001b[0m\u001b[0mkey\u001b[0m\u001b[1;33m]\u001b[0m\u001b[1;33m,\u001b[0m \u001b[1;33m*\u001b[0m\u001b[0margs\u001b[0m\u001b[1;33m)\u001b[0m \u001b[1;32mfor\u001b[0m \u001b[0mkey\u001b[0m \u001b[1;32min\u001b[0m \u001b[0mreduced_datasets\u001b[0m\u001b[1;33m[\u001b[0m\u001b[0mdim\u001b[0m\u001b[1;33m]\u001b[0m\u001b[1;33m[\u001b[0m\u001b[0mtime\u001b[0m\u001b[1;33m]\u001b[0m\u001b[1;33m\u001b[0m\u001b[1;33m\u001b[0m\u001b[0m\n\u001b[0;32m     17\u001b[0m                 } for time in reduced_datasets[dim].keys()\n\u001b[1;32m---> 18\u001b[1;33m             } for dim in reduced_datasets.keys()}\n\u001b[0m",
      "\u001b[1;32m<ipython-input-11-c02b1b7ac251>\u001b[0m in \u001b[0;36m<dictcomp>\u001b[1;34m(.0)\u001b[0m\n\u001b[0;32m     16\u001b[0m                     \u001b[0mkey\u001b[0m\u001b[1;33m:\u001b[0m \u001b[0mf\u001b[0m\u001b[1;33m(\u001b[0m\u001b[0mreduced_datasets\u001b[0m\u001b[1;33m[\u001b[0m\u001b[0mdim\u001b[0m\u001b[1;33m]\u001b[0m\u001b[1;33m[\u001b[0m\u001b[0mtime\u001b[0m\u001b[1;33m]\u001b[0m\u001b[1;33m[\u001b[0m\u001b[0mkey\u001b[0m\u001b[1;33m]\u001b[0m\u001b[1;33m,\u001b[0m \u001b[1;33m*\u001b[0m\u001b[0margs\u001b[0m\u001b[1;33m)\u001b[0m \u001b[1;32mfor\u001b[0m \u001b[0mkey\u001b[0m \u001b[1;32min\u001b[0m \u001b[0mreduced_datasets\u001b[0m\u001b[1;33m[\u001b[0m\u001b[0mdim\u001b[0m\u001b[1;33m]\u001b[0m\u001b[1;33m[\u001b[0m\u001b[0mtime\u001b[0m\u001b[1;33m]\u001b[0m\u001b[1;33m\u001b[0m\u001b[1;33m\u001b[0m\u001b[0m\n\u001b[0;32m     17\u001b[0m                 } for time in reduced_datasets[dim].keys()\n\u001b[1;32m---> 18\u001b[1;33m             } for dim in reduced_datasets.keys()}\n\u001b[0m",
      "\u001b[1;32m<ipython-input-11-c02b1b7ac251>\u001b[0m in \u001b[0;36m<dictcomp>\u001b[1;34m(.0)\u001b[0m\n\u001b[0;32m     15\u001b[0m                 time: {\n\u001b[0;32m     16\u001b[0m                     \u001b[0mkey\u001b[0m\u001b[1;33m:\u001b[0m \u001b[0mf\u001b[0m\u001b[1;33m(\u001b[0m\u001b[0mreduced_datasets\u001b[0m\u001b[1;33m[\u001b[0m\u001b[0mdim\u001b[0m\u001b[1;33m]\u001b[0m\u001b[1;33m[\u001b[0m\u001b[0mtime\u001b[0m\u001b[1;33m]\u001b[0m\u001b[1;33m[\u001b[0m\u001b[0mkey\u001b[0m\u001b[1;33m]\u001b[0m\u001b[1;33m,\u001b[0m \u001b[1;33m*\u001b[0m\u001b[0margs\u001b[0m\u001b[1;33m)\u001b[0m \u001b[1;32mfor\u001b[0m \u001b[0mkey\u001b[0m \u001b[1;32min\u001b[0m \u001b[0mreduced_datasets\u001b[0m\u001b[1;33m[\u001b[0m\u001b[0mdim\u001b[0m\u001b[1;33m]\u001b[0m\u001b[1;33m[\u001b[0m\u001b[0mtime\u001b[0m\u001b[1;33m]\u001b[0m\u001b[1;33m\u001b[0m\u001b[1;33m\u001b[0m\u001b[0m\n\u001b[1;32m---> 17\u001b[1;33m                 } for time in reduced_datasets[dim].keys()\n\u001b[0m\u001b[0;32m     18\u001b[0m             } for dim in reduced_datasets.keys()}\n",
      "\u001b[1;32m<ipython-input-11-c02b1b7ac251>\u001b[0m in \u001b[0;36m<dictcomp>\u001b[1;34m(.0)\u001b[0m\n\u001b[0;32m     14\u001b[0m     return {dim: {\n\u001b[0;32m     15\u001b[0m                 time: {\n\u001b[1;32m---> 16\u001b[1;33m                     \u001b[0mkey\u001b[0m\u001b[1;33m:\u001b[0m \u001b[0mf\u001b[0m\u001b[1;33m(\u001b[0m\u001b[0mreduced_datasets\u001b[0m\u001b[1;33m[\u001b[0m\u001b[0mdim\u001b[0m\u001b[1;33m]\u001b[0m\u001b[1;33m[\u001b[0m\u001b[0mtime\u001b[0m\u001b[1;33m]\u001b[0m\u001b[1;33m[\u001b[0m\u001b[0mkey\u001b[0m\u001b[1;33m]\u001b[0m\u001b[1;33m,\u001b[0m \u001b[1;33m*\u001b[0m\u001b[0margs\u001b[0m\u001b[1;33m)\u001b[0m \u001b[1;32mfor\u001b[0m \u001b[0mkey\u001b[0m \u001b[1;32min\u001b[0m \u001b[0mreduced_datasets\u001b[0m\u001b[1;33m[\u001b[0m\u001b[0mdim\u001b[0m\u001b[1;33m]\u001b[0m\u001b[1;33m[\u001b[0m\u001b[0mtime\u001b[0m\u001b[1;33m]\u001b[0m\u001b[1;33m\u001b[0m\u001b[1;33m\u001b[0m\u001b[0m\n\u001b[0m\u001b[0;32m     17\u001b[0m                 } for time in reduced_datasets[dim].keys()\n\u001b[0;32m     18\u001b[0m             } for dim in reduced_datasets.keys()}\n",
      "\u001b[1;32m<ipython-input-29-b88e554645cb>\u001b[0m in \u001b[0;36mlimited\u001b[1;34m(array, n)\u001b[0m\n\u001b[0;32m      1\u001b[0m \u001b[1;32mdef\u001b[0m \u001b[0mlimited\u001b[0m\u001b[1;33m(\u001b[0m\u001b[0marray\u001b[0m\u001b[1;33m,\u001b[0m \u001b[0mn\u001b[0m\u001b[1;33m)\u001b[0m\u001b[1;33m:\u001b[0m\u001b[1;33m\u001b[0m\u001b[1;33m\u001b[0m\u001b[0m\n\u001b[1;32m----> 2\u001b[1;33m     \u001b[1;32mreturn\u001b[0m \u001b[0marray\u001b[0m\u001b[1;33m[\u001b[0m\u001b[1;33m:\u001b[0m\u001b[0mn\u001b[0m\u001b[1;33m]\u001b[0m \u001b[1;32mif\u001b[0m \u001b[0mlen\u001b[0m\u001b[1;33m(\u001b[0m\u001b[0marray\u001b[0m\u001b[1;33m)\u001b[0m \u001b[1;33m>\u001b[0m \u001b[0mn\u001b[0m \u001b[1;32melse\u001b[0m \u001b[0marray\u001b[0m\u001b[1;33m\u001b[0m\u001b[1;33m\u001b[0m\u001b[0m\n\u001b[0m\u001b[0;32m      3\u001b[0m \u001b[1;33m\u001b[0m\u001b[0m\n\u001b[0;32m      4\u001b[0m \u001b[1;32mdef\u001b[0m \u001b[0mlimit_dataset\u001b[0m\u001b[1;33m(\u001b[0m\u001b[0mdataset\u001b[0m\u001b[1;33m,\u001b[0m \u001b[0mtarget_number_of_samples\u001b[0m\u001b[1;33m)\u001b[0m\u001b[1;33m:\u001b[0m\u001b[1;33m\u001b[0m\u001b[1;33m\u001b[0m\u001b[0m\n\u001b[0;32m      5\u001b[0m     \u001b[1;32mreturn\u001b[0m \u001b[1;33m(\u001b[0m\u001b[0mlimited\u001b[0m\u001b[1;33m(\u001b[0m\u001b[0marray\u001b[0m\u001b[1;33m,\u001b[0m \u001b[0mtarget_number_of_samples\u001b[0m\u001b[1;33m)\u001b[0m \u001b[1;32mfor\u001b[0m \u001b[0marray\u001b[0m \u001b[1;32min\u001b[0m \u001b[0mdataset\u001b[0m\u001b[1;33m)\u001b[0m\u001b[1;33m\u001b[0m\u001b[1;33m\u001b[0m\u001b[0m\n",
      "\u001b[1;31mTypeError\u001b[0m: slice indices must be integers or None or have an __index__ method"
     ]
    }
   ],
   "source": [
    "noise_factors = np.linspace(0.1, 0.5, 3)\n",
    "noise_type = 'labels'\n",
    "\n",
    "for noise_factor in noise_factors:\n",
    "    noisified_original_dataset = (train_data, noisify_labels(train_labels, noise_factor), test_data, test_labels)\n",
    "    \n",
    "    measure_adaboost(noisified_original_dataset, reduced_datasets, noise_factor, noise_type)\n",
    "    measure_svc(noisified_original_dataset, reduced_datasets, noise_factor, noise_type)"
   ]
  },
  {
   "cell_type": "markdown",
   "metadata": {},
   "source": [
    "## Źródła"
   ]
  },
  {
   "cell_type": "markdown",
   "metadata": {},
   "source": [
    "* https://towardsdatascience.com/auto-encoder-what-is-it-and-what-is-it-used-for-part-1-3e5c6f017726\n",
    "* https://towardsdatascience.com/understanding-variational-autoencoders-vaes-f70510919f73\n",
    "* https://blog.keras.io/building-autoencoders-in-keras.html\n",
    "* https://www.tensorflow.org/tutorials/generative/cvae\n",
    "* https://towardsdatascience.com/the-robustness-of-machine-learning-algorithms-against-missing-or-abnormal-values-ec3222379905"
   ]
  }
 ],
 "metadata": {
  "kernelspec": {
   "display_name": "Python 3",
   "language": "python",
   "name": "python3"
  },
  "language_info": {
   "codemirror_mode": {
    "name": "ipython",
    "version": 3
   },
   "file_extension": ".py",
   "mimetype": "text/x-python",
   "name": "python",
   "nbconvert_exporter": "python",
   "pygments_lexer": "ipython3",
   "version": "3.7.6"
  }
 },
 "nbformat": 4,
 "nbformat_minor": 4
}
