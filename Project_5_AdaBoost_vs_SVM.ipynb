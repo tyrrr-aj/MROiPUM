{
 "cells": [
  {
   "cell_type": "markdown",
   "metadata": {},
   "source": [
    "# Porównanie skuteczności klasyfikatorów SVM i AdaBoost na zbiorach danych o wymiarowości zredukowanej przez autoenkoder wariacyjny"
   ]
  },
  {
   "cell_type": "markdown",
   "metadata": {},
   "source": [
    "## Przygotowanie zbioru danych"
   ]
  },
  {
   "cell_type": "code",
   "execution_count": 1,
   "metadata": {},
   "outputs": [],
   "source": [
    "%matplotlib inline\n",
    "\n",
    "import zipfile\n",
    "import pandas as pd\n",
    "from matplotlib import pyplot as plt\n",
    "import numpy as np"
   ]
  },
  {
   "cell_type": "code",
   "execution_count": 2,
   "metadata": {},
   "outputs": [],
   "source": [
    "with zipfile.ZipFile(\"data/fashion-mnist.zip\") as z:\n",
    "    with z.open(\"fashion-mnist_train.csv\") as f:\n",
    "        train_df = pd.read_csv(f)\n",
    "\n",
    "    with z.open(\"fashion-mnist_test.csv\") as f:\n",
    "        test_df = pd.read_csv(f)\n",
    "\n",
    "train_labels = train_df['label'].to_numpy()\n",
    "train_data = train_df.drop('label', axis='columns').to_numpy() / 255.0\n",
    "\n",
    "test_labels = test_df['label'].to_numpy()\n",
    "test_data = test_df.drop('label', axis='columns').to_numpy() / 255.0"
   ]
  },
  {
   "cell_type": "markdown",
   "metadata": {},
   "source": [
    "W projekcie wykorzystujemy zbiór danych FMNIST.\n",
    "\n",
    "Jako że jest to bardzo znany i dokładnie opisany zbiór danych, etap eksploracji danych ograniczyliśmy do minimum - wszelkie ważne własności zbioru zostały już zbadane, więc sprawdzanie ich w miarę potrzeb nie nastręcza większych trudności. Tutaj zaglądamy jedynie na początek danych oraz podstawową ich charakterystykę, aby upewnić się, że wszystko jest w porządku."
   ]
  },
  {
   "cell_type": "code",
   "execution_count": 3,
   "metadata": {
    "scrolled": false
   },
   "outputs": [],
   "source": [
    "def print_images(images, title):\n",
    "    fig, axs = plt.subplots(ncols=5, figsize=(13,4))\n",
    "    \n",
    "    for i, image in enumerate(images):\n",
    "        axs[i].imshow(image, cmap='gray', vmin=0, vmax=255)\n",
    "        axs[i].xaxis.set_visible(False)\n",
    "        axs[i].yaxis.set_visible(False)\n",
    "\n",
    "    fig.tight_layout()\n",
    "    fig.suptitle(title, fontsize=15)\n",
    "    plt.show()"
   ]
  },
  {
   "cell_type": "code",
   "execution_count": 4,
   "metadata": {},
   "outputs": [
    {
     "name": "stdout",
     "output_type": "stream",
     "text": [
      "Liczba próbek w zbiorze uczącym: 60000\n",
      "Liczba próbek w zbiorze testowym: 10000\n",
      "\n",
      "Kształt wektora wejściowego: (785,)\n",
      "Zakres wartości pikseli przed normalizacją: 0 - 255\n"
     ]
    },
    {
     "data": {
      "image/png": "[encoded data removed]",
      "text/plain": [
       "<Figure size 936x288 with 5 Axes>"
      ]
     },
     "metadata": {
      "needs_background": "light"
     },
     "output_type": "display_data"
    },
    {
     "name": "stdout",
     "output_type": "stream",
     "text": [
      "Reprezentacja pierwszych 5 próbek w zbiorze uczącym:\n",
      "\n",
      "   label  pixel1  pixel2  pixel3  pixel4  pixel5  pixel6  pixel7  pixel8  \\\n",
      "0      2       0       0       0       0       0       0       0       0   \n",
      "1      9       0       0       0       0       0       0       0       0   \n",
      "2      6       0       0       0       0       0       0       0       5   \n",
      "3      0       0       0       0       1       2       0       0       0   \n",
      "4      3       0       0       0       0       0       0       0       0   \n",
      "\n",
      "   pixel9  ...  pixel775  pixel776  pixel777  pixel778  pixel779  pixel780  \\\n",
      "0       0  ...         0         0         0         0         0         0   \n",
      "1       0  ...         0         0         0         0         0         0   \n",
      "2       0  ...         0         0         0        30        43         0   \n",
      "3       0  ...         3         0         0         0         0         1   \n",
      "4       0  ...         0         0         0         0         0         0   \n",
      "\n",
      "   pixel781  pixel782  pixel783  pixel784  \n",
      "0         0         0         0         0  \n",
      "1         0         0         0         0  \n",
      "2         0         0         0         0  \n",
      "3         0         0         0         0  \n",
      "4         0         0         0         0  \n",
      "\n",
      "[5 rows x 785 columns]\n"
     ]
    }
   ],
   "source": [
    "print(f'Liczba próbek w zbiorze uczącym: {len(train_df)}')\n",
    "print(f'Liczba próbek w zbiorze testowym: {len(test_df)}')\n",
    "print()\n",
    "print(f'Kształt wektora wejściowego: {np.shape(train_df.iloc[0])}')\n",
    "print(f'Zakres wartości pikseli przed normalizacją: {np.min(train_df.to_numpy())} - {np.max(train_df.to_numpy())}')\n",
    "\n",
    "first_5_images = train_df.head().drop('label', axis='columns').to_numpy().reshape((5,28,28))\n",
    "print_images(first_5_images, 'Pięć pierwszych obrazków ze zbioru uczącego:')\n",
    "    \n",
    "print('Reprezentacja pierwszych 5 próbek w zbiorze uczącym:\\n')\n",
    "print(train_df.head())"
   ]
  },
  {
   "cell_type": "markdown",
   "metadata": {},
   "source": [
    "## Redukcja wymiarowości za pomocą autoenkodera wariacyjnego"
   ]
  },
  {
   "cell_type": "code",
   "execution_count": 5,
   "metadata": {},
   "outputs": [
    {
     "name": "stderr",
     "output_type": "stream",
     "text": [
      "Using TensorFlow backend.\n"
     ]
    }
   ],
   "source": [
    "from keras.layers import Input, Dense, Lambda\n",
    "from keras.models import Model, model_from_json\n",
    "from keras import backend as K\n",
    "from keras import objectives\n",
    "from enum import Enum"
   ]
  },
  {
   "cell_type": "markdown",
   "metadata": {},
   "source": [
    "### Załadowanie modeli"
   ]
  },
  {
   "cell_type": "markdown",
   "metadata": {},
   "source": [
    "Modele zostały zbudowane i wytrenowane w osobnym notatniku Jupyter: *'Autoenkodery - tworzenie i trening'*.\n",
    "\n",
    "W ramach projektu wykorzystano 3 architektury sieci - są to (wg rosnącej złożoności):\n",
    " * enkoder wariacyjny z 2 warstwami ukrytymi\n",
    " * enkoder wariacyjny z 4 warstwami ukrytymi\n",
    " * enkoder konwolucyjno-wariacyjny\n",
    "\n",
    "Każda z architektur została wytrenowana w trzech wersjach - dla 15, 50 i 100 wymiarów w środkowej warstwie sieci.\n",
    "\n",
    "Trening sieci o bardziej złożonej architekturze wymaga więcej czasu - w tym przypadku, pojedyncza epoka treningu najbardziej złożonej sieci (konwolucyjno-wariacyjnej) trwała 10 razy dłużej niż najprostszej z nich (2 warstwy ukryte). Wykorzystanie modeli o różnej złożoności odpowiada zatem posiadaniu odpowiednio zróżnicowanego budżetu czasowego."
   ]
  },
  {
   "cell_type": "code",
   "execution_count": 6,
   "metadata": {},
   "outputs": [],
   "source": [
    "z_mean, z_variance = None, None\n",
    "\n",
    "def load_model(model_name):\n",
    "    with open(f'autoencoders/models/{model_name}.json') as file:\n",
    "        loaded_json = file.read()\n",
    "    return model_from_json(loaded_json)\n",
    "\n",
    "def load_weights(model, model_name, epochs):\n",
    "    model.load_weights(f'autoencoders/weights/{model_name}_e{epochs}.h5')\n",
    "\n",
    "def load_encoder(time, dim, epochs=400):\n",
    "    global z_mean, z_variance\n",
    "    \n",
    "    encoder_name = f'encoder_{time.value}_d{dim.value}'\n",
    "    \n",
    "    encoder = load_model(encoder_name)\n",
    "    load_weights(encoder, encoder_name, epochs)\n",
    "    \n",
    "    z_mean, z_variance = encoder.get_layer('z_mean').output, encoder.get_layer('z_variance').output\n",
    "    encoder.compile(optimizer='rmsprop', loss='mean_squared_error')\n",
    "    \n",
    "    return encoder"
   ]
  },
  {
   "cell_type": "code",
   "execution_count": 7,
   "metadata": {},
   "outputs": [],
   "source": [
    "class Time(Enum):\n",
    "    SHORT = '2hl'\n",
    "    MEDIUM = '4hl'\n",
    "    LONG = 'cvae'\n",
    "\n",
    "class Dim(Enum):\n",
    "    LOW = 15\n",
    "    MEDIUM = 50\n",
    "    HIGH = 100\n",
    "\n",
    "# encoders[dimension][time]\n",
    "\n",
    "encoders = {dim: {time: load_encoder(time, dim, 400 if time != Time.LONG else 300) for time in Time} for dim in Dim}"
   ]
  },
  {
   "cell_type": "markdown",
   "metadata": {},
   "source": [
    "### Generowanie zbiorów danych o zredukowanej wymiarowości"
   ]
  },
  {
   "cell_type": "code",
   "execution_count": 8,
   "metadata": {},
   "outputs": [],
   "source": [
    "batch_size = 10000\n",
    "initial_dim = 784"
   ]
  },
  {
   "cell_type": "code",
   "execution_count": 9,
   "metadata": {
    "scrolled": true
   },
   "outputs": [],
   "source": [
    "# reduced_datasets[Dim][Time]['train'|'test']\n",
    "\n",
    "def reduce_dimensionality(train, test):\n",
    "    return {\n",
    "                dim: {\n",
    "                    time: {\n",
    "                        'train': encoders[dim][time].predict(train, batch_size=batch_size),\n",
    "                        'test': encoders[dim][time].predict(test, batch_size=batch_size)\n",
    "                    } for time in Time\n",
    "                } for dim in Dim\n",
    "            }\n",
    "\n",
    "def map_over_reduced(reduced_datasets, f, args):\n",
    "    return {dim: {\n",
    "                time: {\n",
    "                    key: f(reduced_datasets[dim][time][key], *args) for key in reduced_datasets[dim][time]\n",
    "                } for time in reduced_datasets[dim].keys()\n",
    "            } for dim in reduced_datasets.keys()}"
   ]
  },
  {
   "cell_type": "code",
   "execution_count": 10,
   "metadata": {},
   "outputs": [],
   "source": [
    "reduced_datasets = reduce_dimensionality(train_data, test_data)"
   ]
  },
  {
   "cell_type": "markdown",
   "metadata": {},
   "source": [
    "## Klasyfikacja"
   ]
  },
  {
   "cell_type": "code",
   "execution_count": 11,
   "metadata": {},
   "outputs": [],
   "source": [
    "from sklearn.preprocessing import LabelEncoder\n",
    "from sklearn.metrics import confusion_matrix, accuracy_score, classification_report\n",
    "from sklearn.model_selection import train_test_split\n",
    "from sklearn.ensemble import AdaBoostClassifier\n",
    "from sklearn.tree import DecisionTreeClassifier\n",
    "from sklearn.naive_bayes import GaussianNB\n",
    "from sklearn.ensemble import RandomForestClassifier\n",
    "from sklearn import datasets"
   ]
  },
  {
   "cell_type": "code",
   "execution_count": 12,
   "metadata": {},
   "outputs": [],
   "source": [
    "from joblib import dump, load"
   ]
  },
  {
   "cell_type": "code",
   "execution_count": 13,
   "metadata": {},
   "outputs": [
    {
     "name": "stdout",
     "output_type": "stream",
     "text": [
      "0.22.2.post1\n"
     ]
    }
   ],
   "source": [
    "import sklearn\n",
    "print(sklearn.__version__)"
   ]
  },
  {
   "cell_type": "code",
   "execution_count": 14,
   "metadata": {},
   "outputs": [],
   "source": [
    "def get_classifier_filename(name, dim, time, noise_factor, noise_type):\n",
    "    return f'{name}_{time.value}_d{dim.value}' + (\n",
    "        f'_n{str(noise_factor).split(\".\")[1]}_{noise_type}' if noise_type is not None else ''\n",
    "    )\n",
    "\n",
    "def get_orig_classifier_filename(name, noise_factor, noise_type):\n",
    "    return f'{name}_orig' + (f'_{str(noise_factor).split(\".\")[1]}_{noise_type}' if noise_type is not None else '')\n",
    "\n",
    "def get_classifier_path(name, filename):\n",
    "    return f'{name}/{filename}'\n",
    "\n",
    "def persist_classifier(classifier, name, dim, time, noise_factor, noise_type):\n",
    "    filename = get_classifier_filename(name, dim, time, noise_factor, noise_type)\n",
    "    path = get_classifier_path(name, filename)\n",
    "    dump(classifier, path)\n",
    "\n",
    "def persist_orig_classifier(classifier, name, noise_factor, noise_type):\n",
    "    filename = get_orig_classifier_filename(name, noise_factor, noise_type)\n",
    "    path = get_classifier_path(name, filename)\n",
    "    dump(classifier, path)\n",
    "\n",
    "def load_classifier(name, dim, time, noise_factor, noise_type):\n",
    "    filename = get_classifier_filename(name, dim, time, noise_factor, noise_type)\n",
    "    path = get_classifier_path(name, filename)\n",
    "    return load(path)\n",
    "\n",
    "def load_orig_classifier(name, noise_factor, noise_type):\n",
    "    filename = get_orig_classifier_filename(name, noise_factor, noise_type)\n",
    "    path = get_classifier_path(name, filename)\n",
    "    return load(path)\n",
    "\n",
    "def persist_fitted_clfs(name, orig, applied, noise_factor, noise_type):\n",
    "    orig_fitted, _ = orig\n",
    "    persist_orig_classifier(orig_fitted, name, noise_factor, noise_type)\n",
    "    \n",
    "    for dim, time, (fitted, _) in applied:\n",
    "        persist_classifier(fitted, name, dim, time, noise_factor, noise_type)"
   ]
  },
  {
   "cell_type": "code",
   "execution_count": 15,
   "metadata": {},
   "outputs": [],
   "source": [
    "def fit_predict(model, train_data, train_labels, test_data):    \n",
    "    fitted = model.fit(train_data, train_labels)\n",
    "    predicted = fitted.predict(test_data)\n",
    "    return fitted, predicted\n",
    "\n",
    "def apply_classifier(classifier_class, original_dataset, reduced_datasets):\n",
    "    orig_train_data, orig_train_labels, orig_test_data, orig_test_labels = original_dataset\n",
    "    \n",
    "    orig = fit_predict(classifier_class(), orig_train_data, orig_train_labels, orig_test_data)\n",
    "    \n",
    "    applied = [(dim, time, fit_predict(classifier_class(),\n",
    "                                       reduced_datasets[dim][time]['train'],\n",
    "                                       orig_train_labels,\n",
    "                                       reduced_datasets[dim][time]['test']\n",
    "                                       ))\n",
    "              for dim in Dim for time in Time]\n",
    "    \n",
    "    return orig, applied  \n",
    "\n",
    "def print_accuracy_scores(classifier_name, orig, applied, original_dataset):\n",
    "    _, orig_predicted = orig\n",
    "    _, _, _, orig_test_labels = original_dataset\n",
    "    \n",
    "    print(f'{classifier_name} accuracy scores:')\n",
    "    print(f'original dataset: {accuracy_score(orig_test_labels, orig_predicted)}')\n",
    "    \n",
    "    acc = []\n",
    "    labels = []\n",
    "    \n",
    "    for dim, time, (_, predicted) in applied:\n",
    "        print(f'dimension {dim.name}, time {time.name}: {accuracy_score(orig_test_labels, predicted)}')\n",
    "        labels.append(f'dimension {dim.name}, time {time.name}')\n",
    "        acc.append(accuracy_score(orig_test_labels, predicted))\n",
    "        \n",
    "    labels.append('original')\n",
    "    acc.append(accuracy_score(orig_test_labels, orig_predicted))\n",
    "    \n",
    "    fig = plt.figure()\n",
    "    ax = fig.add_axes([0,0,1,1])\n",
    "    ax.bar(labels, acc)\n",
    "    plt.show()\n",
    "    \n",
    "    return labels, acc\n",
    "    \n",
    "    \n",
    "\n",
    "def print_classification_reports(classifier_name, orig, applied, original_dataset):\n",
    "    _, orig_predicted = orig\n",
    "    _, _, _, orig_test_labels = original_dataset\n",
    "    \n",
    "    labels = []\n",
    "    acc = []\n",
    "    \n",
    "    print('----- Classification for original dataset -----')\n",
    "    print(classification_report(orig_test_labels, orig_predicted))\n",
    "    \n",
    "\n",
    "    \n",
    "    \n",
    "    for dim, time, (_, predicted) in applied:\n",
    "        print(f'----- Classification for dimension {dim.name}, time {time.name} -----')\n",
    "        print(classification_report(orig_test_labels, predicted))\n",
    "        labels.append(f'dimension {dim.name}, time {time.name}')\n",
    "        acc.append(classification_report(orig_test_labels, predicted, output_dict=True)['accuracy'])\n",
    "        \n",
    "    labels.append('original')\n",
    "\n",
    "    acc.append(classification_report(orig_test_labels, orig_predicted, output_dict=True)['accuracy'])\n",
    "    \n",
    "    fig = plt.figure()\n",
    "    ax = fig.add_axes([0,0,1,1])\n",
    "    ax.bar(labels, acc)\n",
    "    plt.xticks(rotation='vertical')\n",
    "    fig.suptitle('Accuracy scores:', size=15)\n",
    "    plt.show()\n",
    "    \n",
    "    return labels, acc"
   ]
  },
  {
   "cell_type": "markdown",
   "metadata": {},
   "source": [
    "### AdaBoost"
   ]
  },
  {
   "cell_type": "code",
   "execution_count": 16,
   "metadata": {},
   "outputs": [],
   "source": [
    "def measure_adaboost(original_dataset, reduced_datasets, noise_factor=0.0, noise_type=None):  \n",
    "    orig, applied = apply_classifier(AdaBoostClassifier, original_dataset, reduced_datasets)\n",
    "    \n",
    "    persist_fitted_clfs('adaboost', orig, applied, noise_factor, noise_type)\n",
    "    \n",
    "    return print_classification_reports('AdaBoost', orig, applied, original_dataset)"
   ]
  },
  {
   "cell_type": "code",
   "execution_count": 16,
   "metadata": {
    "scrolled": true
   },
   "outputs": [
    {
     "name": "stdout",
     "output_type": "stream",
     "text": [
      "----- Classification for original dataset -----\n",
      "              precision    recall  f1-score   support\n",
      "\n",
      "           0       0.28      0.03      0.05      1000\n",
      "           1       0.93      0.77      0.85      1000\n",
      "           2       0.27      0.51      0.36      1000\n",
      "           3       0.56      0.84      0.67      1000\n",
      "           4       0.48      0.35      0.41      1000\n",
      "           5       0.79      0.62      0.70      1000\n",
      "           6       0.22      0.21      0.22      1000\n",
      "           7       0.54      0.91      0.68      1000\n",
      "           8       0.90      0.91      0.90      1000\n",
      "           9       0.86      0.46      0.60      1000\n",
      "\n",
      "    accuracy                           0.56     10000\n",
      "   macro avg       0.58      0.56      0.54     10000\n",
      "weighted avg       0.58      0.56      0.54     10000\n",
      "\n",
      "----- Classification for dimension LOW, time SHORT -----\n",
      "              precision    recall  f1-score   support\n",
      "\n",
      "           0       0.25      0.29      0.27      1000\n",
      "           1       0.28      0.42      0.34      1000\n",
      "           2       0.24      0.18      0.20      1000\n",
      "           3       0.23      0.23      0.23      1000\n",
      "           4       0.25      0.23      0.24      1000\n",
      "           5       0.26      0.30      0.28      1000\n",
      "           6       0.13      0.03      0.05      1000\n",
      "           7       0.34      0.38      0.36      1000\n",
      "           8       0.30      0.30      0.30      1000\n",
      "           9       0.43      0.51      0.46      1000\n",
      "\n",
      "    accuracy                           0.29     10000\n",
      "   macro avg       0.27      0.29      0.27     10000\n",
      "weighted avg       0.27      0.29      0.27     10000\n",
      "\n",
      "----- Classification for dimension LOW, time MEDIUM -----\n",
      "              precision    recall  f1-score   support\n",
      "\n",
      "           0       0.24      0.23      0.24      1000\n",
      "           1       0.41      0.51      0.46      1000\n",
      "           2       0.22      0.29      0.25      1000\n",
      "           3       0.25      0.17      0.21      1000\n",
      "           4       0.21      0.25      0.23      1000\n",
      "           5       0.30      0.20      0.24      1000\n",
      "           6       0.17      0.04      0.07      1000\n",
      "           7       0.44      0.55      0.49      1000\n",
      "           8       0.29      0.40      0.34      1000\n",
      "           9       0.47      0.51      0.49      1000\n",
      "\n",
      "    accuracy                           0.32     10000\n",
      "   macro avg       0.30      0.32      0.30     10000\n",
      "weighted avg       0.30      0.32      0.30     10000\n",
      "\n",
      "----- Classification for dimension LOW, time LONG -----\n",
      "              precision    recall  f1-score   support\n",
      "\n",
      "           0       0.21      0.12      0.15      1000\n",
      "           1       0.40      0.47      0.43      1000\n",
      "           2       0.21      0.19      0.20      1000\n",
      "           3       0.25      0.25      0.25      1000\n",
      "           4       0.28      0.04      0.07      1000\n",
      "           5       0.38      0.33      0.35      1000\n",
      "           6       0.17      0.10      0.13      1000\n",
      "           7       0.53      0.67      0.59      1000\n",
      "           8       0.21      0.46      0.29      1000\n",
      "           9       0.47      0.56      0.51      1000\n",
      "\n",
      "    accuracy                           0.32     10000\n",
      "   macro avg       0.31      0.32      0.30     10000\n",
      "weighted avg       0.31      0.32      0.30     10000\n",
      "\n",
      "----- Classification for dimension MEDIUM, time SHORT -----\n",
      "              precision    recall  f1-score   support\n",
      "\n",
      "           0       0.31      0.28      0.30      1000\n",
      "           1       0.39      0.56      0.46      1000\n",
      "           2       0.30      0.31      0.31      1000\n",
      "           3       0.32      0.29      0.30      1000\n",
      "           4       0.31      0.36      0.34      1000\n",
      "           5       0.32      0.29      0.30      1000\n",
      "           6       0.20      0.06      0.10      1000\n",
      "           7       0.41      0.47      0.44      1000\n",
      "           8       0.39      0.41      0.40      1000\n",
      "           9       0.49      0.56      0.52      1000\n",
      "\n",
      "    accuracy                           0.36     10000\n",
      "   macro avg       0.35      0.36      0.35     10000\n",
      "weighted avg       0.35      0.36      0.35     10000\n",
      "\n",
      "----- Classification for dimension MEDIUM, time MEDIUM -----\n",
      "              precision    recall  f1-score   support\n",
      "\n",
      "           0       0.08      0.01      0.01      1000\n",
      "           1       0.27      0.75      0.40      1000\n",
      "           2       0.39      0.60      0.48      1000\n",
      "           3       0.51      0.28      0.36      1000\n",
      "           4       0.41      0.14      0.20      1000\n",
      "           5       0.58      0.20      0.30      1000\n",
      "           6       0.32      0.16      0.21      1000\n",
      "           7       0.42      0.96      0.58      1000\n",
      "           8       0.54      0.56      0.55      1000\n",
      "           9       0.57      0.29      0.39      1000\n",
      "\n",
      "    accuracy                           0.40     10000\n",
      "   macro avg       0.41      0.40      0.35     10000\n",
      "weighted avg       0.41      0.40      0.35     10000\n",
      "\n",
      "----- Classification for dimension MEDIUM, time LONG -----\n",
      "              precision    recall  f1-score   support\n",
      "\n",
      "           0       0.20      0.04      0.07      1000\n",
      "           1       0.37      0.51      0.43      1000\n",
      "           2       0.32      0.49      0.39      1000\n",
      "           3       0.29      0.47      0.36      1000\n",
      "           4       0.35      0.10      0.16      1000\n",
      "           5       0.49      0.51      0.50      1000\n",
      "           6       0.22      0.08      0.12      1000\n",
      "           7       0.44      0.80      0.57      1000\n",
      "           8       0.52      0.57      0.55      1000\n",
      "           9       0.59      0.38      0.47      1000\n",
      "\n",
      "    accuracy                           0.40     10000\n",
      "   macro avg       0.38      0.40      0.36     10000\n",
      "weighted avg       0.38      0.40      0.36     10000\n",
      "\n",
      "----- Classification for dimension HIGH, time SHORT -----\n",
      "              precision    recall  f1-score   support\n",
      "\n",
      "           0       0.37      0.37      0.37      1000\n",
      "           1       0.48      0.60      0.53      1000\n",
      "           2       0.32      0.26      0.29      1000\n",
      "           3       0.38      0.32      0.35      1000\n",
      "           4       0.33      0.44      0.38      1000\n",
      "           5       0.31      0.32      0.31      1000\n",
      "           6       0.22      0.08      0.12      1000\n",
      "           7       0.43      0.52      0.47      1000\n",
      "           8       0.47      0.49      0.48      1000\n",
      "           9       0.51      0.57      0.54      1000\n",
      "\n",
      "    accuracy                           0.40     10000\n",
      "   macro avg       0.38      0.40      0.38     10000\n",
      "weighted avg       0.38      0.40      0.38     10000\n",
      "\n",
      "----- Classification for dimension HIGH, time MEDIUM -----\n",
      "              precision    recall  f1-score   support\n",
      "\n",
      "           0       0.55      0.38      0.45      1000\n",
      "           1       0.51      0.65      0.57      1000\n",
      "           2       0.35      0.18      0.24      1000\n",
      "           3       0.51      0.66      0.57      1000\n",
      "           4       0.39      0.76      0.51      1000\n",
      "           5       0.69      0.61      0.65      1000\n",
      "           6       0.30      0.09      0.13      1000\n",
      "           7       0.45      0.76      0.57      1000\n",
      "           8       0.71      0.60      0.65      1000\n",
      "           9       0.51      0.29      0.37      1000\n",
      "\n",
      "    accuracy                           0.50     10000\n",
      "   macro avg       0.50      0.50      0.47     10000\n",
      "weighted avg       0.50      0.50      0.47     10000\n",
      "\n",
      "----- Classification for dimension HIGH, time LONG -----\n",
      "              precision    recall  f1-score   support\n",
      "\n",
      "           0       0.66      0.62      0.64      1000\n",
      "           1       0.72      0.64      0.68      1000\n",
      "           2       0.25      0.43      0.31      1000\n",
      "           3       0.50      0.36      0.42      1000\n",
      "           4       0.16      0.01      0.03      1000\n",
      "           5       0.28      0.01      0.02      1000\n",
      "           6       0.30      0.21      0.25      1000\n",
      "           7       0.51      0.87      0.64      1000\n",
      "           8       0.35      0.60      0.44      1000\n",
      "           9       0.56      0.83      0.67      1000\n",
      "\n",
      "    accuracy                           0.46     10000\n",
      "   macro avg       0.43      0.46      0.41     10000\n",
      "weighted avg       0.43      0.46      0.41     10000\n",
      "\n"
     ]
    },
    {
     "data": {
      "image/png": "[encoded data removed]",
      "text/plain": [
       "<Figure size 432x288 with 1 Axes>"
      ]
     },
     "metadata": {
      "needs_background": "light"
     },
     "output_type": "display_data"
    }
   ],
   "source": [
    "ada_labels, ada_acc = measure_adaboost((train_data, train_labels, test_data, test_labels), reduced_datasets)"
   ]
  },
  {
   "cell_type": "markdown",
   "metadata": {},
   "source": [
    "### SVM"
   ]
  },
  {
   "cell_type": "code",
   "execution_count": 17,
   "metadata": {},
   "outputs": [],
   "source": [
    "from sklearn.svm import SVC\n",
    "from sklearn.metrics import classification_report, confusion_matrix, accuracy_score"
   ]
  },
  {
   "cell_type": "code",
   "execution_count": 18,
   "metadata": {},
   "outputs": [],
   "source": [
    "def limited(array, n):\n",
    "    return array[:n] if len(array) > n else array\n",
    "\n",
    "def limit_dataset(dataset, target_number_of_samples):\n",
    "    return (limited(array, target_number_of_samples) for array in dataset)"
   ]
  },
  {
   "cell_type": "code",
   "execution_count": 19,
   "metadata": {},
   "outputs": [],
   "source": [
    "orig, applied = None, None\n",
    "\n",
    "def measure_svc(original_dataset, reduced_datasets, sample_limit=10000, noise_factor=0.0, noise_type=None):\n",
    "    global orig, applied\n",
    "    \n",
    "    limited_dataset = limit_dataset(original_dataset, sample_limit)\n",
    "    limited_reduced_datasets = map_over_reduced(reduced_datasets, limited, (sample_limit,))\n",
    "    \n",
    "    orig, applied = apply_classifier(SVC, limited_dataset, limited_reduced_datasets)\n",
    "    \n",
    "    persist_fitted_clfs('svm', orig, applied, noise_factor, noise_type)\n",
    "    \n",
    "    return print_classification_reports('SVC', orig, applied, original_dataset)"
   ]
  },
  {
   "cell_type": "code",
   "execution_count": 20,
   "metadata": {},
   "outputs": [
    {
     "name": "stdout",
     "output_type": "stream",
     "text": [
      "----- Classification for original dataset -----\n",
      "              precision    recall  f1-score   support\n",
      "\n",
      "           0       0.77      0.83      0.80      1000\n",
      "           1       0.99      0.96      0.98      1000\n",
      "           2       0.81      0.77      0.79      1000\n",
      "           3       0.85      0.91      0.88      1000\n",
      "           4       0.79      0.83      0.81      1000\n",
      "           5       0.95      0.92      0.93      1000\n",
      "           6       0.66      0.59      0.62      1000\n",
      "           7       0.91      0.90      0.91      1000\n",
      "           8       0.96      0.96      0.96      1000\n",
      "           9       0.91      0.95      0.93      1000\n",
      "\n",
      "    accuracy                           0.86     10000\n",
      "   macro avg       0.86      0.86      0.86     10000\n",
      "weighted avg       0.86      0.86      0.86     10000\n",
      "\n",
      "----- Classification for dimension LOW, time SHORT -----\n",
      "              precision    recall  f1-score   support\n",
      "\n",
      "           0       0.23      0.28      0.26      1000\n",
      "           1       0.29      0.35      0.32      1000\n",
      "           2       0.21      0.11      0.14      1000\n",
      "           3       0.22      0.24      0.23      1000\n",
      "           4       0.21      0.24      0.22      1000\n",
      "           5       0.27      0.30      0.29      1000\n",
      "           6       0.13      0.09      0.11      1000\n",
      "           7       0.32      0.40      0.35      1000\n",
      "           8       0.28      0.21      0.24      1000\n",
      "           9       0.46      0.47      0.47      1000\n",
      "\n",
      "    accuracy                           0.27     10000\n",
      "   macro avg       0.26      0.27      0.26     10000\n",
      "weighted avg       0.26      0.27      0.26     10000\n",
      "\n",
      "----- Classification for dimension LOW, time MEDIUM -----\n",
      "              precision    recall  f1-score   support\n",
      "\n",
      "           0       0.29      0.30      0.30      1000\n",
      "           1       0.48      0.47      0.48      1000\n",
      "           2       0.23      0.29      0.26      1000\n",
      "           3       0.29      0.25      0.27      1000\n",
      "           4       0.26      0.29      0.27      1000\n",
      "           5       0.34      0.31      0.32      1000\n",
      "           6       0.16      0.10      0.12      1000\n",
      "           7       0.47      0.53      0.50      1000\n",
      "           8       0.34      0.38      0.36      1000\n",
      "           9       0.53      0.49      0.51      1000\n",
      "\n",
      "    accuracy                           0.34     10000\n",
      "   macro avg       0.34      0.34      0.34     10000\n",
      "weighted avg       0.34      0.34      0.34     10000\n",
      "\n",
      "----- Classification for dimension LOW, time LONG -----\n",
      "              precision    recall  f1-score   support\n",
      "\n",
      "           0       0.25      0.22      0.23      1000\n",
      "           1       0.40      0.46      0.43      1000\n",
      "           2       0.29      0.25      0.26      1000\n",
      "           3       0.29      0.29      0.29      1000\n",
      "           4       0.33      0.35      0.34      1000\n",
      "           5       0.40      0.36      0.38      1000\n",
      "           6       0.18      0.14      0.16      1000\n",
      "           7       0.58      0.60      0.59      1000\n",
      "           8       0.41      0.51      0.45      1000\n",
      "           9       0.52      0.56      0.54      1000\n",
      "\n",
      "    accuracy                           0.37     10000\n",
      "   macro avg       0.37      0.37      0.37     10000\n",
      "weighted avg       0.37      0.37      0.37     10000\n",
      "\n",
      "----- Classification for dimension MEDIUM, time SHORT -----\n",
      "              precision    recall  f1-score   support\n",
      "\n",
      "           0       0.32      0.36      0.34      1000\n",
      "           1       0.47      0.54      0.50      1000\n",
      "           2       0.28      0.22      0.24      1000\n",
      "           3       0.37      0.37      0.37      1000\n",
      "           4       0.33      0.36      0.35      1000\n",
      "           5       0.34      0.46      0.39      1000\n",
      "           6       0.19      0.14      0.16      1000\n",
      "           7       0.45      0.46      0.46      1000\n",
      "           8       0.49      0.37      0.43      1000\n",
      "           9       0.61      0.59      0.60      1000\n",
      "\n",
      "    accuracy                           0.39     10000\n",
      "   macro avg       0.38      0.39      0.38     10000\n",
      "weighted avg       0.38      0.39      0.38     10000\n",
      "\n",
      "----- Classification for dimension MEDIUM, time MEDIUM -----\n",
      "              precision    recall  f1-score   support\n",
      "\n",
      "           0       0.47      0.53      0.50      1000\n",
      "           1       0.80      0.77      0.78      1000\n",
      "           2       0.39      0.37      0.38      1000\n",
      "           3       0.45      0.51      0.48      1000\n",
      "           4       0.37      0.34      0.35      1000\n",
      "           5       0.51      0.56      0.54      1000\n",
      "           6       0.28      0.25      0.26      1000\n",
      "           7       0.64      0.65      0.64      1000\n",
      "           8       0.69      0.70      0.70      1000\n",
      "           9       0.79      0.76      0.77      1000\n",
      "\n",
      "    accuracy                           0.54     10000\n",
      "   macro avg       0.54      0.54      0.54     10000\n",
      "weighted avg       0.54      0.54      0.54     10000\n",
      "\n",
      "----- Classification for dimension MEDIUM, time LONG -----\n",
      "              precision    recall  f1-score   support\n",
      "\n",
      "           0       0.51      0.56      0.53      1000\n",
      "           1       0.68      0.66      0.67      1000\n",
      "           2       0.38      0.36      0.37      1000\n",
      "           3       0.39      0.43      0.41      1000\n",
      "           4       0.38      0.36      0.37      1000\n",
      "           5       0.50      0.56      0.53      1000\n",
      "           6       0.24      0.21      0.23      1000\n",
      "           7       0.65      0.66      0.65      1000\n",
      "           8       0.72      0.69      0.70      1000\n",
      "           9       0.78      0.78      0.78      1000\n",
      "\n",
      "    accuracy                           0.53     10000\n",
      "   macro avg       0.52      0.53      0.52     10000\n",
      "weighted avg       0.52      0.53      0.52     10000\n",
      "\n",
      "----- Classification for dimension HIGH, time SHORT -----\n",
      "              precision    recall  f1-score   support\n",
      "\n",
      "           0       0.43      0.51      0.47      1000\n",
      "           1       0.58      0.57      0.58      1000\n",
      "           2       0.35      0.29      0.32      1000\n",
      "           3       0.43      0.41      0.42      1000\n",
      "           4       0.35      0.36      0.36      1000\n",
      "           5       0.38      0.52      0.44      1000\n",
      "           6       0.22      0.15      0.18      1000\n",
      "           7       0.51      0.58      0.54      1000\n",
      "           8       0.65      0.49      0.55      1000\n",
      "           9       0.64      0.68      0.66      1000\n",
      "\n",
      "    accuracy                           0.46     10000\n",
      "   macro avg       0.45      0.46      0.45     10000\n",
      "weighted avg       0.45      0.46      0.45     10000\n",
      "\n",
      "----- Classification for dimension HIGH, time MEDIUM -----\n",
      "              precision    recall  f1-score   support\n",
      "\n",
      "           0       0.55      0.65      0.60      1000\n",
      "           1       0.85      0.76      0.80      1000\n",
      "           2       0.40      0.38      0.39      1000\n",
      "           3       0.56      0.63      0.59      1000\n",
      "           4       0.40      0.33      0.37      1000\n",
      "           5       0.55      0.51      0.53      1000\n",
      "           6       0.27      0.26      0.27      1000\n",
      "           7       0.60      0.70      0.65      1000\n",
      "           8       0.67      0.64      0.66      1000\n",
      "           9       0.72      0.77      0.74      1000\n",
      "\n",
      "    accuracy                           0.56     10000\n",
      "   macro avg       0.56      0.56      0.56     10000\n",
      "weighted avg       0.56      0.56      0.56     10000\n",
      "\n",
      "----- Classification for dimension HIGH, time LONG -----\n",
      "              precision    recall  f1-score   support\n",
      "\n",
      "           0       0.61      0.67      0.64      1000\n",
      "           1       0.77      0.75      0.76      1000\n",
      "           2       0.36      0.34      0.35      1000\n",
      "           3       0.54      0.57      0.55      1000\n",
      "           4       0.45      0.45      0.45      1000\n",
      "           5       0.58      0.59      0.58      1000\n",
      "           6       0.26      0.25      0.26      1000\n",
      "           7       0.65      0.71      0.68      1000\n",
      "           8       0.71      0.63      0.67      1000\n",
      "           9       0.78      0.77      0.77      1000\n",
      "\n",
      "    accuracy                           0.57     10000\n",
      "   macro avg       0.57      0.57      0.57     10000\n",
      "weighted avg       0.57      0.57      0.57     10000\n",
      "\n"
     ]
    },
    {
     "data": {
      "image/png": "[encoded data removed]",
      "text/plain": [
       "<Figure size 432x288 with 1 Axes>"
      ]
     },
     "metadata": {
      "needs_background": "light"
     },
     "output_type": "display_data"
    }
   ],
   "source": [
    "svm_labels, svm_acc = measure_svc((train_data, train_labels, test_data, test_labels), reduced_datasets)"
   ]
  },
  {
   "cell_type": "markdown",
   "metadata": {},
   "source": [
    "### Porównanie klasyfikatorów"
   ]
  },
  {
   "cell_type": "code",
   "execution_count": 21,
   "metadata": {},
   "outputs": [
    {
     "data": {
      "image/png": "[encoded data removed]",
      "text/plain": [
       "<Figure size 432x288 with 1 Axes>"
      ]
     },
     "metadata": {
      "needs_background": "light"
     },
     "output_type": "display_data"
    }
   ],
   "source": [
    "#print(ada_labels)\n",
    "ax = plt.subplot(111)\n",
    "x = [x for x in range(10)]\n",
    "xx = [x+0.5 for x in range(10)]\n",
    "svm_legend = ax.bar(x, svm_acc, width=0.5, color='r')\n",
    "ada_legend = ax.bar(xx, ada_acc, width=0.5, color='b')\n",
    "ax.set_ylabel('Accuracy')\n",
    "ax.set_xticks(x)\n",
    "ax.set_xticklabels(ada_labels, rotation=90)\n",
    "ax.legend((svm_legend, ada_legend), ('SVM', 'AdaBoost'))\n",
    "ax.autoscale()\n",
    "plt.show()"
   ]
  },
  {
   "cell_type": "markdown",
   "metadata": {},
   "source": [
    "## Wnioski"
   ]
  },
  {
   "cell_type": "markdown",
   "metadata": {},
   "source": [
    "Dla oryginalnych danych klasyfikator SVM w przypadku zbioru fashion mnist odznacza się znacznie większą precyzją. \n",
    "\n",
    "Zmniejszenie wymiarowości zbioru znacznie pogarsza wyniki klasyfikacji, chociaż klasyfikator SVM osiąga lepszą celność dla prawie wszystkich przypadków testowych, to klasyfikator AdaBoost wydaje się być mniej wrażliwy na zmniejszanie wymiarowości i zasobów czasowych liczenia. W jego przypadku słupki różnią się o mniejsze wartości. Szczególnie widać to dla namniejszej wymiarowości i czasu uczenia, gdzie klasyfikator AdaBoost osiągnął lepszą precyzję od SVM. Widać, że wraz ze zmniejszaniem czasu uczenia i wymiarowości danych wykresy słupkowe przedstawiające precyzję obu klasyfikatorów się do siebie zbliżają.\n",
    "\n",
    "Wyniki eksperymentu pozwalają sądzić, że przy zastosowaniu lepszych autoenkoderów, dkoładność klasyfikatora AdaBoost mogłaby stać się porównywalna z osiąganą przez SVM, który działaja znacznie wolniej (w szczególności - wymaga o wiele więcej więcej czasu na trening). Aby praktycznie zastosowć takie rozwiązanie, osiągane przy redukcji wymiarów dokładności musiałyby jednak być przynajmniej porównywalne z tymi osiąganymi na zbiorze wyjściowym.\n",
    "\n",
    "Znaczący spadek wydajności klasyfikatora SVM wraz ze zmniejszeniem wymiarowości intuicyjnie wynika ze sposobu działania tego klasyfikatora - w niższych wymiarach poszczególne klasy mogą nakładać się na siebe i być nieseparowalne, nawet jeśli w wyższym wymiarze granice pomiędzy nimi były wyraźne. Zastosowanie autoenkoderów wariacyjnych jako narzędzia redukcji wymiarów powinno znacząco ograniczyć to zjawisko - tworzą one uporządkowaną przestrzeń z poszczególnymi klasami wyraźnie skupionymi wokół konkretnych punktów, co idealnie odpowiada wymaganiom klasyfikatora SVM. Przeprowadzone doświadczenie nie pozwalało jednak zaobserwować tego efektu, prawdopodobnie ze względu na niewystarczającą jakość zastosowanych autoenkoderów.\n",
    "\n",
    "Na wykresach zwizualizowano jedynie wartość *accuracy*, ponieważ pozostałe badane miary dokładności - *recall*, *f1* - oddawały te same trendy (co można łatwo zaobserwować w wynikach tabelarycznych)"
   ]
  },
  {
   "cell_type": "markdown",
   "metadata": {},
   "source": [
    "## Pomiar odporności klasyfikatorów na zaszumione dane (*robustness*)"
   ]
  },
  {
   "cell_type": "code",
   "execution_count": 21,
   "metadata": {},
   "outputs": [],
   "source": [
    "def load_noisified_classifiers():\n",
    "    clfs = {\n",
    "        name: {\n",
    "            dim: {\n",
    "                time: {\n",
    "                    noise_type: {\n",
    "                        noise_factor: load_classifier(name, dim, time, noise_factor, noise_type) for noise_factor in ['0.1', '0.3', '0.5']\n",
    "                    } for noise_type in ['vectors', 'labels']\n",
    "                } for time in Time\n",
    "            } for dim in Dim\n",
    "        } for name in ['svm', 'adaboost']\n",
    "    }\n",
    "\n",
    "    for clf_name in ['adaboost', 'svm']:\n",
    "        clfs[clf_name]['orig'] = {\n",
    "                        noise_type: {\n",
    "                            noise_factor: load(get_classifier_path(clf_name, get_orig_classifier_filename(clf_name, noise_factor, noise_type))) for noise_factor in ['0.1', '0.3', '0.5']\n",
    "                        } for noise_type in ['vectors', 'labels']\n",
    "        }\n",
    "    \n",
    "    return clfs"
   ]
  },
  {
   "cell_type": "code",
   "execution_count": 22,
   "metadata": {},
   "outputs": [
    {
     "name": "stderr",
     "output_type": "stream",
     "text": [
      "C:\\Users\\sgica\\AppData\\Roaming\\Python\\Python37\\site-packages\\sklearn\\base.py:318: UserWarning: Trying to unpickle estimator DecisionTreeClassifier from version 0.23.1 when using version 0.22.2.post1. This might lead to breaking code or invalid results. Use at your own risk.\n",
      "  UserWarning)\n",
      "C:\\Users\\sgica\\AppData\\Roaming\\Python\\Python37\\site-packages\\sklearn\\base.py:318: UserWarning: Trying to unpickle estimator AdaBoostClassifier from version 0.23.1 when using version 0.22.2.post1. This might lead to breaking code or invalid results. Use at your own risk.\n",
      "  UserWarning)\n"
     ]
    }
   ],
   "source": [
    "clfs = load_noisified_classifiers()"
   ]
  },
  {
   "cell_type": "code",
   "execution_count": 23,
   "metadata": {},
   "outputs": [],
   "source": [
    "def measure_noisified(clf_name, noise_factor, noise_type, test_data):\n",
    "    orig_clf = clfs[clf_name]['orig'][noise_type][noise_factor]\n",
    "    \n",
    "    orig_score = accuracy_score(test_labels, orig_clf.predict(test_data))\n",
    "    scores = [((dim, time), clfs[clf_name][dim][time][noise_type][noise_factor].predict(reduced_datasets[dim][time]['test']))\n",
    "              for dim in Dim for time in Time]\n",
    "    \n",
    "    return [('orig', orig_score)] + scores"
   ]
  },
  {
   "cell_type": "code",
   "execution_count": 46,
   "metadata": {},
   "outputs": [],
   "source": [
    "def plot_robustness_comparison(results):\n",
    "    results_ada = results['adaboost']\n",
    "    ada_acc = []\n",
    "    for i in range(len(results_ada)):\n",
    "        if results_ada[i][0] == 'orig':\n",
    "            ada_acc.append(results_ada[i][1])\n",
    "        else:\n",
    "            ada_acc.append(accuracy_score(test_labels, results_ada[i][1]))\n",
    "    results_svm = results['svm']\n",
    "    svm_acc = []\n",
    "    for i in range(len(results_svm)):\n",
    "        if results_svm[i][0] == 'orig':\n",
    "            svm_acc.append(results_svm[i][1])\n",
    "        else:\n",
    "            svm_acc.append(accuracy_score(test_labels, results_svm[i][1]))\n",
    "    labels = []\n",
    "    for i in range(len(results_svm)):\n",
    "        if results_svm[i][0] == 'orig':\n",
    "            labels.append(results_svm[i][0])\n",
    "        else:\n",
    "            labels.append(f'dimension {results_svm[i][0][0].name}, time {results_svm[i][0][1].name}')\n",
    "    ax = plt.subplot(111)\n",
    "    x = [x for x in range(len(labels))]\n",
    "    xx = [x+0.5 for x in range(10)]\n",
    "    svm_legend = ax.bar(x, svm_acc, width=0.5, color='r')\n",
    "    ada_legend = ax.bar(xx, ada_acc, width=0.5, color='b')\n",
    "    ax.set_ylabel('Accuracy')\n",
    "    ax.set_xticks(x)\n",
    "    ax.set_xticklabels(labels, rotation=90)\n",
    "    ax.legend((svm_legend, ada_legend), ('SVM', 'AdaBoost'))\n",
    "    ax.autoscale()\n",
    "    plt.show()"
   ]
  },
  {
   "cell_type": "markdown",
   "metadata": {},
   "source": [
    "### Zaszumienie wektorów danych"
   ]
  },
  {
   "cell_type": "code",
   "execution_count": 25,
   "metadata": {},
   "outputs": [],
   "source": [
    "def noisify_vectors(data, noise_factor):    \n",
    "    vector_length = len(data[0])\n",
    "    number_of_samples = len(data)\n",
    "    epsilon = (np.random.rand(number_of_samples, vector_length) - 0.5) * 2 * 255 * noise_factor\n",
    "    new_data = data + epsilon\n",
    "    bounded = lambda p: min(max(p, 0), 255)\n",
    "    return np.vectorize(bounded)(new_data)"
   ]
  },
  {
   "cell_type": "code",
   "execution_count": 26,
   "metadata": {},
   "outputs": [],
   "source": [
    "def train_and_measure_vectors():\n",
    "    noise_factors = np.linspace(0.1, 0.5, 3)\n",
    "    noise_type = 'vectors'\n",
    "\n",
    "    for noise_factor in noise_factors:\n",
    "        noisy_train_data = noisify_vectors(train_data, noise_factor)\n",
    "        noisy_test_data = noisify_vectors(test_data, noise_factor)\n",
    "\n",
    "        noisy_original_dataset = (noisy_train_data, train_labels, noisy_test_data, test_labels)\n",
    "\n",
    "        noisy_reduced_datasets = reduce_dimensionality(noisy_train_data, noisy_test_data)\n",
    "\n",
    "        measure_adaboost(noisy_original_dataset, noisy_reduced_datasets, noise_factor, noise_type)\n",
    "        measure_svc(noisy_original_dataset, noisy_reduced_datasets, noise_factor, noise_type)\n",
    "\n",
    "def measure_loaded_vectors():\n",
    "    noise_factors = ['0.1', '0.3', '0.5']\n",
    "    noise_type = 'vectors'\n",
    "    \n",
    "    results = {}\n",
    "    \n",
    "    for noise_factor in noise_factors:\n",
    "        noisified_test_data = noisify_vectors(test_data, float(noise_factor))\n",
    "        \n",
    "        results['adaboost'] = measure_noisified('adaboost', noise_factor, noise_type, noisified_test_data)\n",
    "        results['svm'] = measure_noisified('svm', noise_factor, noise_type, noisified_test_data)\n",
    "    \n",
    "    return results"
   ]
  },
  {
   "cell_type": "code",
   "execution_count": 27,
   "metadata": {},
   "outputs": [
    {
     "name": "stdout",
     "output_type": "stream",
     "text": [
      "{'adaboost': [('orig', 0.0999), ((<Dim.LOW: 15>, <Time.SHORT: '2hl'>), array([5, 5, 1, ..., 5, 5, 5], dtype=int64)), ((<Dim.LOW: 15>, <Time.MEDIUM: '4hl'>), array([5, 3, 5, ..., 9, 7, 7], dtype=int64)), ((<Dim.LOW: 15>, <Time.LONG: 'cvae'>), array([4, 3, 1, ..., 1, 2, 1], dtype=int64)), ((<Dim.MEDIUM: 50>, <Time.SHORT: '2hl'>), array([5, 5, 5, ..., 5, 6, 6], dtype=int64)), ((<Dim.MEDIUM: 50>, <Time.MEDIUM: '4hl'>), array([5, 6, 5, ..., 5, 1, 0], dtype=int64)), ((<Dim.MEDIUM: 50>, <Time.LONG: 'cvae'>), array([7, 5, 5, ..., 2, 7, 7], dtype=int64)), ((<Dim.HIGH: 100>, <Time.SHORT: '2hl'>), array([7, 7, 5, ..., 7, 7, 5], dtype=int64)), ((<Dim.HIGH: 100>, <Time.MEDIUM: '4hl'>), array([5, 5, 1, ..., 5, 0, 5], dtype=int64)), ((<Dim.HIGH: 100>, <Time.LONG: 'cvae'>), array([8, 0, 1, ..., 5, 1, 1], dtype=int64))], 'svm': [('orig', 0.1), ((<Dim.LOW: 15>, <Time.SHORT: '2hl'>), array([5, 5, 7, ..., 5, 7, 7], dtype=int64)), ((<Dim.LOW: 15>, <Time.MEDIUM: '4hl'>), array([5, 3, 0, ..., 5, 5, 5], dtype=int64)), ((<Dim.LOW: 15>, <Time.LONG: 'cvae'>), array([4, 5, 3, ..., 1, 4, 1], dtype=int64)), ((<Dim.MEDIUM: 50>, <Time.SHORT: '2hl'>), array([5, 5, 5, ..., 5, 9, 6], dtype=int64)), ((<Dim.MEDIUM: 50>, <Time.MEDIUM: '4hl'>), array([5, 1, 5, ..., 5, 3, 5], dtype=int64)), ((<Dim.MEDIUM: 50>, <Time.LONG: 'cvae'>), array([7, 5, 5, ..., 4, 7, 3], dtype=int64)), ((<Dim.HIGH: 100>, <Time.SHORT: '2hl'>), array([7, 5, 5, ..., 5, 8, 0], dtype=int64)), ((<Dim.HIGH: 100>, <Time.MEDIUM: '4hl'>), array([5, 5, 5, ..., 5, 5, 5], dtype=int64)), ((<Dim.HIGH: 100>, <Time.LONG: 'cvae'>), array([5, 6, 7, ..., 0, 5, 1], dtype=int64))]}\n"
     ]
    }
   ],
   "source": [
    "results = measure_loaded_vectors()\n",
    "#plot_robustness_comparison(results)"
   ]
  },
  {
   "cell_type": "code",
   "execution_count": 47,
   "metadata": {},
   "outputs": [
    {
     "data": {
      "image/png": "[encoded data removed]",
      "text/plain": [
       "<Figure size 432x288 with 1 Axes>"
      ]
     },
     "metadata": {
      "needs_background": "light"
     },
     "output_type": "display_data"
    }
   ],
   "source": [
    "plot_robustness_comparison(results)"
   ]
  },
  {
   "cell_type": "markdown",
   "metadata": {},
   "source": [
    "### Zaszumienie etykiet"
   ]
  },
  {
   "cell_type": "code",
   "execution_count": 30,
   "metadata": {},
   "outputs": [],
   "source": [
    "from copy import deepcopy\n",
    "\n",
    "def noisify_labels(labels, ratio):\n",
    "    new_labels = deepcopy(labels)\n",
    "    distinct_labels = np.unique(labels)\n",
    "    indices = np.random.choice(len(labels), int(ratio * len(labels)), replace=False)\n",
    "    for i in indices:\n",
    "        current_label = new_labels[i]\n",
    "        possible_labels = [l for l in distinct_labels if l != current_label]\n",
    "        new_labels[i] = np.random.choice(possible_labels, 1)[0]\n",
    "    return new_labels"
   ]
  },
  {
   "cell_type": "code",
   "execution_count": 31,
   "metadata": {
    "scrolled": true
   },
   "outputs": [],
   "source": [
    "def train_and_measure_labels():\n",
    "    noise_factors = np.linspace(0.1, 0.5, 3)\n",
    "    noise_type = 'labels'\n",
    "\n",
    "    for noise_factor in noise_factors:\n",
    "        noisified_original_dataset = (train_data, noisify_labels(train_labels, noise_factor), test_data, test_labels)\n",
    "\n",
    "        measure_adaboost(noisified_original_dataset, reduced_datasets, noise_factor, noise_type)\n",
    "        measure_svc(noisified_original_dataset, reduced_datasets, noise_factor, noise_type)\n",
    "\n",
    "def measure_loaded_labels():\n",
    "    noise_factors = ['0.1', '0.3', '0.5']\n",
    "    noise_type = 'labels'\n",
    "    \n",
    "    results = {}\n",
    "    \n",
    "    for noise_factor in noise_factors:\n",
    "        results['adaboost'] = measure_noisified('adaboost', noise_factor, noise_type, test_data)\n",
    "        results['svm'] = measure_noisified('svm', noise_factor, noise_type, test_data)\n",
    "    \n",
    "    return results"
   ]
  },
  {
   "cell_type": "code",
   "execution_count": 32,
   "metadata": {
    "scrolled": true
   },
   "outputs": [
    {
     "name": "stdout",
     "output_type": "stream",
     "text": [
      "{'adaboost': [('orig', 0.7504), ((<Dim.LOW: 15>, <Time.SHORT: '2hl'>), array([1, 1, 0, ..., 9, 9, 1], dtype=int64)), ((<Dim.LOW: 15>, <Time.MEDIUM: '4hl'>), array([3, 7, 5, ..., 5, 5, 5], dtype=int64)), ((<Dim.LOW: 15>, <Time.LONG: 'cvae'>), array([3, 3, 8, ..., 2, 3, 5], dtype=int64)), ((<Dim.MEDIUM: 50>, <Time.SHORT: '2hl'>), array([2, 5, 5, ..., 5, 3, 5], dtype=int64)), ((<Dim.MEDIUM: 50>, <Time.MEDIUM: '4hl'>), array([1, 5, 5, ..., 7, 7, 5], dtype=int64)), ((<Dim.MEDIUM: 50>, <Time.LONG: 'cvae'>), array([9, 2, 1, ..., 6, 8, 1], dtype=int64)), ((<Dim.HIGH: 100>, <Time.SHORT: '2hl'>), array([1, 7, 7, ..., 7, 5, 5], dtype=int64)), ((<Dim.HIGH: 100>, <Time.MEDIUM: '4hl'>), array([5, 2, 4, ..., 5, 7, 5], dtype=int64)), ((<Dim.HIGH: 100>, <Time.LONG: 'cvae'>), array([6, 0, 8, ..., 7, 6, 6], dtype=int64))], 'svm': [('orig', 0.877), ((<Dim.LOW: 15>, <Time.SHORT: '2hl'>), array([5, 1, 1, ..., 5, 9, 5], dtype=int64)), ((<Dim.LOW: 15>, <Time.MEDIUM: '4hl'>), array([5, 7, 5, ..., 7, 5, 5], dtype=int64)), ((<Dim.LOW: 15>, <Time.LONG: 'cvae'>), array([3, 3, 7, ..., 7, 9, 2], dtype=int64)), ((<Dim.MEDIUM: 50>, <Time.SHORT: '2hl'>), array([7, 5, 5, ..., 7, 6, 6], dtype=int64)), ((<Dim.MEDIUM: 50>, <Time.MEDIUM: '4hl'>), array([1, 5, 5, ..., 8, 7, 5], dtype=int64)), ((<Dim.MEDIUM: 50>, <Time.LONG: 'cvae'>), array([3, 0, 6, ..., 3, 1, 0], dtype=int64)), ((<Dim.HIGH: 100>, <Time.SHORT: '2hl'>), array([6, 5, 1, ..., 8, 2, 2], dtype=int64)), ((<Dim.HIGH: 100>, <Time.MEDIUM: '4hl'>), array([5, 1, 5, ..., 5, 5, 6], dtype=int64)), ((<Dim.HIGH: 100>, <Time.LONG: 'cvae'>), array([2, 2, 3, ..., 1, 0, 2], dtype=int64))]}\n"
     ]
    }
   ],
   "source": [
    "results_lab = measure_loaded_labels()\n",
    "#plot_robustness_comparison(results_lab)"
   ]
  },
  {
   "cell_type": "code",
   "execution_count": 48,
   "metadata": {},
   "outputs": [
    {
     "data": {
      "image/png": "[encoded data removed]",
      "text/plain": [
       "<Figure size 432x288 with 1 Axes>"
      ]
     },
     "metadata": {
      "needs_background": "light"
     },
     "output_type": "display_data"
    }
   ],
   "source": [
    "plot_robustness_comparison(results_lab)"
   ]
  },
  {
   "cell_type": "markdown",
   "metadata": {},
   "source": [
    "## Wnioski"
   ]
  },
  {
   "cell_type": "markdown",
   "metadata": {},
   "source": [
    "Po przeprowadzonych eksperymentach możemy zauważyć, że zaszumienie wektora danych w małym stopniu wpływa na działanie klasyfikatora, natomiast zaszumienie etykiet może drastycznie zmienić jego działanie. Jest to dosyć intuicyjne, po zmianie kilku pixeli w obrazku wciąż jesteśmy w stanie łatwo określić, co na nim jest. Tak samo klasyfikator nie ma wtedy również problemu ze \"znalezieniem\" wspólnych cech podanych danych. W przypadku zaszumienia etykiet klasyfikatory \"szuka\" wspólnych cech pośród danych z różnych klas i prowadzi to do błędnego wytrenowania go.\n",
    "Z tym eksperymentem żaden z klasyfikatorów nie poradził sobie znacznie lepiej od drugiego. Wykazały się tutaj podobną odpornością."
   ]
  },
  {
   "cell_type": "markdown",
   "metadata": {},
   "source": [
    "## Źródła"
   ]
  },
  {
   "cell_type": "markdown",
   "metadata": {},
   "source": [
    "* https://towardsdatascience.com/auto-encoder-what-is-it-and-what-is-it-used-for-part-1-3e5c6f017726\n",
    "* https://towardsdatascience.com/understanding-variational-autoencoders-vaes-f70510919f73\n",
    "* https://blog.keras.io/building-autoencoders-in-keras.html\n",
    "* https://www.tensorflow.org/tutorials/generative/cvae\n",
    "* https://towardsdatascience.com/the-robustness-of-machine-learning-algorithms-against-missing-or-abnormal-values-ec3222379905"
   ]
  }
 ],
 "metadata": {
  "kernelspec": {
   "display_name": "Python 3",
   "language": "python",
   "name": "python3"
  },
  "language_info": {
   "codemirror_mode": {
    "name": "ipython",
    "version": 3
   },
   "file_extension": ".py",
   "mimetype": "text/x-python",
   "name": "python",
   "nbconvert_exporter": "python",
   "pygments_lexer": "ipython3",
   "version": "3.7.6"
  }
 },
 "nbformat": 4,
 "nbformat_minor": 4
}
