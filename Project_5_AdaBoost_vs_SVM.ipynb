{
 "cells": [
  {
   "cell_type": "markdown",
   "metadata": {},
   "source": [
    "# Porównanie skuteczności klasyfikatorów SVM i AdaBoost na zbiorach danych o wymiarowości zredukowanej przez autoenkoder wariacyjny"
   ]
  },
  {
   "cell_type": "markdown",
   "metadata": {},
   "source": [
    "## Przygotowanie zbioru danych"
   ]
  },
  {
   "cell_type": "code",
   "execution_count": 1,
   "metadata": {},
   "outputs": [],
   "source": [
    "%matplotlib inline\n",
    "\n",
    "import zipfile\n",
    "import pandas as pd\n",
    "from matplotlib import pyplot as plt\n",
    "import numpy as np"
   ]
  },
  {
   "cell_type": "code",
   "execution_count": 47,
   "metadata": {},
   "outputs": [],
   "source": [
    "with zipfile.ZipFile(\"data/fashion-mnist.zip\") as z:\n",
    "    with z.open(\"fashion-mnist_train.csv\") as f:\n",
    "        train_df = pd.read_csv(f)\n",
    "\n",
    "    with z.open(\"fashion-mnist_test.csv\") as f:\n",
    "        test_df = pd.read_csv(f)\n",
    "\n",
    "train_labels = train_df['label'].to_numpy()\n",
    "train_data = train_df.drop('label', axis='columns').to_numpy() / 255.0\n",
    "\n",
    "test_labels = test_df['label'].to_numpy()\n",
    "test_data = test_df.drop('label', axis='columns').to_numpy() / 255.0"
   ]
  },
  {
   "cell_type": "markdown",
   "metadata": {},
   "source": [
    "W projekcie wykorzystujemy zbiór danych FMNIST.\n",
    "\n",
    "Jako że jest to bardzo znany i dokładnie opisany zbiór danych, etap eksploracji danych ograniczyliśmy do minimum - wszelkie ważne własności zbioru zostały już zbadane, więc sprawdzanie ich w miarę potrzeb nie nastręcza większych trudności. Tutaj zaglądamy jedynie na początek danych oraz podstawową ich charakterystykę, aby upewnić się, że wszystko jest w porządku."
   ]
  },
  {
   "cell_type": "code",
   "execution_count": 3,
   "metadata": {
    "scrolled": false
   },
   "outputs": [],
   "source": [
    "def print_images(images, title):\n",
    "    fig, axs = plt.subplots(ncols=5, figsize=(13,4))\n",
    "    \n",
    "    for i, image in enumerate(images):\n",
    "        axs[i].imshow(image, cmap='gray', vmin=0, vmax=255)\n",
    "        axs[i].xaxis.set_visible(False)\n",
    "        axs[i].yaxis.set_visible(False)\n",
    "\n",
    "    fig.tight_layout()\n",
    "    fig.suptitle(title, fontsize=15)\n",
    "    plt.show()"
   ]
  },
  {
   "cell_type": "code",
   "execution_count": 34,
   "metadata": {},
   "outputs": [
    {
     "name": "stdout",
     "output_type": "stream",
     "text": [
      "Liczba próbek w zbiorze uczącym: 60000\n",
      "Liczba próbek w zbiorze testowym: 10000\n",
      "\n",
      "Kształt wektora wejściowego: (784,)\n",
      "Zakres wartości pikseli przed normalizacją: 0 - 255\n"
     ]
    },
    {
     "data": {
      "image/png": "[encoded data removed]",
      "text/plain": [
       "<Figure size 936x288 with 5 Axes>"
      ]
     },
     "metadata": {
      "needs_background": "light"
     },
     "output_type": "display_data"
    },
    {
     "name": "stdout",
     "output_type": "stream",
     "text": [
      "Reprezentacja pierwszych 5 próbek w zbiorze uczącym:\n",
      "\n",
      "   label  pixel1  pixel2  pixel3  pixel4  pixel5  pixel6  pixel7  pixel8  \\\n",
      "0      2       0       0       0       0       0       0       0       0   \n",
      "1      9       0       0       0       0       0       0       0       0   \n",
      "2      6       0       0       0       0       0       0       0       5   \n",
      "3      0       0       0       0       1       2       0       0       0   \n",
      "4      3       0       0       0       0       0       0       0       0   \n",
      "\n",
      "   pixel9  ...  pixel775  pixel776  pixel777  pixel778  pixel779  pixel780  \\\n",
      "0       0  ...         0         0         0         0         0         0   \n",
      "1       0  ...         0         0         0         0         0         0   \n",
      "2       0  ...         0         0         0        30        43         0   \n",
      "3       0  ...         3         0         0         0         0         1   \n",
      "4       0  ...         0         0         0         0         0         0   \n",
      "\n",
      "   pixel781  pixel782  pixel783  pixel784  \n",
      "0         0         0         0         0  \n",
      "1         0         0         0         0  \n",
      "2         0         0         0         0  \n",
      "3         0         0         0         0  \n",
      "4         0         0         0         0  \n",
      "\n",
      "[5 rows x 785 columns]\n"
     ]
    }
   ],
   "source": [
    "print(f'Liczba próbek w zbiorze uczącym: {len(train_df)}')\n",
    "print(f'Liczba próbek w zbiorze testowym: {len(test_df)}')\n",
    "print()\n",
    "print(f'Kształt wektora wejściowego: {np.shape(train[0])}')\n",
    "print(f'Zakres wartości pikseli przed normalizacją: {np.min(train_df.to_numpy())} - {np.max(train_df.to_numpy())}')\n",
    "\n",
    "first_5_images = train_df.head().drop('label', axis='columns').to_numpy().reshape((5,28,28))\n",
    "print_images(first_5_images, 'Pięć pierwszych obrazków ze zbioru uczącego:')\n",
    "    \n",
    "print('Reprezentacja pierwszych 5 próbek w zbiorze uczącym:\\n')\n",
    "print(train_df.head())"
   ]
  },
  {
   "cell_type": "markdown",
   "metadata": {},
   "source": [
    "## Redukcja wymiarowości za pomocą autoenkodera wariacyjnego"
   ]
  },
  {
   "cell_type": "code",
   "execution_count": 35,
   "metadata": {},
   "outputs": [],
   "source": [
    "from keras.layers import Input, Dense, Lambda\n",
    "from keras.models import Model, model_from_json\n",
    "from keras import backend as K\n",
    "from keras import objectives\n",
    "from enum import Enum"
   ]
  },
  {
   "cell_type": "markdown",
   "metadata": {},
   "source": [
    "### Załadowanie modeli"
   ]
  },
  {
   "cell_type": "markdown",
   "metadata": {},
   "source": [
    "Modele zostały zbudowane i wytrenowane w osobnym notatniku Jupyter: *'Autoenkodery - tworzenie i trening'*.\n",
    "\n",
    "W ramach projektu wykorzystano 3 architektury sieci - są to (wg rosnącej złożoności):\n",
    " * enkoder wariacyjny z 2 warstwami ukrytymi\n",
    " * enkoder wariacyjny z 4 warstwami ukrytymi\n",
    " * enkoder konwolucyjno-wariacyjny\n",
    "\n",
    "Każda z architektur została wytrenowana w trzech wersjach - dla 15, 50 i 100 wymiarów w środkowej warstwie sieci.\n",
    "\n",
    "Trening sieci o bardziej złożonej architekturze wymaga więcej czasu - w tym przypadku, pojedyncza epoka treningu najbardziej złożonej sieci (konwolucyjno-wariacyjnej) trwała 10 razy dłużej niż najprostszej z nich (2 warstwy ukryte). Wykorzystanie modeli o różnej złożoności odpowiada zatem posiadaniu odpowiednio zróżnicowanego budżetu czasowego."
   ]
  },
  {
   "cell_type": "code",
   "execution_count": 135,
   "metadata": {},
   "outputs": [],
   "source": [
    "z_mean, z_variance = None, None\n",
    "\n",
    "def load_model(model_name):\n",
    "    with open(f'autoencoders/models/{model_name}.json') as file:\n",
    "        loaded_json = file.read()\n",
    "    return model_from_json(loaded_json)\n",
    "\n",
    "def load_weights(model, model_name, epochs):\n",
    "    model.load_weights(f'autoencoders/weights/{model_name}_e{epochs}.h5')\n",
    "\n",
    "def load_encoder(time, dim, epochs=400):\n",
    "    global z_mean, z_variance\n",
    "    \n",
    "    encoder_name = f'encoder_{time.value}_d{dim.value}'\n",
    "    \n",
    "    encoder = load_model(encoder_name)\n",
    "    load_weights(encoder, encoder_name, epochs)\n",
    "    \n",
    "    z_mean, z_variance = encoder.get_layer('z_mean').output, encoder.get_layer('z_variance').output\n",
    "    encoder.compile(optimizer='rmsprop', loss=vae_loss)\n",
    "    \n",
    "    return encoder"
   ]
  },
  {
   "cell_type": "code",
   "execution_count": 137,
   "metadata": {},
   "outputs": [],
   "source": [
    "class Time(Enum):\n",
    "    SHORT = '2hl'\n",
    "    MEDIUM = '4hl'\n",
    "    LONG = 'cvae'\n",
    "\n",
    "class Dim(Enum):\n",
    "    LOW = 15\n",
    "    MEDIUM = 50\n",
    "    HIGH = 100\n",
    "\n",
    "# encoders[dimension][time]\n",
    "\n",
    "encoders = {dim: {time: load_encoder(time, dim, 400 if time != Time.LONG else 300) for time in Time} for dim in Dim}"
   ]
  },
  {
   "cell_type": "markdown",
   "metadata": {},
   "source": [
    "### Generowanie zbiorów danych o zredukowanej wymiarowości"
   ]
  },
  {
   "cell_type": "code",
   "execution_count": 138,
   "metadata": {},
   "outputs": [],
   "source": [
    "batch_size = 10000\n",
    "initial_dim = 784"
   ]
  },
  {
   "cell_type": "code",
   "execution_count": 139,
   "metadata": {
    "scrolled": true
   },
   "outputs": [],
   "source": [
    "# reduced_datasets[Dim][Time]['train'|'test']\n",
    "\n",
    "def reduce_dimensionality(train, test):\n",
    "    return {\n",
    "                dim: {\n",
    "                    time: {\n",
    "                        'train': encoders[dim][time].predict(train, batch_size=batch_size),\n",
    "                        'test': encoders[dim][time].predict(test, batch_size=batch_size)\n",
    "                    } for time in Time\n",
    "                } for dim in Dim\n",
    "            }\n",
    "\n",
    "def map_over_reduced(reduced_datasets, f, args):\n",
    "    return {dim: {\n",
    "                time: {\n",
    "                    key: f(reduced_datasets[dim][time][key], *args) for key in reduced_datasets[dim][time]\n",
    "                } for time in reduced_datasets[dim].keys()\n",
    "            } for dim in reduced_datasets.keys()}"
   ]
  },
  {
   "cell_type": "code",
   "execution_count": 140,
   "metadata": {},
   "outputs": [],
   "source": [
    "reduced_datasets = reduce_dimensionality(train, test)"
   ]
  },
  {
   "cell_type": "markdown",
   "metadata": {},
   "source": [
    "## Klasyfikacja"
   ]
  },
  {
   "cell_type": "code",
   "execution_count": 151,
   "metadata": {},
   "outputs": [],
   "source": [
    "from sklearn.preprocessing import LabelEncoder\n",
    "from sklearn.metrics import confusion_matrix, accuracy_score\n",
    "from sklearn.model_selection import train_test_split\n",
    "from sklearn.ensemble import AdaBoostClassifier\n",
    "from sklearn.tree import DecisionTreeClassifier\n",
    "from sklearn.naive_bayes import GaussianNB\n",
    "from sklearn.ensemble import RandomForestClassifier\n",
    "from sklearn import datasets"
   ]
  },
  {
   "cell_type": "code",
   "execution_count": 152,
   "metadata": {},
   "outputs": [],
   "source": [
    "from joblib import dump, load"
   ]
  },
  {
   "cell_type": "code",
   "execution_count": 153,
   "metadata": {},
   "outputs": [],
   "source": [
    "def get_classifier_filename(name, dim, time, noise_factor, noise_type):\n",
    "    return f'{name}_d{dim.value}_e{time.value}' + (\n",
    "        f'_n{str(noise_factor).split(\".\")[1]}_{noise_type}' if noise_type is not None else ''\n",
    "    )\n",
    "\n",
    "def get_orig_classifier_filename(name, noise_factor, noise_type):\n",
    "    return f'{name}_orig' + (f'_{str(noise_factor).split(\".\")[1]}_{noise_type}' if noise_type is not None else '')\n",
    "\n",
    "def get_classifier_path(name, filename):\n",
    "    return f'{name}/{filename}'\n",
    "\n",
    "def persist_classifier(classifier, name, dim, time, noise_factor, noise_type):\n",
    "    filename = get_classifier_filename(name, dim, time, noise_factor)\n",
    "    path = get_classifier_path(name, filename)\n",
    "    dump(classifier, path)\n",
    "\n",
    "def load_classifier(name, dim, time, noise_factor, noise_type):\n",
    "    filename = get_classifier_filename(name, dim, time, noise_factor)\n",
    "    path = get_classifier_path(name, filename)\n",
    "    return load(path)\n",
    "\n",
    "def persist_fitted_clfs(name, orig, applied, noise_factor, noise_type):\n",
    "    orig_fitted, _ = orig\n",
    "    persist_orig_classifier(orig_fitted, noise_factor, noise_type)\n",
    "    \n",
    "    for dim, time, (fitted, _) in applied:\n",
    "        persist_classifier(fitted, name, dim, time, noise_factor, noise_type)"
   ]
  },
  {
   "cell_type": "code",
   "execution_count": 156,
   "metadata": {},
   "outputs": [],
   "source": [
    "def fit_predict(model, train_data, train_labels, test_data):\n",
    "    print(f'Fitting model {model}')\n",
    "    \n",
    "    fitted = model.fit(train_data, train_labels)\n",
    "\n",
    "    print(f'Predicting with model {model}')\n",
    "    \n",
    "    predicted = fitted.predict(test_data)\n",
    "    \n",
    "    print()\n",
    "    \n",
    "    return fitted, predicted\n",
    "\n",
    "def apply_classifier(classifier_class, original_dataset, reduced_datasets):\n",
    "    orig_train_data, orig_train_labels, orig_test_data, orig_test_labels = original_dataset\n",
    "    \n",
    "    orig = fit_predict(classifier_class(), orig_train_data, orig_train_labels, orig_test_data)\n",
    "    \n",
    "    applied = [(dim, time, fit_predict(classifier_class(),\n",
    "                                       reduced_datasets[dim][time]['train'],\n",
    "                                       orig_train_labels,\n",
    "                                       reduced_datasets[dim][time]['test']\n",
    "                                       ))\n",
    "              for dim in Dim for time in Time]\n",
    "    \n",
    "    return orig, applied  \n",
    "\n",
    "def print_accuracy_scores(classifier_name, orig, applied, original_dataset):\n",
    "    _, orig_predicted = orig\n",
    "    _, _, _, orig_test_labels = original_dataset\n",
    "    \n",
    "    print(f'{classifier_name} accuracy scores:')\n",
    "    print(f'original dataset: {accuracy_score(orig_test_labels, orig_predicted)}')\n",
    "    \n",
    "    for dim, time, (_, predicted) in applied:\n",
    "        print(f'dimension {dim.name}, time {time.name}: {accuracy_score(orig_test_labels, predicted)}')\n",
    "\n",
    "def print_classification_reports(classifier_name, orig, applied, original_dataset):\n",
    "    _, orig_predicted = orig\n",
    "    _, _, _, orig_test_labels = original_dataset\n",
    "    \n",
    "    print('----- Classification for original dataset -----')\n",
    "    print(classification_report(orig_test_labels, orig_predicted))\n",
    "    \n",
    "    for dim, time, (_, predicted) in applied:\n",
    "        print(f'----- Classification for dimension {dim.name}, time {time.name} -----')\n",
    "        print(classification_report(orig_test_labels, predicted))"
   ]
  },
  {
   "cell_type": "markdown",
   "metadata": {},
   "source": [
    "### AdaBoost"
   ]
  },
  {
   "cell_type": "code",
   "execution_count": 155,
   "metadata": {},
   "outputs": [],
   "source": [
    "def measure_adaboost(original_dataset, reduced_datasets, noise_factor=0.0, noise_type=None):\n",
    "    orig, applied = apply_classifier(AdaBoostClassifier, original_dataset, reduced_datasets)\n",
    "    \n",
    "    persist_fitted_clfs('adaboost', orig, applied, noise_factor, noise_type)\n",
    "    \n",
    "    print_accuracy_scores('AdaBoost', orig, applied)"
   ]
  },
  {
   "cell_type": "code",
   "execution_count": null,
   "metadata": {},
   "outputs": [
    {
     "name": "stdout",
     "output_type": "stream",
     "text": [
      "Fitting model AdaBoostClassifier(algorithm='SAMME.R', base_estimator=None, learning_rate=1.0,\n",
      "                   n_estimators=50, random_state=None)\n",
      "Predicting with model AdaBoostClassifier(algorithm='SAMME.R', base_estimator=None, learning_rate=1.0,\n",
      "                   n_estimators=50, random_state=None)\n",
      "\n",
      "Fitting model AdaBoostClassifier(algorithm='SAMME.R', base_estimator=None, learning_rate=1.0,\n",
      "                   n_estimators=50, random_state=None)\n",
      "Predicting with model AdaBoostClassifier(algorithm='SAMME.R', base_estimator=None, learning_rate=1.0,\n",
      "                   n_estimators=50, random_state=None)\n",
      "\n",
      "Fitting model AdaBoostClassifier(algorithm='SAMME.R', base_estimator=None, learning_rate=1.0,\n",
      "                   n_estimators=50, random_state=None)\n"
     ]
    }
   ],
   "source": [
    "measure_adaboost((train_data, train_labels, test_data, test_labels), reduced_datasets)"
   ]
  },
  {
   "cell_type": "markdown",
   "metadata": {},
   "source": [
    "### SVM"
   ]
  },
  {
   "cell_type": "code",
   "execution_count": 85,
   "metadata": {},
   "outputs": [],
   "source": [
    "from sklearn.svm import SVC\n",
    "from sklearn.metrics import classification_report, confusion_matrix"
   ]
  },
  {
   "cell_type": "code",
   "execution_count": 106,
   "metadata": {},
   "outputs": [],
   "source": [
    "def limited(array, n):\n",
    "    return array[:n] if len(array) > n else array\n",
    "\n",
    "def limit_dataset(dataset, target_number_of_samples):\n",
    "    return (limited(array, target_number_of_samples) for array in dataset)"
   ]
  },
  {
   "cell_type": "code",
   "execution_count": 150,
   "metadata": {},
   "outputs": [],
   "source": [
    "def measure_svc(original_dataset, reduced_datasets, sample_limit=10000, noise_factor=0.0, noise_type=None):\n",
    "    limited_dataset = limit_dataset(original_dataset)\n",
    "    limited_reduced_datasets = map_over_reduced(reduced_datasets, limited, (sample_limit,))\n",
    "    \n",
    "    orig, applied = apply_classifier(SVC, limited_dataset, limited_reduced_datasets)\n",
    "    \n",
    "    persist_fitted_clfs('svm', orig, applied, noise_factor, noise_type)\n",
    "    \n",
    "    print_classification_reports('SVC', orig, applied, limited_dataset)"
   ]
  },
  {
   "cell_type": "code",
   "execution_count": null,
   "metadata": {},
   "outputs": [],
   "source": [
    "measure_svc((train_data, train_labels, test_data, test_labels), reduced_datasets)"
   ]
  },
  {
   "cell_type": "markdown",
   "metadata": {},
   "source": [
    "## Pomiar odporności klasyfikatorów na zaszumione dane (*robustness*)"
   ]
  },
  {
   "cell_type": "markdown",
   "metadata": {},
   "source": [
    "### Zaszumienie wektorów danych"
   ]
  },
  {
   "cell_type": "code",
   "execution_count": 133,
   "metadata": {},
   "outputs": [],
   "source": [
    "def noisify_vectors(data, noise_factor):    \n",
    "    vector_length = len(data[0])\n",
    "    number_of_samples = len(data)\n",
    "    epsilon = (np.random.rand(number_of_samples, vector_length) - 0.5) * 2 * 255 * noise_factor\n",
    "    new_data = data + epsilon\n",
    "    bounded = lambda p: min(max(p, 0), 255)\n",
    "    return np.vectorize(bounded)(new_data)"
   ]
  },
  {
   "cell_type": "code",
   "execution_count": null,
   "metadata": {},
   "outputs": [],
   "source": [
    "noise_factors = np.linspace(0.1, 0.5, 3)\n",
    "noise_type = 'vectors'\n",
    "\n",
    "for noise_factor in noise_factors:\n",
    "    noisy_train_data = noisify_vectors(train_data, noise_factor)\n",
    "    noisy_test_data = noisify_vectors(test_data)\n",
    "    \n",
    "    noisy_original_dataset = (noisy_train_data, train_labels, noisy_test_data, test_labels)\n",
    "    \n",
    "    noisy_reduced_datasets = reduce_dimensionality(noisy_train_data, noisy_test_data)\n",
    "    \n",
    "    measure_adaboost(noisy_original_dataset, noisy_reduced_datasets, noise_factor, noise_type)\n",
    "    measure_svm(noisy_original_dataset, noisy_reduced_datasets, noise_factor, noise_type)"
   ]
  },
  {
   "cell_type": "markdown",
   "metadata": {},
   "source": [
    "### Zaszumienie etykiet"
   ]
  },
  {
   "cell_type": "code",
   "execution_count": 119,
   "metadata": {},
   "outputs": [],
   "source": [
    "from copy import deepcopy\n",
    "\n",
    "def noisify_labels(labels, ratio):\n",
    "    new_labels = deepcopy(labels)\n",
    "    distinct_labels = np.unique(labels)\n",
    "    indices = np.random.choice(len(labels), int(ratio * len(labels)), replace=False)\n",
    "    for i in indices:\n",
    "        current_label = new_labels[i]\n",
    "        possible_labels = [l for l in distinct_labels if l != current_label]\n",
    "        new_labels[i] = np.random.choice(possible_labels, 1)[0]\n",
    "    return new_labels"
   ]
  },
  {
   "cell_type": "code",
   "execution_count": null,
   "metadata": {},
   "outputs": [],
   "source": [
    "noise_factors = np.linspace(0.1, 0.5, 3)\n",
    "noise_type = 'labels'\n",
    "\n",
    "for noise_factor in noise_factors:\n",
    "    noisified_original_dataset = (train_data, noisify_labels(train_labels), test_data, test_labels)\n",
    "    \n",
    "    measure_adaboost(noisified_original_dataset, reduced_datasets, noise_factor, noise_type)\n",
    "    measure_svm(noisified_original_dataset, reduced_datasets, noise_factor, noise_type)"
   ]
  },
  {
   "cell_type": "markdown",
   "metadata": {},
   "source": [
    "## Źródła"
   ]
  },
  {
   "cell_type": "markdown",
   "metadata": {},
   "source": [
    "* https://towardsdatascience.com/auto-encoder-what-is-it-and-what-is-it-used-for-part-1-3e5c6f017726\n",
    "* https://towardsdatascience.com/understanding-variational-autoencoders-vaes-f70510919f73\n",
    "* https://blog.keras.io/building-autoencoders-in-keras.html\n",
    "* https://www.tensorflow.org/tutorials/generative/cvae\n",
    "* https://towardsdatascience.com/the-robustness-of-machine-learning-algorithms-against-missing-or-abnormal-values-ec3222379905"
   ]
  }
 ],
 "metadata": {
  "kernelspec": {
   "display_name": "Python 3",
   "language": "python",
   "name": "python3"
  },
  "language_info": {
   "codemirror_mode": {
    "name": "ipython",
    "version": 3
   },
   "file_extension": ".py",
   "mimetype": "text/x-python",
   "name": "python",
   "nbconvert_exporter": "python",
   "pygments_lexer": "ipython3",
   "version": "3.7.6"
  }
 },
 "nbformat": 4,
 "nbformat_minor": 4
}
